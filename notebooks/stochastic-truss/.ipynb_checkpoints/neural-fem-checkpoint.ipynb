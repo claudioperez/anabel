{
 "cells": [
  {
   "cell_type": "markdown",
   "metadata": {},
   "source": [
    "# Finite Element Neural Networks"
   ]
  },
  {
   "cell_type": "markdown",
   "metadata": {},
   "source": [
    "**Table of Contents**\n",
    "\n",
    "- [Pure and Statically Composed](#Pure-and-Statically-Composed)\n",
    "- [Combinators, Composition & Categories](#Combinators-Composition--Categories)\n",
    "- [Automatic Differentiation](#Automatic-Differentiation)\n",
    "- [Compiling the Model](#Compiling-the-Model)"
   ]
  },
  {
   "cell_type": "markdown",
   "metadata": {},
   "source": [
    "## Pure and Statically Composed"
   ]
  },
  {
   "cell_type": "markdown",
   "metadata": {},
   "source": [
    "This notebook uses [Anabel](http://www.claudioperez.xyz/Projects/Anabel) with Jax\n",
    "\n",
    "- **Statically composed**\n",
    "\n",
    "Anabel allows us to annotate a computational graph that represents our finite element model through a YAML file that strongly resembles typical FEM input scripts.\n",
    "\n",
    "```yaml\n",
    "el:\n",
    "  model:\n",
    "    x0: # model node coordinates\n",
    "      n1: [     0.,    0.]\n",
    "      n2: [  4000.,    0.]\n",
    "      n3: [  8000.,    0.]\n",
    "      n4: [ 12000.,    0.]\n",
    "      n5: [  4000., 4000.]\n",
    "      n6: [  8000., 4000.]\n",
    "\n",
    "    bn: # model boundary conditions\n",
    "      n1: [1, 1]\n",
    "      n4: [0, 1]\n",
    "     \n",
    "    el:   # graph nodes\n",
    "      truss: {'jit': true}\n",
    "\n",
    "    mesh: # graph edges\n",
    "      e1: [truss,  [n1, n2]]\n",
    "      e2: [truss,  [n2, n3]]\n",
    "      e3: [truss,  [n3, n4]]\n",
    "      e4: [truss,  [n1, n5]]\n",
    "      e5: [truss,  [n5, n6]]\n",
    "      e6: [truss,  [n4, n6]]\n",
    "      e7: [truss,  [n2, n5]]\n",
    "      e8: [truss,  [n3, n6]]\n",
    "      e9: [truss,  [n3, n5]]\n",
    "```\n",
    "\n",
    "This is stored in a file which we will name `graph.yaml`. Now if we import `anabel`, we can load this data using the function `anabel.io.load`, which just lends some nice syntactic sugar for loading serialized data."
   ]
  },
  {
   "cell_type": "code",
   "execution_count": 16,
   "metadata": {},
   "outputs": [],
   "source": [
    "import anabel as ana\n",
    "\n",
    "graph = ana.io.load('graph.yaml')"
   ]
  },
  {
   "cell_type": "markdown",
   "metadata": {},
   "source": [
    "The variable `graph` just contains a simple Python dictionary with lists, floats, and strings. The function `anabel.io.load` currently supports input from JSON and YAML files, but any data serialization format can easily be used here."
   ]
  },
  {
   "cell_type": "markdown",
   "metadata": {},
   "source": [
    "## Combinators, Composition & Categories"
   ]
  },
  {
   "cell_type": "code",
   "execution_count": 8,
   "metadata": {},
   "outputs": [],
   "source": [
    "from elle import truss2d"
   ]
  },
  {
   "cell_type": "code",
   "execution_count": 9,
   "metadata": {},
   "outputs": [],
   "source": [
    "def truss_force(u, xyz, E, A):\n",
    "    DX = x0[1,0] - x0[0,0]\n",
    "    DY = x0[1,1] - x0[0,1]\n",
    "    L = jnp.linalg.norm([DX,DY])\n",
    "    return jnp.array([])"
   ]
  },
  {
   "cell_type": "code",
   "execution_count": 11,
   "metadata": {},
   "outputs": [],
   "source": [
    "elements = {\n",
    "    'model' :  ana.models.basic, \n",
    "    'truss' :  truss2d.force}"
   ]
  },
  {
   "cell_type": "code",
   "execution_count": 12,
   "metadata": {},
   "outputs": [],
   "source": [
    "model = ana.compose(elements, graph, node='el')"
   ]
  },
  {
   "cell_type": "code",
   "execution_count": 12,
   "metadata": {},
   "outputs": [
    {
     "data": {
      "text/plain": [
       "<Signature (dx, *, x0={'n1': [0.0, 0.0], 'n2': [4000.0, 0.0], 'n3': [8000.0, 0.0], 'n4': [12000.0, 0.0], 'n5': [4000.0, 4000.0], 'n6': [8000.0, 4000.0]}, params)>"
      ]
     },
     "execution_count": 12,
     "metadata": {},
     "output_type": "execute_result"
    }
   ],
   "source": [
    "import inspect\n",
    "inspect.signature(model)"
   ]
  },
  {
   "cell_type": "markdown",
   "metadata": {},
   "source": [
    "## Automatic Differentiation"
   ]
  },
  {
   "cell_type": "markdown",
   "metadata": {},
   "source": [
    "We will now automatically generate a function that produces the stiffness matrix of the model using automatic differentiation. Later on this technique will be used to obtain gradients of far more interesting parameters, but for the time being, this example will serve as an excellent introduction to the concept as most finite element analysts are very familiar with the idea that a stiffness matrix is simply the gradient or Hessian of some function.\n",
    "\n",
    "We begin by importing Google's open source [Jax] library. It's interface is designed to emmulate the numpy API, so working with it should be very familiar to anyone with some Python or Matlab experience."
   ]
  },
  {
   "cell_type": "code",
   "execution_count": 13,
   "metadata": {},
   "outputs": [],
   "source": [
    "import jax.numpy as jnp"
   ]
  },
  {
   "cell_type": "code",
   "execution_count": 13,
   "metadata": {},
   "outputs": [],
   "source": [
    "nvars = 11\n",
    "nf = 9\n",
    "nr = 3\n",
    "u = jnp.zeros(nf+nr,dtype='float32')\n",
    "\n",
    "Kf = ana.autodiff.stiffness_matrix(model, nf)\n",
    "\n",
    "def f(params):\n",
    "    kwds = {\n",
    "        \"params\":{\n",
    "          \"e1\": {\"A\" : params[ 2], \"E\": params[0]},\n",
    "          \"e2\": {\"A\" : params[ 3], \"E\": params[0]},\n",
    "          \"e3\": {\"A\" : params[ 4], \"E\": params[0]},\n",
    "          \"e4\": {\"A\" : params[ 5], \"E\": params[0]},\n",
    "          \"e5\": {\"A\" : params[ 6], \"E\": params[0]},\n",
    "          \"e6\": {\"A\" : params[ 7], \"E\": params[0]},\n",
    "          \"e7\": {\"A\" : params[ 8], \"E\": params[0]},\n",
    "          \"e8\": {\"A\" : params[ 9], \"E\": params[0]},\n",
    "          \"e9\": {\"A\" : params[10], \"E\": params[0]}}}\n",
    "\n",
    "    kf = Kf(u,**kwds)\n",
    "    load_vector = jnp.array([0., params[1], 0., params[1], 0., 0., 0., 0., 0.], dtype='float32')[:,None] \n",
    "    U = jnp.linalg.solve(kf, load_vector)\n",
    "    return U[[1,3], [0,0]]"
   ]
  },
  {
   "cell_type": "markdown",
   "metadata": {},
   "source": [
    "## Compiling the Model"
   ]
  },
  {
   "cell_type": "code",
   "execution_count": 14,
   "metadata": {},
   "outputs": [],
   "source": [
    "from jaxlib import xla_client\n",
    "import jax"
   ]
  },
  {
   "cell_type": "code",
   "execution_count": 15,
   "metadata": {},
   "outputs": [],
   "source": [
    "f = jax.jit(f)\n",
    "param_init = jnp.zeros(nvars,dtype='float32')\n",
    "\n",
    "f_xla = jax.xla_computation(f)\n",
    "\n",
    "fxla = xla_client.XlaComputation(f_xla(param_init).as_serialized_hlo_module_proto())\n",
    "\n",
    "with open('output.pb','wb') as f:\n",
    "    f.write( fxla.as_serialized_hlo_module_proto ( ) )"
   ]
  }
 ],
 "metadata": {
  "kernelspec": {
   "display_name": "Python 3",
   "language": "python",
   "name": "python3"
  },
  "language_info": {
   "codemirror_mode": {
    "name": "ipython",
    "version": 3
   },
   "file_extension": ".py",
   "mimetype": "text/x-python",
   "name": "python",
   "nbconvert_exporter": "python",
   "pygments_lexer": "ipython3",
   "version": "3.8.2"
  },
  "toc-showcode": false,
  "toc-showmarkdowntxt": false,
  "toc-showtags": false
 },
 "nbformat": 4,
 "nbformat_minor": 4
}
