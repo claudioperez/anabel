{
 "cells": [
  {
   "cell_type": "markdown",
   "metadata": {},
   "source": [
    "# Stochastic Truss"
   ]
  },
  {
   "cell_type": "code",
   "execution_count": 1,
   "metadata": {},
   "outputs": [],
   "source": [
    "import inspect\n",
    "\n",
    "import jax.numpy as jnp\n",
    "import numpy as onp\n",
    "\n",
    "import anabel as ana\n",
    "from elle import truss2d"
   ]
  },
  {
   "cell_type": "markdown",
   "metadata": {},
   "source": [
    "## Combinators, Composition & Categories"
   ]
  },
  {
   "cell_type": "code",
   "execution_count": null,
   "metadata": {},
   "outputs": [],
   "source": [
    "def truss(u, xyz, E, A):\n",
    "    L = jnp.linalg.norm(xyz[1,:]-xyz[0,:])\n",
    "    return jnp.array([])"
   ]
  },
  {
   "cell_type": "code",
   "execution_count": 2,
   "metadata": {},
   "outputs": [],
   "source": [
    "graph = ana.io.load('graph.yml')"
   ]
  },
  {
   "cell_type": "code",
   "execution_count": 3,
   "metadata": {},
   "outputs": [],
   "source": [
    "elements = {\n",
    "    'model' :  ana.models.basic, \n",
    "    'truss' :  truss2d.force}"
   ]
  },
  {
   "cell_type": "code",
   "execution_count": 4,
   "metadata": {},
   "outputs": [
    {
     "name": "stderr",
     "output_type": "stream",
     "text": [
      "/home/claudio/miniconda3/envs/piplin/lib/python3.8/site-packages/jax/lib/xla_bridge.py:116: UserWarning: No GPU/TPU found, falling back to CPU.\n",
      "  warnings.warn('No GPU/TPU found, falling back to CPU.')\n"
     ]
    },
    {
     "data": {
      "text/plain": [
       "<Signature (dx, *, x0={'n1': [0.0, 0.0], 'n2': [4000.0, 0.0], 'n3': [8000.0, 0.0], 'n4': [12000.0, 0.0], 'n5': [4000.0, 4000.0], 'n6': [8000.0, 4000.0]}, params)>"
      ]
     },
     "execution_count": 4,
     "metadata": {},
     "output_type": "execute_result"
    }
   ],
   "source": [
    "model = ana.compose(elements, graph, node='el')\n",
    "inspect.signature(model)"
   ]
  },
  {
   "cell_type": "markdown",
   "metadata": {},
   "source": [
    "## Automatic Differentiation"
   ]
  },
  {
   "cell_type": "code",
   "execution_count": 5,
   "metadata": {},
   "outputs": [],
   "source": [
    "nvars = 11\n",
    "nf = 9\n",
    "nr = 3\n",
    "u = onp.zeros(nf+nr,dtype='float32')\n",
    "\n",
    "Kf = ana.autodiff.stiffness_matrix(model, nf)\n",
    "\n",
    "def f(params):\n",
    "    kwds = {\n",
    "        \"params\":{\n",
    "          \"e1\": {\"A\" : params[ 2], \"E\": params[0]},\n",
    "          \"e2\": {\"A\" : params[ 3], \"E\": params[0]},\n",
    "          \"e3\": {\"A\" : params[ 4], \"E\": params[0]},\n",
    "          \"e4\": {\"A\" : params[ 5], \"E\": params[0]},\n",
    "          \"e5\": {\"A\" : params[ 6], \"E\": params[0]},\n",
    "          \"e6\": {\"A\" : params[ 7], \"E\": params[0]},\n",
    "          \"e7\": {\"A\" : params[ 8], \"E\": params[0]},\n",
    "          \"e8\": {\"A\" : params[ 9], \"E\": params[0]},\n",
    "          \"e9\": {\"A\" : params[10], \"E\": params[0]}}}\n",
    "\n",
    "    kf = Kf(u,**kwds)\n",
    "    load_vector = jnp.array([0., params[1], 0., params[1], 0., 0., 0., 0., 0.], dtype='float32')[:,None] \n",
    "    U = jnp.linalg.solve(kf, load_vector)\n",
    "    return U[[1,3], [0,0]]"
   ]
  },
  {
   "cell_type": "markdown",
   "metadata": {},
   "source": [
    "## Compilation"
   ]
  },
  {
   "cell_type": "code",
   "execution_count": 6,
   "metadata": {},
   "outputs": [],
   "source": [
    "from jaxlib import xla_client\n",
    "import jax"
   ]
  },
  {
   "cell_type": "code",
   "execution_count": 7,
   "metadata": {},
   "outputs": [],
   "source": [
    "f = jax.jit(f)\n",
    "param_init = jnp.zeros(nvars,dtype='float32')\n",
    "\n",
    "f_xla = jax.xla_computation(f)\n",
    "\n",
    "fxla = xla_client.XlaComputation(f_xla(param_init).as_serialized_hlo_module_proto())\n",
    "\n",
    "with open('output.pb','wb') as f:\n",
    "    f.write( fxla.as_serialized_hlo_module_proto ( ) )"
   ]
  }
 ],
 "metadata": {
  "kernelspec": {
   "display_name": "Python 3",
   "language": "python",
   "name": "python3"
  },
  "language_info": {
   "codemirror_mode": {
    "name": "ipython",
    "version": 3
   },
   "file_extension": ".py",
   "mimetype": "text/x-python",
   "name": "python",
   "nbconvert_exporter": "python",
   "pygments_lexer": "ipython3",
   "version": "3.8.2"
  }
 },
 "nbformat": 4,
 "nbformat_minor": 4
}
