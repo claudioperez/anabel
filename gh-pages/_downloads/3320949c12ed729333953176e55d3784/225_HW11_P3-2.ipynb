{
  "cells": [
    {
      "cell_type": "code",
      "execution_count": null,
      "metadata": {
        "collapsed": false
      },
      "outputs": [],
      "source": [
        "%matplotlib inline"
      ]
    },
    {
      "cell_type": "markdown",
      "metadata": {},
      "source": [
        "\nMDF Earthquake Response - 3\n===========================\n\nLorem ipsum dolor sit amet, consectetur adipiscing elit, sed do eiusmod\ntempor incididunt ut labore et dolore magna aliqua. Ut enim ad minim\nveniam, quis nostrud exercitation ullamco laboris nisi ut aliquip ex ea\ncommodo consequat. Duis aute irure dolor in reprehenderit in voluptate\nvelit esse cillum dolore eu fugiat nulla pariatur. Excepteur sint\noccaecat cupidatat non proident, sunt in culpa qui officia deserunt\nmollit anim id est laborum.\n"
      ]
    },
    {
      "cell_type": "code",
      "execution_count": null,
      "metadata": {
        "collapsed": false
      },
      "outputs": [],
      "source": [
        "import ema as em\nimport matplotlib.pyplot as plt\nimport numpy as np\n# %config InlineBackend.figure_format = 'svg' # used to make plots look nicer\nfrom ema_examples.dynamics import P09_07\nfrom ema.utilities.ipyutils import disp_sbs \n\nft = 12\nh = 12*ft\nm = 80/386.4\nE = 29000\nI = 1000\nEI = E*I\nRHA = False\n\nN = I = 3\nmdl = P09_07(h = h, m = m, EI = EI)\n# fig, ax = plt.subplots()\n# em.plot_structure(mdl, ax)\n\nm, k = em.Mass_matrix(mdl), em.K_matrix(mdl)\nk, m = em.analysis.StaticCondensation(k, m)\ndisp_sbs(m.df, k.df)\n\nfreq2, Phi = em.analysis.ModalAnalysis(mdl, norm='last')\nPhi\n\nomega = np.array([np.sqrt(np.real(freq)) for freq in freq2])\nomega\n\nM = Phi.T@m@Phi\nK = Phi.T@k@Phi"
      ]
    },
    {
      "cell_type": "markdown",
      "metadata": {},
      "source": [
        "Modal expansion of earthquake forces\r\n------------------------------------\r\n\r\nUt enim ad minim veniam, quis nostrud exercitation ullamco laboris nisi\r\nut aliquip ex ea commodo consequat. Duis aute irure dolor in\r\nreprehenderit in voluptate velit esse cillum dolore eu fugiat nulla\r\npariatur.\r\n\r\n\\begin{align}\\mathrm{p}_{\\mathrm{eff}}(t)=-\\mathrm{m} \\iota \\ddot{u}_{g}(t)\\end{align}\n\r\n\\begin{align}\\mathbf{m} \\iota=\\sum_{n=1}^{N} \\mathbf{s}_{n}=\\sum_{n=1}^{N} \\Gamma_{n} \\mathbf{m} \\phi_{n}\\end{align}\n\r\nExcepteur sint occaecat cupidatat non proident, sunt in culpa qui\r\nofficia deserunt mollit anim id est laborum.\r\n\n\n"
      ]
    },
    {
      "cell_type": "code",
      "execution_count": null,
      "metadata": {
        "collapsed": false
      },
      "outputs": [],
      "source": [
        "I = N = 3\niota = np.ones(I)\nL = np.array([sum(Phi.T[n,i]*sum(m[i,j]*iota[j] for j in range(I)) for i in range(I)) for n in range(N)])\nL = Phi.T@m@iota\nL\n\ngamma = np.array([L[n]/M[n,n]  for n in range(N)])\ngamma\n\ns = np.array([gamma[n]*(m@Phi.T[n]) for n in range(N)]).T\ns"
      ]
    },
    {
      "cell_type": "markdown",
      "metadata": {},
      "source": [
        "a) Determine $A_n$ and $D_n$\r\n----------------------------------------\r\n\n\n"
      ]
    },
    {
      "cell_type": "code",
      "execution_count": null,
      "metadata": {
        "collapsed": false
      },
      "outputs": [],
      "source": [
        "# Values read from response spectrum:\nD = np.array([0.877, 0.10, 0.04]) # inches\nD\n\n# if RHA:\nD = []\nu = []\nfor i, w in enumerate(omega):\n    zeta = 0.05\n    t, d = em.analysis.ElcentroRHA(zeta, w)\n    D.append(max(d))\n    u.append([t,d])\nprint(D)"
      ]
    },
    {
      "cell_type": "markdown",
      "metadata": {},
      "source": [
        "Plot modes:\r\n\n\n"
      ]
    },
    {
      "cell_type": "code",
      "execution_count": null,
      "metadata": {
        "collapsed": false
      },
      "outputs": [],
      "source": [
        "fig2, ax2 = plt.subplots()\nem.plot_structure(mdl, ax2)\nfor i in range(3):\n    plt.plot(10*u[i][0],200+300*u[i][1], linewidth=0.5)\nplt.show()\n\nA = np.array([D[n]*omega[n]**2 for n in range(N)])\nA"
      ]
    },
    {
      "cell_type": "markdown",
      "metadata": {},
      "source": [
        "b) Modal response quantities\r\n----------------------------\r\n\n\n"
      ]
    },
    {
      "cell_type": "markdown",
      "metadata": {},
      "source": [
        "Floor displacements\r\n~~~~~~~~~~~~~~~~~~~\r\n\n\n"
      ]
    },
    {
      "cell_type": "code",
      "execution_count": null,
      "metadata": {
        "collapsed": false
      },
      "outputs": [],
      "source": [
        "Un = np.array([[gamma[n]*Phi[i,n]*D[n] for n in range(N)]for i in range(I)])\nUn"
      ]
    },
    {
      "cell_type": "markdown",
      "metadata": {},
      "source": [
        "Story shears\r\n~~~~~~~~~~~~\r\n\n\n"
      ]
    },
    {
      "cell_type": "code",
      "execution_count": null,
      "metadata": {
        "collapsed": false
      },
      "outputs": [],
      "source": [
        "Vin = np.array([[sum(s[j,n]*A[n] for j in range(i, I)) for n in range(N)] for i in range(I)])\nVin"
      ]
    },
    {
      "cell_type": "markdown",
      "metadata": {},
      "source": [
        "Floor and base moments\r\n~~~~~~~~~~~~~~~~~~~~~~\r\n\n\n"
      ]
    },
    {
      "cell_type": "code",
      "execution_count": null,
      "metadata": {
        "collapsed": false
      },
      "outputs": [],
      "source": [
        "M_base = np.array([sum(s[i,n]*h*(i+1)*A[n]  for i in range(I)) for n in range(N)])\nM_base # kip-inch\n\nH = [h*(i+1) for i in range(I)]\nH\n\nM_floor = np.array([[sum((H[j]-h*(i+1))*s[j,n]*A[n] for j in range(i,N)) for n in range(N)] for i in range(I)])\nM_floor # kip-inch"
      ]
    },
    {
      "cell_type": "markdown",
      "metadata": {},
      "source": [
        "c) Peak modal response combination\r\n----------------------------------\r\n\r\nFor well-seperated modal frequencies, the SRSS method is employed.\r\n\n\n"
      ]
    },
    {
      "cell_type": "code",
      "execution_count": null,
      "metadata": {
        "collapsed": false
      },
      "outputs": [],
      "source": [
        "def ro(rno):\n    return np.sqrt(sum(rn**2 for rn in rno))"
      ]
    },
    {
      "cell_type": "markdown",
      "metadata": {},
      "source": [
        "Floor displacements\r\n~~~~~~~~~~~~~~~~~~~\r\n\n\n"
      ]
    },
    {
      "cell_type": "code",
      "execution_count": null,
      "metadata": {
        "collapsed": false
      },
      "outputs": [],
      "source": [
        "ro(Un.T)"
      ]
    },
    {
      "cell_type": "markdown",
      "metadata": {},
      "source": [
        "Story shears\r\n~~~~~~~~~~~~\r\n\n\n"
      ]
    },
    {
      "cell_type": "code",
      "execution_count": null,
      "metadata": {
        "collapsed": false
      },
      "outputs": [],
      "source": [
        "ro(Vin.T)"
      ]
    },
    {
      "cell_type": "markdown",
      "metadata": {},
      "source": [
        "Floor and base overturning moments\r\n~~~~~~~~~~~~~~~~~~~~~~~~~~~~~~~~~~\r\n\n\n"
      ]
    },
    {
      "cell_type": "code",
      "execution_count": null,
      "metadata": {
        "collapsed": false
      },
      "outputs": [],
      "source": [
        "ro(M_base)\n\nro(M_floor)"
      ]
    }
  ],
  "metadata": {
    "kernelspec": {
      "display_name": "Python 3",
      "language": "python",
      "name": "python3"
    },
    "language_info": {
      "codemirror_mode": {
        "name": "ipython",
        "version": 3
      },
      "file_extension": ".py",
      "mimetype": "text/x-python",
      "name": "python",
      "nbconvert_exporter": "python",
      "pygments_lexer": "ipython3",
      "version": "3.7.4"
    }
  },
  "nbformat": 4,
  "nbformat_minor": 0
}