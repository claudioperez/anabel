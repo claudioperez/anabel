{
  "cells": [
    {
      "cell_type": "code",
      "execution_count": null,
      "metadata": {
        "collapsed": false
      },
      "outputs": [],
      "source": [
        "%matplotlib inline"
      ]
    },
    {
      "cell_type": "markdown",
      "metadata": {},
      "source": [
        "\nLower Bound - 2\n===============\n"
      ]
    },
    {
      "cell_type": "code",
      "execution_count": null,
      "metadata": {
        "collapsed": false
      },
      "outputs": [],
      "source": [
        "import ema as em\nimport numpy as np\nimport sympy as sp\nimport matplotlib.pyplot as plt\n# %config InlineBackend.figure_format = 'svg'\n\n#Remove\nmdl = em.Model(2,3)\nn = mdl.dnodes\ne = mdl.delems\n\nmdl.node('1', 0.0, 0.0)\nmdl.node('2', 8.0, 0.0)\nmdl.node('3', 8.0, 6.0)\nmdl.node('4', 16., 6.0)\nmdl.node('5', 16., -4.)\n\n# elements\nmdl.beam('a', n['1'], n['2'])\nmdl.beam('b', n['2'], n['3'])\nmdl.beam('c', n['3'], n['4'])\nmdl.beam('d', n['4'], n['5'])\nmdl.truss('e', n['2'], n['4'])\n\n# redundants\nmdl.redundant(e['a'], '2')\nmdl.redundant(e['c'], '2')\nmdl.redundant(e['d'], '3')\nmdl.redundant(e['e'], '1')\n\n# Fixities\nmdl.fix(n['1'], ['x', 'y', 'rz'])\nmdl.fix(n['5'], ['x', 'y', 'rz'])\n\n# Loading\nn['3'].p['y'] = -30\nn['3'].p['x'] =  50\n\n# Define plastic capacity\ne['a'].Qp['+']['1'] = e['a'].Qp['-']['1'] = 1000\ne['a'].Qp['+']['2'] = e['a'].Qp['-']['2'] = 120\ne['a'].Qp['+']['3'] = e['a'].Qp['-']['3'] = 120\n \ne['c'].Qp['+']['1'] = e['c'].Qp['-']['1'] = 1000\ne['c'].Qp['+']['2'] = e['c'].Qp['-']['2'] = 120\ne['c'].Qp['+']['3'] = e['c'].Qp['-']['3'] = 120\n \ne['b'].Qp['+']['1'] = e['b'].Qp['-']['1'] = 1000\ne['b'].Qp['+']['2'] = e['b'].Qp['-']['2'] = 150\ne['b'].Qp['+']['3'] = e['b'].Qp['-']['3'] = 150\n\ne['d'].Qp['+']['1'] = e['d'].Qp['-']['1'] = 1000\ne['d'].Qp['+']['2'] = e['d'].Qp['-']['2'] = 180\ne['d'].Qp['+']['3'] = e['d'].Qp['-']['3'] = 180\n\ne['e'].Qp['+']['1'] = e['e'].Qp['-']['1'] =  30\n\nmdl.numDOF()\nem.analysis.characterize(mdl)\n\n#Remove\nfig, ax = plt.subplots(1,1)\nem.plot_structure(mdl, ax)\n\nB = em.B_matrix(mdl)\nA = em.A_matrix(mdl)\nQpl = em.Qpl_vector(mdl)\nP = em.P_vector(B)\nB\n\nA\n\nQpr = B.bari@P.f\n\n\nem.analysis.PlasticAnalysis_wLBT(mdl)"
      ]
    }
  ],
  "metadata": {
    "kernelspec": {
      "display_name": "Python 3",
      "language": "python",
      "name": "python3"
    },
    "language_info": {
      "codemirror_mode": {
        "name": "ipython",
        "version": 3
      },
      "file_extension": ".py",
      "mimetype": "text/x-python",
      "name": "python",
      "nbconvert_exporter": "python",
      "pygments_lexer": "ipython3",
      "version": "3.7.4"
    }
  },
  "nbformat": 4,
  "nbformat_minor": 0
}