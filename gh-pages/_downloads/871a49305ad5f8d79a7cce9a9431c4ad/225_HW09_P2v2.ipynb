{
  "cells": [
    {
      "cell_type": "code",
      "execution_count": null,
      "metadata": {
        "collapsed": false
      },
      "outputs": [],
      "source": [
        "%matplotlib inline"
      ]
    },
    {
      "cell_type": "markdown",
      "metadata": {},
      "source": [
        "\nModal analysis - 1r\n===================\n"
      ]
    },
    {
      "cell_type": "code",
      "execution_count": null,
      "metadata": {
        "collapsed": false
      },
      "outputs": [],
      "source": [
        "import ema as em\nimport matplotlib.pyplot as plt\nimport numpy as np\n# %config InlineBackend.figure_format = 'svg'\n\nmdl = em.rModel(2,3)\nn = mdl.dnodes\ne = mdl.delems\nw = 24\nh = 12\n\nmdl.frame((1,w), (3,h))\n\nfor node in n.values():\n    mdl.fix(node, 'rz')\n    \nn['4'].mass = 1\nn['6'].mass = 1\nn['8'].mass = 0.5\nmdl.fix(n['1'], ['x', 'y'])\nmdl.fix(n['2'], ['x', 'y'])\n\nmdl.DOF = [[10, 11, 12], [13, 14, 15], \n           [ 1, 11,  4], [ 1, 14,  5], \n           [ 2, 11,  6], [ 2, 14,  7], \n           [ 3, 11,  8], [ 3, 14,  9]]"
      ]
    },
    {
      "cell_type": "markdown",
      "metadata": {},
      "source": [
        "Part a)\r\n-------\r\n\n\n"
      ]
    },
    {
      "cell_type": "code",
      "execution_count": null,
      "metadata": {
        "collapsed": false
      },
      "outputs": [],
      "source": [
        "K = em.K_matrix(mdl)\nM = em.Mass_matrix(mdl)\nK.f*h**3\n\nM.f"
      ]
    },
    {
      "cell_type": "markdown",
      "metadata": {},
      "source": [
        "Part b)\r\n-------\r\n\n\n"
      ]
    },
    {
      "cell_type": "code",
      "execution_count": null,
      "metadata": {
        "collapsed": false
      },
      "outputs": [],
      "source": [
        "shapes = em.analysis.ModalAnalysis(mdl)\n\nshapes\n\nU = em.U_vector(em.A_matrix(mdl))\n\ncolors = ['b', 'y','pink']\nfig, ax = plt.subplots(1,3)\nfor i, shape in enumerate(shapes[1].T):\n    U[0:3] = shape\n    em.plot_modes(mdl, U, ax[i], color=colors[i], label=str(i+1))\nplt.legend();"
      ]
    },
    {
      "cell_type": "markdown",
      "metadata": {},
      "source": [
        "Part c) Verify orthogonality\r\n----------------------------\r\n\n\n"
      ]
    },
    {
      "cell_type": "code",
      "execution_count": null,
      "metadata": {
        "collapsed": false
      },
      "outputs": [],
      "source": [
        "phis = np.around(shapes[1], 7)\nphis\n\nprint(phis[:,0] @ M.f @ phis[:,1])\n\nprint(phis[:,0] @ M.f @ phis[:,2])\n\nprint(phis[:,1] @ M.f @ phis[:,2])"
      ]
    },
    {
      "cell_type": "markdown",
      "metadata": {},
      "source": [
        "Part d) Normalize modes.\r\n------------------------\r\n\n\n"
      ]
    },
    {
      "cell_type": "markdown",
      "metadata": {},
      "source": [
        "Each mode shape is normalized so that when multiplied by the problem\r\nvariable, $\\frac{1}{\\sqrt{m}}$, they will generate a modal mass\r\nmatrix, $M_n$, equal to the identity matrix.\r\n\n\n"
      ]
    },
    {
      "cell_type": "code",
      "execution_count": null,
      "metadata": {
        "collapsed": false
      },
      "outputs": [],
      "source": [
        "phi_n = np.zeros((3,3))\nphi_n[:,0] = phis[:,0]/((phis[:,0] @ M.f @ phis[:,0]))**(1/2)\nprint(phi_n[:,0])\nphi_n[:,0].T @ M.f @ phi_n[:,0]\n\nphi_n[:,1] = phis[:,1]/((phis[:,1] @ M.f @ phis[:,1]))**(1/2)\nprint(phi_n[:,1])\nphi_n[:,1].T @ M.f @ phi_n[:,1]\n\nphi_n[:,2] = phis[:,2]/((phis[:,2] @ M.f @ phis[:,2]))**(1/2)\nprint(phi_n[:,2])\nphi_n[:,2].T @ M.f @ phi_n[:,2]\n\nId = np.around(phi_n.T @ M.f @ phi_n,7)\nId"
      ]
    }
  ],
  "metadata": {
    "kernelspec": {
      "display_name": "Python 3",
      "language": "python",
      "name": "python3"
    },
    "language_info": {
      "codemirror_mode": {
        "name": "ipython",
        "version": 3
      },
      "file_extension": ".py",
      "mimetype": "text/x-python",
      "name": "python",
      "nbconvert_exporter": "python",
      "pygments_lexer": "ipython3",
      "version": "3.7.4"
    }
  },
  "nbformat": 4,
  "nbformat_minor": 0
}