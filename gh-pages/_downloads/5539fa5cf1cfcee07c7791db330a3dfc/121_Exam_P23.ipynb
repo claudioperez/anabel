{
  "cells": [
    {
      "cell_type": "code",
      "execution_count": null,
      "metadata": {
        "collapsed": false
      },
      "outputs": [],
      "source": [
        "%matplotlib inline"
      ]
    },
    {
      "cell_type": "markdown",
      "metadata": {},
      "source": [
        "\n33. Plastic Analysis\n====================\n"
      ]
    },
    {
      "cell_type": "code",
      "execution_count": null,
      "metadata": {
        "collapsed": false
      },
      "outputs": [],
      "source": [
        "import ema as em\nimport numpy as np\nimport sympy as sp\nimport matplotlib.pyplot as plt\n# %config InlineBackend.figure_format = 'svg'\n\nmdl = em.Model(2,3)\nn = mdl.dnodes\ne = mdl.delems\n\nmdl.xsection('default', 1e8, 40000)\nxt = mdl.xsection('truss', 10e3, 1)\n\nmdl.node('1',  0.0, 0.0)\nmdl.node('2',  6.0, 0.0)\nmdl.node('3',  6.0, 4.0)\nmdl.node('4', 12.0, 4.0)\n\nmdl.beam('a', n['1'], n['2'])\nmdl.beam('b', n['2'], n['3'])\nmdl.beam('c', n['3'], n['4'])\n\nmdl.fix(n['1'], ['x', 'y', 'rz'])\nmdl.roller(n['4'])\n\nmdl.numDOF()\n\n# Define plastic capacity\nQ_axial = 500\ne['a'].Qp['+']['1'] = e['a'].Qp['-']['1'] = Q_axial\ne['a'].Qp['+']['2'] = e['a'].Qp['-']['2'] = 200\ne['a'].Qp['+']['3'] = e['a'].Qp['-']['3'] = 200\ne['c'].Qp['+']['1'] = e['c'].Qp['-']['1'] = Q_axial\ne['c'].Qp['+']['2'] = e['c'].Qp['-']['2'] = 200\ne['c'].Qp['+']['3'] = e['c'].Qp['-']['3'] = 200\ne['b'].Qp['+']['1'] = e['b'].Qp['-']['1'] = Q_axial\ne['b'].Qp['+']['2'] = e['b'].Qp['-']['2'] = 240\ne['b'].Qp['+']['3'] = e['b'].Qp['-']['3'] = 240\n\nn['3'].p['y'] =-30\nn['3'].p['x'] = 30\nlambdac, Q = em.analysis.PlasticAnalysis_wLBT(mdl)\nlambdac\n\nQ"
      ]
    }
  ],
  "metadata": {
    "kernelspec": {
      "display_name": "Python 3",
      "language": "python",
      "name": "python3"
    },
    "language_info": {
      "codemirror_mode": {
        "name": "ipython",
        "version": 3
      },
      "file_extension": ".py",
      "mimetype": "text/x-python",
      "name": "python",
      "nbconvert_exporter": "python",
      "pygments_lexer": "ipython3",
      "version": "3.7.4"
    }
  },
  "nbformat": 4,
  "nbformat_minor": 0
}