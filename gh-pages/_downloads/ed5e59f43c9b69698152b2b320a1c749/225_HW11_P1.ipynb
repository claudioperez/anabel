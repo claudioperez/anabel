{
  "cells": [
    {
      "cell_type": "code",
      "execution_count": null,
      "metadata": {
        "collapsed": false
      },
      "outputs": [],
      "source": [
        "%matplotlib inline"
      ]
    },
    {
      "cell_type": "markdown",
      "metadata": {},
      "source": [
        "\nProblem 1\n=========\n"
      ]
    },
    {
      "cell_type": "code",
      "execution_count": null,
      "metadata": {
        "collapsed": false
      },
      "outputs": [],
      "source": [
        "import ema as em\nimport matplotlib.pyplot as plt\nimport numpy as np\n# %config InlineBackend.figure_format = 'svg' # used to make plots look nicer\nfrom ema_examples.dynamics import P09_07\nfrom ema.utilities.ipyutils import disp_sbs \n\nh = 1\nm = 1\nEI = 1/24\n\nmdl = P09_07(h = h, m = m, EI = EI)\nfig, ax = plt.subplots()\nem.plot_structure(mdl, ax)\n\nm, k = em.Mass_matrix(mdl), em.K_matrix(mdl)\nk, m = em.analysis.StaticCondensation(k, m)\ndisp_sbs(m.df, k.df)\n\nfreq2, Phi = em.analysis.ModalAnalysis(mdl, norm='last')\nPhi\n\nomegan = np.array([np.sqrt(np.real(freq)) for freq in freq2])\nomegan\n\nM = Phi.T@m@Phi\nK = Phi.T@k@Phi\nM"
      ]
    },
    {
      "cell_type": "markdown",
      "metadata": {},
      "source": [
        "a) Modal expansion of earthquake forces\r\n---------------------------------------\r\n\r\n\\begin{align}\\mathrm{p}_{\\mathrm{eff}}(t)=-\\mathrm{m} \\iota \\ddot{u}_{g}(t)\\end{align}\n\r\n\\begin{align}\\mathbf{m} \\iota=\\sum_{n=1}^{N} \\mathbf{s}_{n}=\\sum_{n=1}^{N} \\Gamma_{n} \\mathbf{m} \\phi_{n}\\end{align}\n\n\n"
      ]
    },
    {
      "cell_type": "code",
      "execution_count": null,
      "metadata": {
        "collapsed": false
      },
      "outputs": [],
      "source": [
        "I = N = 3\niota = np.ones(I)\nL = np.array([sum(Phi.T[n,i]*sum(m[i,j]*iota[j] for j in range(I)) for i in range(I)) for n in range(N)])\nL = Phi.T@m@iota\nL\n\ngamma = np.array([L[n]/M[n,n]  for n in range(N)])\ngamma\n\ns = np.array([gamma[n]*(m@Phi.T[n]) for n in range(N)]).T\ns\n\n# Remove\nassert abs(s[0,0] - 6.22008468e-01) <1e-7\nassert abs(s[1,0] - 1.07735027e+00) <1e-7\nassert abs(s[0,1] - 3.33333333e-01) <1e-7"
      ]
    },
    {
      "cell_type": "markdown",
      "metadata": {},
      "source": [
        "Floor displacement response in terms of $D_n(t)$\r\n------------------------------------------------------\r\n\n\n"
      ]
    },
    {
      "cell_type": "code",
      "execution_count": null,
      "metadata": {
        "collapsed": false
      },
      "outputs": [],
      "source": [
        "Un = [[gamma[n]*Phi[i,n] for n in range(N)]for i in range(I)]\nUn"
      ]
    },
    {
      "cell_type": "markdown",
      "metadata": {},
      "source": [
        "Story shear response in terms of $A_n(t)$\r\n-----------------------------------------------\r\n\n\n"
      ]
    },
    {
      "cell_type": "code",
      "execution_count": null,
      "metadata": {
        "collapsed": false
      },
      "outputs": [],
      "source": [
        "Vin = np.array([sum(s[j] for j in range(i, I)) for i in range(I)])\nVin\n\nassert abs(Vin[0,0] - 2.32136721) <1e-7\nassert abs(Vin[1,0] - 1.69935874) <1e-7\nassert abs(Vin[0,1] - 0.16666667) <1e-7"
      ]
    },
    {
      "cell_type": "markdown",
      "metadata": {},
      "source": [
        "d) Base overturning moment in terms of $A_n(t)$\r\n-----------------------------------------------------\r\n\n\n"
      ]
    },
    {
      "cell_type": "code",
      "execution_count": null,
      "metadata": {
        "collapsed": false
      },
      "outputs": [],
      "source": [
        "Mbn = np.array([sum(s[i,n]*h*(i+1) for i in range(I)) for n in range(N)])\nMbn\n\nassert abs(Mbn[0] -  4.64273441) <1e-7\nassert abs(Mbn[1] - -0.16666666) <1e-7\nassert abs(Mbn[2] -  0.02393225) <1e-7"
      ]
    },
    {
      "cell_type": "markdown",
      "metadata": {},
      "source": [
        "e) Effective modal mass and heights.\r\n------------------------------------\r\n\n\n"
      ]
    },
    {
      "cell_type": "code",
      "execution_count": null,
      "metadata": {
        "collapsed": false
      },
      "outputs": [],
      "source": [
        "M_eff = np.array([gamma[n]*L[n] for n in range(N)])\nM_eff\n\nassert abs(M_eff[0] - 2.32136721) < 1e-7\nassert abs(M_eff[1] - 0.16666667) < 1e-7\nassert abs(M_eff[2] - 0.01196613) < 1e-7\n\nL_theta = np.array([sum(m[i,i]*h*(i+1)*Phi[i,n] for i in range(I)) for n in range(N)])\n\nh_eff = np.array([L_theta[n]/L[n] for n in range(N)])\nh_eff\n\nassert abs(h_eff[0] -  2.) < 1e-7\nassert abs(h_eff[1] - -1.) < 1e-7\nassert abs(h_eff[2] -  2.) < 1e-7"
      ]
    }
  ],
  "metadata": {
    "kernelspec": {
      "display_name": "Python 3",
      "language": "python",
      "name": "python3"
    },
    "language_info": {
      "codemirror_mode": {
        "name": "ipython",
        "version": 3
      },
      "file_extension": ".py",
      "mimetype": "text/x-python",
      "name": "python",
      "nbconvert_exporter": "python",
      "pygments_lexer": "ipython3",
      "version": "3.7.4"
    }
  },
  "nbformat": 4,
  "nbformat_minor": 0
}