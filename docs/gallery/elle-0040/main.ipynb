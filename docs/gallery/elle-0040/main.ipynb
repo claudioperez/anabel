{
 "cells": [
  {
   "cell_type": "code",
   "execution_count": 3,
   "id": "b11d61ba",
   "metadata": {},
   "outputs": [],
   "source": [
    "# trial:  (2,) -> (6,1)\n",
    "# transf: (2, (6,2)) -> (2,1)\n",
    "@functional(\"trial[0] -> trial[1]\")\n",
    "def poisson(transf, trial, test, f):\n",
    "    jac_transf = lambda f: lambda xi: inv()@diff.jacx(f)\n",
    "    @integral\n",
    "    def body(u,xi,dxi):\n",
    "        x = transf(xi)\n",
    "        return anp.inner(jac(trial)(xi), jac(test)(xi))*dxi @ u - f(x)*test(xi)*dxi\n",
    "    \n",
    "    @body.tangent\n",
    "    def tangent(u,x,dx):\n",
    "        return anp.inner(jac(trial(x)), jac(test(x)))*dx"
   ]
  },
  {
   "cell_type": "markdown",
   "id": "95ec1a27",
   "metadata": {},
   "source": [
    "`transf`: map from reference element into domain"
   ]
  },
  {
   "cell_type": "code",
   "execution_count": null,
   "id": "af70d31a",
   "metadata": {},
   "outputs": [],
   "source": [
    "f = lambda x: 4.0\n",
    "trial, test, mapping = [lagrange_t6]*3\n",
    "MappedMesh(mesh, mapping, poisson(trial,test, f))"
   ]
  },
  {
   "cell_type": "code",
   "execution_count": null,
   "id": "1883758c",
   "metadata": {},
   "outputs": [],
   "source": [
    "def transformation(f):\n",
    "    transf = lambda x,*args, **kwds: f(x,*args,**kwds)@x\n",
    "    transf.jacx = f\n",
    "    return f\n",
    "\n",
    "def assemble(mesh,transf,body, t=1.0):\n",
    "    ...\n",
    "    det = anp.linalg.det\n",
    "#     jac = diff.jacx(transf)\n",
    "    def f(u,_,__,X,dX):\n",
    "        return 0.5*t*sum(\n",
    "            body(u, transf(x,xyz), det(jac(transf)(x,xyz))*dx) \n",
    "            for x, dx in zip(X,dX)\n",
    "        )"
   ]
  },
  {
   "cell_type": "code",
   "execution_count": null,
   "id": "44dc5949",
   "metadata": {},
   "outputs": [],
   "source": [
    "def assemble(N,dN):\n",
    "    def ip(xi,dxi):\n",
    "        dNdx = lambda xyz: N(xi)@xyz\n",
    "        dvol = 0.5*dx*det(dN)\n",
    "    for x,dx in zip(X,dX):\n",
    "        dNdx = ip(x,dx)\n",
    "        \n",
    "        "
   ]
  }
 ],
 "metadata": {
  "kernelspec": {
   "display_name": "Python 3",
   "language": "python",
   "name": "python3"
  },
  "language_info": {
   "codemirror_mode": {
    "name": "ipython",
    "version": 3
   },
   "file_extension": ".py",
   "mimetype": "text/x-python",
   "name": "python",
   "nbconvert_exporter": "python",
   "pygments_lexer": "ipython3",
   "version": "3.8.8"
  }
 },
 "nbformat": 4,
 "nbformat_minor": 5
}
