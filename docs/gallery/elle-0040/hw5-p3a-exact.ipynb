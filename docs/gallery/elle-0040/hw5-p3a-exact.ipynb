{
 "cells": [
  {
   "cell_type": "code",
   "execution_count": 41,
   "id": "69af5d54",
   "metadata": {},
   "outputs": [],
   "source": [
    "import sympy as sp"
   ]
  },
  {
   "cell_type": "code",
   "execution_count": 42,
   "id": "9479c9af",
   "metadata": {},
   "outputs": [],
   "source": [
    "x, alpha = sp.symbols(\"x alpha\")"
   ]
  },
  {
   "cell_type": "code",
   "execution_count": 43,
   "id": "2e847d42",
   "metadata": {},
   "outputs": [],
   "source": [
    "f = sp.pi**2*sp.Rational(1,100)*sum(sp.sin((1+k*2)*sp.pi*x) for k in range(5))"
   ]
  },
  {
   "cell_type": "code",
   "execution_count": 44,
   "id": "19b2f431",
   "metadata": {},
   "outputs": [
    {
     "data": {
      "text/latex": [
       "$\\displaystyle \\frac{\\pi^{2} \\left(\\sin{\\left(\\pi x \\right)} + \\sin{\\left(3 \\pi x \\right)} + \\sin{\\left(5 \\pi x \\right)} + \\sin{\\left(7 \\pi x \\right)} + \\sin{\\left(9 \\pi x \\right)}\\right)}{100}$"
      ],
      "text/plain": [
       "pi**2*(sin(pi*x) + sin(3*pi*x) + sin(5*pi*x) + sin(7*pi*x) + sin(9*pi*x))/100"
      ]
     },
     "execution_count": 44,
     "metadata": {},
     "output_type": "execute_result"
    }
   ],
   "source": [
    "f"
   ]
  },
  {
   "cell_type": "code",
   "execution_count": 45,
   "id": "de0d5331",
   "metadata": {},
   "outputs": [],
   "source": [
    "u = -1/alpha*sp.integrate(sp.integrate(f))"
   ]
  },
  {
   "cell_type": "code",
   "execution_count": 46,
   "id": "eacc942c",
   "metadata": {},
   "outputs": [
    {
     "data": {
      "text/latex": [
       "$\\displaystyle \\frac{\\frac{\\sin{\\left(\\pi x \\right)}}{100} + \\frac{\\sin{\\left(3 \\pi x \\right)}}{900} + \\frac{\\sin{\\left(5 \\pi x \\right)}}{2500} + \\frac{\\sin{\\left(7 \\pi x \\right)}}{4900} + \\frac{\\sin{\\left(9 \\pi x \\right)}}{8100}}{\\alpha}$"
      ],
      "text/plain": [
       "(sin(pi*x)/100 + sin(3*pi*x)/900 + sin(5*pi*x)/2500 + sin(7*pi*x)/4900 + sin(9*pi*x)/8100)/alpha"
      ]
     },
     "execution_count": 46,
     "metadata": {},
     "output_type": "execute_result"
    }
   ],
   "source": [
    "u.simplify()"
   ]
  },
  {
   "cell_type": "code",
   "execution_count": 47,
   "id": "0a53ac92",
   "metadata": {},
   "outputs": [
    {
     "data": {
      "text/latex": [
       "$\\displaystyle 0$"
      ],
      "text/plain": [
       "0"
      ]
     },
     "execution_count": 47,
     "metadata": {},
     "output_type": "execute_result"
    }
   ],
   "source": [
    "-alpha*u.diff(x,2) - f"
   ]
  },
  {
   "cell_type": "code",
   "execution_count": 48,
   "id": "ed16febd",
   "metadata": {},
   "outputs": [
    {
     "name": "stdout",
     "output_type": "stream",
     "text": [
      "-pi**2*(-sin(pi*x)/pi**2 - sin(3*pi*x)/(9*pi**2) - sin(5*pi*x)/(25*pi**2) - sin(7*pi*x)/(49*pi**2) - sin(9*pi*x)/(81*pi**2))/(100*alpha)\n"
     ]
    }
   ],
   "source": [
    "print(u)"
   ]
  },
  {
   "cell_type": "markdown",
   "id": "ae31884a",
   "metadata": {},
   "source": [
    "## Check"
   ]
  },
  {
   "cell_type": "code",
   "execution_count": 49,
   "id": "55e9be88",
   "metadata": {},
   "outputs": [],
   "source": [
    "u = sum(sp.sin((1+k*2)*sp.pi*x)/(1+k*2)**2 for k in range(5))/alpha/100"
   ]
  },
  {
   "cell_type": "code",
   "execution_count": 50,
   "id": "fc319bea",
   "metadata": {},
   "outputs": [
    {
     "data": {
      "text/latex": [
       "$\\displaystyle \\frac{\\frac{\\sin{\\left(\\pi x \\right)}}{100} + \\frac{\\sin{\\left(3 \\pi x \\right)}}{900} + \\frac{\\sin{\\left(5 \\pi x \\right)}}{2500} + \\frac{\\sin{\\left(7 \\pi x \\right)}}{4900} + \\frac{\\sin{\\left(9 \\pi x \\right)}}{8100}}{\\alpha}$"
      ],
      "text/plain": [
       "(sin(pi*x)/100 + sin(3*pi*x)/900 + sin(5*pi*x)/2500 + sin(7*pi*x)/4900 + sin(9*pi*x)/8100)/alpha"
      ]
     },
     "execution_count": 50,
     "metadata": {},
     "output_type": "execute_result"
    }
   ],
   "source": [
    "u.simplify()"
   ]
  },
  {
   "cell_type": "code",
   "execution_count": 51,
   "id": "521b32a3",
   "metadata": {},
   "outputs": [
    {
     "data": {
      "text/latex": [
       "$\\displaystyle 0$"
      ],
      "text/plain": [
       "0"
      ]
     },
     "execution_count": 51,
     "metadata": {},
     "output_type": "execute_result"
    }
   ],
   "source": [
    "(-alpha*u.diff(x,2) - f).simplify()"
   ]
  },
  {
   "cell_type": "code",
   "execution_count": null,
   "id": "7900b5bc",
   "metadata": {},
   "outputs": [],
   "source": []
  }
 ],
 "metadata": {
  "kernelspec": {
   "display_name": "Python 3",
   "language": "python",
   "name": "python3"
  },
  "language_info": {
   "codemirror_mode": {
    "name": "ipython",
    "version": 3
   },
   "file_extension": ".py",
   "mimetype": "text/x-python",
   "name": "python",
   "nbconvert_exporter": "python",
   "pygments_lexer": "ipython3",
   "version": "3.8.8"
  }
 },
 "nbformat": 4,
 "nbformat_minor": 5
}
