{
 "cells": [
  {
   "cell_type": "markdown",
   "id": "55c610e6",
   "metadata": {},
   "source": [
    "http://people.math.gatech.edu/~xchen/teach/pde/heat/Heat-Duhamel.pdf"
   ]
  },
  {
   "cell_type": "code",
   "execution_count": 2,
   "id": "aa3d4717",
   "metadata": {},
   "outputs": [],
   "source": [
    "import sympy as sp"
   ]
  },
  {
   "cell_type": "code",
   "execution_count": 3,
   "id": "1e9e070d",
   "metadata": {},
   "outputs": [],
   "source": [
    "x, t, alpha = sp.symbols(\"x t alpha\")"
   ]
  },
  {
   "cell_type": "code",
   "execution_count": 6,
   "id": "b320c51c",
   "metadata": {},
   "outputs": [],
   "source": [
    "f = sp.pi**2*sp.Rational(1,100)*sum(sp.sin((1+k*2)*sp.pi*x) for k in range(5))*sp.sin(sp.pi*t)"
   ]
  },
  {
   "cell_type": "code",
   "execution_count": 7,
   "id": "ee21b95e",
   "metadata": {},
   "outputs": [
    {
     "data": {
      "text/latex": [
       "$\\displaystyle \\frac{\\pi^{2} \\left(\\sin{\\left(\\pi x \\right)} + \\sin{\\left(3 \\pi x \\right)} + \\sin{\\left(5 \\pi x \\right)} + \\sin{\\left(7 \\pi x \\right)} + \\sin{\\left(9 \\pi x \\right)}\\right) \\sin{\\left(\\pi t \\right)}}{100}$"
      ],
      "text/plain": [
       "pi**2*(sin(pi*x) + sin(3*pi*x) + sin(5*pi*x) + sin(7*pi*x) + sin(9*pi*x))*sin(pi*t)/100"
      ]
     },
     "execution_count": 7,
     "metadata": {},
     "output_type": "execute_result"
    }
   ],
   "source": [
    "f"
   ]
  },
  {
   "cell_type": "code",
   "execution_count": 10,
   "id": "1ffe852e",
   "metadata": {},
   "outputs": [
    {
     "name": "stdout",
     "output_type": "stream",
     "text": [
      "[pi**2*sin(pi*t)/100, pi**2*sin(pi*t)/100, pi**2*sin(pi*t)/100, pi**2*sin(pi*t)/100, pi**2*sin(pi*t)/100]\n"
     ]
    }
   ],
   "source": [
    "XI = [(2*k+1)*sp.pi for k in range(5)]\n",
    "bn = [2*sp.integrate(f*sp.sin(xi*x),(x,0,1)) for xi in XI]\n",
    "print(bn)\n"
   ]
  },
  {
   "cell_type": "code",
   "execution_count": 11,
   "id": "8c6addb7",
   "metadata": {},
   "outputs": [
    {
     "name": "stdout",
     "output_type": "stream",
     "text": [
      "[pi**2*(pi*alpha*sin(pi*t)/(pi**3*alpha**2 + pi) - cos(pi*t)/(pi**3*alpha**2 + pi))/100 + pi**2/(100*(pi**3*alpha**2*exp(pi**2*alpha*t) + pi*exp(pi**2*alpha*t))), pi**2*(9*pi*alpha*sin(pi*t)/(81*pi**3*alpha**2 + pi) - cos(pi*t)/(81*pi**3*alpha**2 + pi))/100 + pi**2/(100*(81*pi**3*alpha**2*exp(9*pi**2*alpha*t) + pi*exp(9*pi**2*alpha*t))), pi**2*(25*pi*alpha*sin(pi*t)/(625*pi**3*alpha**2 + pi) - cos(pi*t)/(625*pi**3*alpha**2 + pi))/100 + pi**2/(100*(625*pi**3*alpha**2*exp(25*pi**2*alpha*t) + pi*exp(25*pi**2*alpha*t))), pi**2*(49*pi*alpha*sin(pi*t)/(2401*pi**3*alpha**2 + pi) - cos(pi*t)/(2401*pi**3*alpha**2 + pi))/100 + pi**2/(100*(2401*pi**3*alpha**2*exp(49*pi**2*alpha*t) + pi*exp(49*pi**2*alpha*t))), pi**2*(81*pi*alpha*sin(pi*t)/(6561*pi**3*alpha**2 + pi) - cos(pi*t)/(6561*pi**3*alpha**2 + pi))/100 + pi**2/(100*(6561*pi**3*alpha**2*exp(81*pi**2*alpha*t) + pi*exp(81*pi**2*alpha*t)))]\n"
     ]
    }
   ],
   "source": [
    "s = sp.symbols(\"s\")\n",
    "\n",
    "c = [\n",
    "      sp.integrate(\n",
    "        sp.pi**2/100*sp.sin(sp.pi*s)*sp.exp(-alpha*xi**2*(t-s)),\n",
    "        (s,0,t)) for n,xi in enumerate(XI)\n",
    "]\n",
    "print(c)\n"
   ]
  },
  {
   "cell_type": "code",
   "execution_count": 12,
   "id": "2dc81ec1",
   "metadata": {},
   "outputs": [
    {
     "data": {
      "text/latex": [
       "$\\displaystyle \\frac{\\pi^{2} \\left(\\frac{\\pi \\alpha \\sin{\\left(\\pi t \\right)}}{\\pi^{3} \\alpha^{2} + \\pi} - \\frac{\\cos{\\left(\\pi t \\right)}}{\\pi^{3} \\alpha^{2} + \\pi}\\right)}{100} + \\frac{\\pi^{2} \\left(\\frac{9 \\pi \\alpha \\sin{\\left(\\pi t \\right)}}{81 \\pi^{3} \\alpha^{2} + \\pi} - \\frac{\\cos{\\left(\\pi t \\right)}}{81 \\pi^{3} \\alpha^{2} + \\pi}\\right)}{100} + \\frac{\\pi^{2} \\left(\\frac{25 \\pi \\alpha \\sin{\\left(\\pi t \\right)}}{625 \\pi^{3} \\alpha^{2} + \\pi} - \\frac{\\cos{\\left(\\pi t \\right)}}{625 \\pi^{3} \\alpha^{2} + \\pi}\\right)}{100} + \\frac{\\pi^{2} \\left(\\frac{49 \\pi \\alpha \\sin{\\left(\\pi t \\right)}}{2401 \\pi^{3} \\alpha^{2} + \\pi} - \\frac{\\cos{\\left(\\pi t \\right)}}{2401 \\pi^{3} \\alpha^{2} + \\pi}\\right)}{100} + \\frac{\\pi^{2} \\left(\\frac{81 \\pi \\alpha \\sin{\\left(\\pi t \\right)}}{6561 \\pi^{3} \\alpha^{2} + \\pi} - \\frac{\\cos{\\left(\\pi t \\right)}}{6561 \\pi^{3} \\alpha^{2} + \\pi}\\right)}{100} + \\frac{\\pi^{2}}{100 \\left(6561 \\pi^{3} \\alpha^{2} e^{81 \\pi^{2} \\alpha t} + \\pi e^{81 \\pi^{2} \\alpha t}\\right)} + \\frac{\\pi^{2}}{100 \\left(2401 \\pi^{3} \\alpha^{2} e^{49 \\pi^{2} \\alpha t} + \\pi e^{49 \\pi^{2} \\alpha t}\\right)} + \\frac{\\pi^{2}}{100 \\left(625 \\pi^{3} \\alpha^{2} e^{25 \\pi^{2} \\alpha t} + \\pi e^{25 \\pi^{2} \\alpha t}\\right)} + \\frac{\\pi^{2}}{100 \\left(81 \\pi^{3} \\alpha^{2} e^{9 \\pi^{2} \\alpha t} + \\pi e^{9 \\pi^{2} \\alpha t}\\right)} + \\frac{\\pi^{2}}{100 \\left(\\pi^{3} \\alpha^{2} e^{\\pi^{2} \\alpha t} + \\pi e^{\\pi^{2} \\alpha t}\\right)}$"
      ],
      "text/plain": [
       "pi**2*(pi*alpha*sin(pi*t)/(pi**3*alpha**2 + pi) - cos(pi*t)/(pi**3*alpha**2 + pi))/100 + pi**2*(9*pi*alpha*sin(pi*t)/(81*pi**3*alpha**2 + pi) - cos(pi*t)/(81*pi**3*alpha**2 + pi))/100 + pi**2*(25*pi*alpha*sin(pi*t)/(625*pi**3*alpha**2 + pi) - cos(pi*t)/(625*pi**3*alpha**2 + pi))/100 + pi**2*(49*pi*alpha*sin(pi*t)/(2401*pi**3*alpha**2 + pi) - cos(pi*t)/(2401*pi**3*alpha**2 + pi))/100 + pi**2*(81*pi*alpha*sin(pi*t)/(6561*pi**3*alpha**2 + pi) - cos(pi*t)/(6561*pi**3*alpha**2 + pi))/100 + pi**2/(100*(6561*pi**3*alpha**2*exp(81*pi**2*alpha*t) + pi*exp(81*pi**2*alpha*t))) + pi**2/(100*(2401*pi**3*alpha**2*exp(49*pi**2*alpha*t) + pi*exp(49*pi**2*alpha*t))) + pi**2/(100*(625*pi**3*alpha**2*exp(25*pi**2*alpha*t) + pi*exp(25*pi**2*alpha*t))) + pi**2/(100*(81*pi**3*alpha**2*exp(9*pi**2*alpha*t) + pi*exp(9*pi**2*alpha*t))) + pi**2/(100*(pi**3*alpha**2*exp(pi**2*alpha*t) + pi*exp(pi**2*alpha*t)))"
      ]
     },
     "execution_count": 12,
     "metadata": {},
     "output_type": "execute_result"
    }
   ],
   "source": [
    "sum(c)"
   ]
  },
  {
   "cell_type": "code",
   "execution_count": null,
   "id": "c2c42dcb",
   "metadata": {},
   "outputs": [],
   "source": [
    "import numpy as np\n",
    "\n",
    "def b(s):\n",
    "    return [np.pi**2*np.sin(np.pi*s)/100 for k in range(5)]\n",
    "def ck(t):\n",
    "    pass\n",
    "\n",
    "def heat(xi,bn):\n",
    "\n",
    "    \n",
    "    def f(x,t):\n",
    "        pass\n",
    "        "
   ]
  }
 ],
 "metadata": {
  "kernelspec": {
   "display_name": "Python 3",
   "language": "python",
   "name": "python3"
  },
  "language_info": {
   "codemirror_mode": {
    "name": "ipython",
    "version": 3
   },
   "file_extension": ".py",
   "mimetype": "text/x-python",
   "name": "python",
   "nbconvert_exporter": "python",
   "pygments_lexer": "ipython3",
   "version": "3.8.8"
  }
 },
 "nbformat": 4,
 "nbformat_minor": 5
}
