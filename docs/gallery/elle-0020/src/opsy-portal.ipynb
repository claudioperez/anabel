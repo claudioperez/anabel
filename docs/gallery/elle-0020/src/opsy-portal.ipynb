{
 "cells": [
  {
   "cell_type": "code",
   "execution_count": 13,
   "metadata": {},
   "outputs": [],
   "source": [
    "import openseespy.opensees as ops\n",
    "import openseespy.postprocessing.ops_vis as opsv\n",
    "import matplotlib.pyplot as plt\n",
    "# import opensees as ops  # local compilation\n",
    "# import ops_vis as opsv  # local"
   ]
  },
  {
   "cell_type": "code",
   "execution_count": 14,
   "metadata": {},
   "outputs": [
    {
     "name": "stderr",
     "output_type": "stream",
     "text": [
      "Current Domain Information\n",
      "\tCurrent Time: 1\n",
      "tCommitted Time: 1\n",
      "NODE DATA: NumNodes: 4\n",
      "\n",
      "numComponents: 4\n",
      " Node: 1\n",
      "\tCoordinates  : 0 0 \n",
      "\tDisps: 0 0 0 \n",
      "\t unbalanced Load: 0 0 0 \n",
      "\tID : -1 -1 -1 \n",
      "\n",
      "\n",
      " Node: 2\n",
      "\tCoordinates  : 0 156 \n",
      "\tDisps: 5.51163 0.0248715 -0.0295316 \n",
      "\t unbalanced Load: 2000 0 0 \n",
      "\tID : 3 4 5 \n",
      "\n",
      "\n",
      " Node: 3\n",
      "\tCoordinates  : 360 0 \n",
      "\tDisps: 0 0 0 \n",
      "\t unbalanced Load: 0 0 0 \n",
      "\tID : -1 -1 -1 \n",
      "\n",
      "\n",
      " Node: 4\n",
      "\tCoordinates  : 360 156 \n",
      "\tDisps: 5.36679 -0.0248715 -0.0284346 \n",
      "\t unbalanced Load: 0 0 0 \n",
      "\tID : 0 1 2 \n",
      "\n",
      "ELEMENT DATA: NumEle: 3\n",
      "\n",
      "numComponents: 3\n",
      "ElasticBeam2d: 1\n",
      "\tConnected Nodes: 1 2 \n",
      "\tCoordTransf: 1\n",
      "\tmass density:  0, cMass: 0\n",
      "\trelease code:  0\n",
      "\tEnd 1 Forces (P V M): -330.599 1009.32 97569.3\n",
      "\tEnd 2 Forces (P V M): 330.599 -1009.32 59885.1\n",
      "\n",
      "ElasticBeam2d: 2\n",
      "\tConnected Nodes: 3 4 \n",
      "\tCoordTransf: 1\n",
      "\tmass density:  0, cMass: 0\n",
      "\trelease code:  0\n",
      "\tEnd 1 Forces (P V M): 330.599 990.677 95415\n",
      "\tEnd 2 Forces (P V M): -330.599 -990.677 59130.7\n",
      "\n",
      "ElasticBeam2d: 3\n",
      "\tConnected Nodes: 2 4 \n",
      "\tCoordTransf: 1\n",
      "\tmass density:  0, cMass: 0\n",
      "\trelease code:  0\n",
      "\tEnd 1 Forces (P V M): 990.677 -330.599 -59885.1\n",
      "\tEnd 2 Forces (P V M): -990.677 330.599 -59130.7\n",
      "\n",
      "SP_Constraints: numConstraints: 6\n",
      "\n",
      "numComponents: 6SP_Constraint: 0\t Node: 1 DOF: 1 ref value: 0 current value: 0\n",
      "SP_Constraint: 1\t Node: 1 DOF: 2 ref value: 0 current value: 0\n",
      "SP_Constraint: 2\t Node: 1 DOF: 3 ref value: 0 current value: 0\n",
      "SP_Constraint: 3\t Node: 3 DOF: 1 ref value: 0 current value: 0\n",
      "SP_Constraint: 4\t Node: 3 DOF: 2 ref value: 0 current value: 0\n",
      "SP_Constraint: 5\t Node: 3 DOF: 3 ref value: 0 current value: 0\n",
      "\n",
      "Pressure_Constraints: numConstraints: 0\n",
      "\n",
      "numComponents: 0\n",
      "MP_Constraints: numConstraints: 0\n",
      "\n",
      "numComponents: 0\n",
      "LOAD PATTERNS: numPatterns: 1\n",
      "\n",
      "\n",
      "numComponents: 1Load Pattern: 1\n",
      "  Scale Factor: 1\n",
      "Constant Series: factor: 1\n",
      "  Nodal Loads: \n",
      "\n",
      "numComponents: 1Nodal Load: 2 load : 2000 0 0 \n",
      "\n",
      "  Elemental Loads: \n",
      "\n",
      "numComponents: 0\n",
      "  Single Point Constraints: \n",
      "\n",
      "numComponents: 0\n",
      "PARAMETERS: numParameters: 0\n",
      "\n",
      "\n",
      "numComponents: 0"
     ]
    }
   ],
   "source": [
    "ft = 12.\n",
    "B,H = 30*ft, 13.*ft\n",
    "\n",
    "def f(E1, E2, Px):\n",
    "    ops.wipe()\n",
    "    ops.model('basic', '-ndm', 2, '-ndf', 3)\n",
    "\n",
    "    Acol, Agir = 576.0, 684.0\n",
    "    IzCol, IzGir = 27_648.0, 34_383.8\n",
    "\n",
    "    E = 3600.\n",
    "\n",
    "    Ep = {1: [E, Acol, IzCol],\n",
    "          2: [E, Acol, IzCol],\n",
    "          3: [E, Agir, IzGir]}\n",
    "\n",
    "    ops.node(1, 0., 0.)\n",
    "    ops.node(2, 0., H)\n",
    "    ops.node(3, B,  0.)\n",
    "    ops.node(4, B,  H)\n",
    "\n",
    "    ops.fix(1, 1, 1, 1)\n",
    "    ops.fix(3, 1, 1, 1)\n",
    "\n",
    "    ops.geomTransf('Linear', 1)\n",
    "\n",
    "    # columns\n",
    "    ops.element('elasticBeamColumn', 1, 1, 2, Acol, E, IzCol, 1)\n",
    "    ops.element('elasticBeamColumn', 2, 3, 4, Acol, E, IzCol, 1)\n",
    "    # girder\n",
    "    ops.element('elasticBeamColumn', 3, 2, 4, Agir, E, IzGir, 1)\n",
    "\n",
    "    Px = 2.e+3\n",
    "    Wy = -10.e+3\n",
    "    Wx = 0.\n",
    "\n",
    "    Ew = {3: ['-beamUniform', Wy, Wx]}\n",
    "\n",
    "    ops.timeSeries('Constant', 1)\n",
    "    ops.pattern('Plain', 1, 1)\n",
    "    ops.load(2, Px, 0., 0.)\n",
    "\n",
    "    # for etag in Ew:\n",
    "    #     ops.eleLoad('-ele', etag, '-type', Ew[etag][0], Ew[etag][1],\n",
    "    #                 Ew[etag][2])\n",
    "\n",
    "    ops.constraints('Transformation')\n",
    "    ops.numberer('RCM')\n",
    "    ops.numberer('Plain')\n",
    "    ops.system('BandGeneral')\n",
    "    ops.test('NormDispIncr', 1.0e-6, 6, 2)\n",
    "    ops.algorithm('Linear')\n",
    "    ops.integrator('LoadControl', 1)\n",
    "    ops.analysis('Static')\n",
    "    ops.analyze(1)\n",
    "\n",
    "ops.printModel()"
   ]
  },
  {
   "cell_type": "code",
   "execution_count": 15,
   "metadata": {},
   "outputs": [
    {
     "data": {
      "image/png": "[encoded data removed]",
      "text/plain": [
       "<Figure size 453.543x283.465 with 1 Axes>"
      ]
     },
     "metadata": {
      "needs_background": "light"
     },
     "output_type": "display_data"
    }
   ],
   "source": [
    "# 1. plot model with tag lebels\n",
    "\n",
    "szer, wys = 16., 10.\n",
    "\n",
    "fig = plt.figure(figsize=(szer/2.54, wys/2.54))\n",
    "fig.subplots_adjust(left=.08, bottom=.08, right=.985, top=.94)\n",
    "ax1 = plt.subplot(111)\n",
    "\n",
    "opsv.plot_model()"
   ]
  },
  {
   "cell_type": "code",
   "execution_count": 19,
   "metadata": {},
   "outputs": [
    {
     "data": {
      "text/plain": [
       "10.0"
      ]
     },
     "execution_count": 19,
     "metadata": {},
     "output_type": "execute_result"
    },
    {
     "data": {
      "image/png": "[encoded data removed]",
      "text/plain": [
       "<Figure size 432x288 with 1 Axes>"
      ]
     },
     "metadata": {
      "needs_background": "light"
     },
     "output_type": "display_data"
    }
   ],
   "source": [
    "# 2. plot deformed model\n",
    "sfac = 10.\n",
    "\n",
    "plt.figure()\n",
    "# plot_defo with optional arguments\n",
    "# sfac = opsv.plot_defo()\n",
    "opsv.plot_defo(sfac, fmt_interp='b.-')\n",
    "opsv.plot_defo(sfac, 5, interpFlag=0, fmt_nodes='bo-')\n",
    "opsv.plot_defo(sfac, 3, endDispFlag=0, fmt_interp='r.--')\n",
    "opsv.plot_defo(sfac, 2, fmt_interp='g.-')"
   ]
  },
  {
   "cell_type": "code",
   "execution_count": 17,
   "metadata": {},
   "outputs": [
    {
     "data": {
      "image/png": "[encoded data removed]",
      "text/plain": [
       "<Figure size 432x288 with 1 Axes>"
      ]
     },
     "metadata": {
      "needs_background": "light"
     },
     "output_type": "display_data"
    },
    {
     "data": {
      "image/png": "[encoded data removed]",
      "text/plain": [
       "<Figure size 432x288 with 1 Axes>"
      ]
     },
     "metadata": {
      "needs_background": "light"
     },
     "output_type": "display_data"
    },
    {
     "data": {
      "image/png": "[encoded data removed]",
      "text/plain": [
       "<Figure size 432x288 with 1 Axes>"
      ]
     },
     "metadata": {
      "needs_background": "light"
     },
     "output_type": "display_data"
    }
   ],
   "source": [
    "# print(f'sfac: {sfac}')  # return sfac if automatically calculated\n",
    "\n",
    "# 3. plot N, V, M forces diagrams\n",
    "\n",
    "sfacN, sfacV, sfacM = 5.e-5, 5.e-5, 5.e-5\n",
    "\n",
    "plt.figure()\n",
    "minVal, maxVal = opsv.section_force_diagram_2d('N', Ew, sfacN)\n",
    "plt.title(f'Axial forces, max = {maxVal:.2f}, min = {minVal:.2f}')\n",
    "\n",
    "plt.figure()\n",
    "minVal, maxVal = opsv.section_force_diagram_2d('T', Ew, sfacV)\n",
    "plt.title(f'Shear forces, max = {maxVal:.2f}, min = {minVal:.2f}')\n",
    "\n",
    "plt.figure()\n",
    "minVal, maxVal = opsv.section_force_diagram_2d('M', Ew, sfacM)\n",
    "plt.title(f'Bending moments, max = {maxVal:.2f}, min = {minVal:.2f}')\n",
    "\n",
    "plt.show()"
   ]
  },
  {
   "cell_type": "code",
   "execution_count": null,
   "metadata": {},
   "outputs": [],
   "source": []
  }
 ],
 "metadata": {
  "kernelspec": {
   "display_name": "Python 3",
   "language": "python",
   "name": "python3"
  },
  "language_info": {
   "codemirror_mode": {
    "name": "ipython",
    "version": 3
   },
   "file_extension": ".py",
   "mimetype": "text/x-python",
   "name": "python",
   "nbconvert_exporter": "python",
   "pygments_lexer": "ipython3",
   "version": "3.8.2"
  }
 },
 "nbformat": 4,
 "nbformat_minor": 4
}
