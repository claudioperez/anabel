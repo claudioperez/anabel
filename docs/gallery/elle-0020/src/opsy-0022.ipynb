{
 "cells": [
  {
   "cell_type": "markdown",
   "id": "71d8501c",
   "metadata": {},
   "source": [
    "# `0020` OpenSeesPy"
   ]
  },
  {
   "cell_type": "markdown",
   "id": "2aadf1dd",
   "metadata": {},
   "source": [
    "This notebook is adapted from the OpenSeesPy example at this [link](https://openseespydoc.readthedocs.io/en/latest/src/RCFrameGravity.html)."
   ]
  },
  {
   "cell_type": "code",
   "execution_count": 1,
   "id": "98f472a5",
   "metadata": {},
   "outputs": [],
   "source": [
    "from openseespy.opensees import *\n",
    "import openseespy.opensees as ops\n",
    "import openseespy.postprocessing.ops_vis as opsv\n",
    "import matplotlib.pyplot as plt"
   ]
  },
  {
   "cell_type": "code",
   "execution_count": 2,
   "id": "26ff7624",
   "metadata": {},
   "outputs": [
    {
     "data": {
      "image/png": "[encoded data removed]",
      "text/plain": [
       "<Figure size 432x288 with 1 Axes>"
      ]
     },
     "metadata": {
      "needs_background": "light"
     },
     "output_type": "display_data"
    }
   ],
   "source": [
    "# Create ModelBuilder (with two-dimensions and 3 DOF/node)\n",
    "ops.wipe()\n",
    "ops.model('basic', '-ndm', 2, '-ndf', 3)\n",
    "\n",
    "# Create nodes\n",
    "# ------------\n",
    "\n",
    "# Set parameters for overall model geometry\n",
    "width = 360.0\n",
    "height = 144.0\n",
    "\n",
    "# Create nodes\n",
    "#    tag, X, Y\n",
    "ops.node(1, 0.0, 0.0)\n",
    "ops.node(2, width, 0.0)\n",
    "ops.node(3, 0.0, height)\n",
    "ops.node(4, width, height)\n",
    "\n",
    "# Fix supports at base of columns\n",
    "#   tag, DX, DY, RZ\n",
    "ops.fix(1, 1, 1, 1)\n",
    "ops.fix(2, 1, 1, 1)\n",
    "\n",
    "# Define materials for nonlinear columns\n",
    "# ------------------------------------------\n",
    "# CONCRETE                   tag  f'c    ec0    f'cu   ecu\n",
    "# Core concrete (confined)\n",
    "uniaxialMaterial('Concrete01', 1, -6.0, -0.004, -5.0, -0.014)\n",
    "\n",
    "# Cover concrete (unconfined)\n",
    "uniaxialMaterial('Concrete01', 2, -5.0, -0.002, 0.0, -0.006)\n",
    "\n",
    "# STEEL\n",
    "# Reinforcing steel\n",
    "fy = 60.0;  # Yield stress\n",
    "E = 30000.0;  # Young's modulus\n",
    "#                         tag  fy E0    b\n",
    "uniaxialMaterial('Steel01', 3, fy, E, 0.01)\n",
    "\n",
    "# Define cross-section for nonlinear columns\n",
    "# ------------------------------------------\n",
    "\n",
    "#  some parameters\n",
    "colWidth = 15\n",
    "colDepth = 24\n",
    "\n",
    "cover = 1.5\n",
    "As = 0.60  # area of no. 7 bars\n",
    "\n",
    "# some variables derived from the parameters\n",
    "y1 = colDepth / 2.0\n",
    "z1 = colWidth / 2.0\n",
    "\n",
    "section('Fiber', 1)\n",
    "\n",
    "# Create the concrete core fibers\n",
    "patch('rect', 1, 10, 1, cover - y1, cover - z1, y1 - cover, z1 - cover)\n",
    "\n",
    "# Create the concrete cover fibers (top, bottom, left, right)\n",
    "patch('rect', 2, 10, 1, -y1, z1 - cover, y1, z1)\n",
    "patch('rect', 2, 10, 1, -y1, -z1, y1, cover - z1)\n",
    "patch('rect', 2, 2, 1, -y1, cover - z1, cover - y1, z1 - cover)\n",
    "patch('rect', 2, 2, 1, y1 - cover, cover - z1, y1, z1 - cover)\n",
    "\n",
    "# Create the reinforcing fibers (left, middle, right)\n",
    "layer('straight', 3, 3, As, y1 - cover, z1 - cover, y1 - cover, cover - z1)\n",
    "layer('straight', 3, 2, As, 0.0, z1 - cover, 0.0, cover - z1)\n",
    "layer('straight', 3, 3, As, cover - y1, z1 - cover, cover - y1, cover - z1)\n",
    "\n",
    "# Define column elements\n",
    "# ----------------------\n",
    "\n",
    "# Geometry of column elements\n",
    "#                tag\n",
    "\n",
    "geomTransf('PDelta', 1)\n",
    "\n",
    "# Number of integration points along length of element\n",
    "np = 5\n",
    "\n",
    "# Lobatto integratoin\n",
    "beamIntegration('Lobatto', 1, 1, np)\n",
    "\n",
    "# Create the coulumns using Beam-column elements\n",
    "#               e            tag ndI ndJ transfTag integrationTag\n",
    "eleType = 'forceBeamColumn'\n",
    "element(eleType, 1, 1, 3, 1, 1)\n",
    "element(eleType, 2, 2, 4, 1, 1)\n",
    "\n",
    "# Define beam elment\n",
    "# -----------------------------\n",
    "\n",
    "# Geometry of column elements\n",
    "#                tag\n",
    "geomTransf('Linear', 2)\n",
    "\n",
    "# Create the beam element\n",
    "#                          tag, ndI, ndJ, A,     E,    Iz, transfTag\n",
    "element('elasticBeamColumn', 3, 3, 4, 360.0, 4030.0, 8640.0, 2)\n",
    "\n",
    "# Define gravity loads\n",
    "# --------------------\n",
    "\n",
    "#  a parameter for the axial load\n",
    "P = 180.0;  # 10% of axial capacity of columns\n",
    "\n",
    "# Create a Plain load pattern with a Linear TimeSeries\n",
    "timeSeries('Linear', 1)\n",
    "pattern('Plain', 1, 1)\n",
    "\n",
    "# Create nodal loads at nodes 3 & 4\n",
    "#    nd  FX,  FY, MZ\n",
    "load(3, 0.0, -P, 0.0)\n",
    "load(4, 0.0, -P, 0.0)\n",
    "\n",
    "opsv.plot_model()"
   ]
  },
  {
   "cell_type": "code",
   "execution_count": 3,
   "id": "24ae382f",
   "metadata": {},
   "outputs": [],
   "source": [
    "# ------------------------------\n",
    "# Start of analysis generation\n",
    "# ------------------------------\n",
    "\n",
    "# Create the system of equation, a sparse solver with partial pivoting\n",
    "ops.system('BandGeneral')\n",
    "\n",
    "# Create the constraint handler, the transformation method\n",
    "ops.constraints('Transformation')\n",
    "\n",
    "# Create the DOF numberer, the reverse Cuthill-McKee algorithm\n",
    "ops.numberer('RCM')\n",
    "\n",
    "# Create the convergence test, the norm of the residual with a tolerance of\n",
    "# 1e-12 and a max number of iterations of 10\n",
    "ops.test('NormDispIncr', 1.0e-12, 10, 3)\n",
    "\n",
    "# Create the solution algorithm, a Newton-Raphson algorithm\n",
    "ops.algorithm('Newton')\n",
    "\n",
    "# Create the integration scheme, the LoadControl scheme using steps of 0.1\n",
    "ops.integrator('LoadControl', 0.1)\n",
    "\n",
    "# Create the analysis object\n",
    "ops.analysis('Static')\n",
    "\n",
    "# ------------------------------\n",
    "# End of analysis generation\n",
    "# ------------------------------"
   ]
  },
  {
   "cell_type": "code",
   "execution_count": 4,
   "id": "05c2189a",
   "metadata": {},
   "outputs": [
    {
     "name": "stdout",
     "output_type": "stream",
     "text": [
      "Passed!\n"
     ]
    }
   ],
   "source": [
    "# ------------------------------\n",
    "# perform the analysis\n",
    "# ------------------------------\n",
    "\n",
    "# perform the gravity load analysis, requires 10 steps to reach the load level\n",
    "ops.analyze(10)\n",
    "\n",
    "# Print out the state of nodes 3 and 4\n",
    "# print node 3 4\n",
    "\n",
    "# Print out the state of element 1\n",
    "# print ele 1\n",
    "\n",
    "u3 = nodeDisp(3, 2)\n",
    "u4 = nodeDisp(4, 2)\n",
    "\n",
    "if abs(u3 + 0.0183736) < 1e-6 and abs(u4 + 0.0183736) < 1e-6:\n",
    "    print(\"Passed!\")\n",
    "else:\n",
    "    print(\"Failed!\")"
   ]
  },
  {
   "cell_type": "code",
   "execution_count": 6,
   "id": "e431ebff",
   "metadata": {},
   "outputs": [
    {
     "data": {
      "text/plain": [
       "100"
      ]
     },
     "execution_count": 6,
     "metadata": {},
     "output_type": "execute_result"
    },
    {
     "data": {
      "image/png": "[encoded data removed]",
      "text/plain": [
       "<Figure size 432x288 with 1 Axes>"
      ]
     },
     "metadata": {
      "needs_background": "light"
     },
     "output_type": "display_data"
    }
   ],
   "source": [
    "opsv.plot_defo(100)"
   ]
  },
  {
   "cell_type": "code",
   "execution_count": null,
   "id": "f970b90a",
   "metadata": {},
   "outputs": [],
   "source": []
  }
 ],
 "metadata": {
  "kernelspec": {
   "display_name": "Python 3",
   "language": "python",
   "name": "python3"
  },
  "language_info": {
   "codemirror_mode": {
    "name": "ipython",
    "version": 3
   },
   "file_extension": ".py",
   "mimetype": "text/x-python",
   "name": "python",
   "nbconvert_exporter": "python",
   "pygments_lexer": "ipython3",
   "version": "3.8.8"
  }
 },
 "nbformat": 4,
 "nbformat_minor": 5
}
