{
 "cells": [
  {
   "cell_type": "markdown",
   "metadata": {},
   "source": [
    "[![Commits since latest release][gh-image]][gh-link]\n",
    "\n",
    "[gh-link]: https://github.com/claudioperez/elle-0002/compare/v0.0.0...master\n",
    "[gh-image]: https://img.shields.io/github/commits-since/claudioperez/elle-0002/v0.0.0?style=social"
   ]
  },
  {
   "cell_type": "code",
   "execution_count": 14,
   "metadata": {},
   "outputs": [],
   "source": [
    "import anon.conf\n",
    "anon.conf.config.update('jax_disable_jit', True)\n",
    "import anon\n",
    "import jax\n",
    "import anon.atom as anp\n",
    "import elle.sections\n",
    "import elle.beam2d\n",
    "import elle.springs\n",
    "import emme as em\n",
    "mat = elle.springs.isokin.no1(60.0,29e3)\n",
    "# mat = elle.springs.gmp.no5(60.0,29e3)\n",
    "sec = elle.sections.core_v2.Rectangle\n",
    "geom_template = elle.beam2d.transform_no2(elle.beam2d.geom_no1)\n",
    "beam_template = elle.beam2d.resp_no6"
   ]
  },
  {
   "cell_type": "markdown",
   "metadata": {},
   "source": [
    "An `Assembler` is an object with an `.assemble()` and optionally a `.compose()` method"
   ]
  },
  {
   "cell_type": "code",
   "execution_count": 15,
   "metadata": {},
   "outputs": [],
   "source": [
    "# Create a model Assembler\n",
    "model = em.SkeletalModel(ndm=2,ndf=3)\n",
    "\n",
    "# Define problem parameters\n",
    "P1 = model.param(\"P1\")\n",
    "\n",
    "# Define model components\n",
    "girder_section = sec(d=60.0, b=18.0,mat=mat).assemble()\n",
    "column_section = sec(d=60.0, b=18.0,mat=mat).assemble()\n",
    "basic_girder  = beam_template(*[girder_section]*8, quad={\"n\": 8, \"rule\": \"mid\"})\n",
    "basic_column  = beam_template(*[column_section]*8, quad={\"n\": 8, \"rule\": \"mid\"})\n",
    "\n",
    "girder = geom_template(basic_girder)\n",
    "column = geom_template(basic_column)"
   ]
  },
  {
   "cell_type": "code",
   "execution_count": 16,
   "metadata": {},
   "outputs": [
    {
     "data": {
      "image/png": "[encoded data removed]",
      "text/plain": [
       "<Figure size 432x288 with 1 Axes>"
      ]
     },
     "metadata": {
      "needs_background": "light"
     },
     "output_type": "display_data"
    }
   ],
   "source": [
    "# Set up nodes\n",
    "ft = 12\n",
    "B, H = 30.*ft, 13.*ft\n",
    "model.node(\"1\",  0.,  0.)\n",
    "model.node(\"2\",  0.,  H )\n",
    "model.node(\"3\", B/2,  H )\n",
    "model.node(\"4\",  B ,  H )\n",
    "model.node(\"5\",  B ,  0.)\n",
    "\n",
    "model.beam(\"a\", \"1\", \"2\", elem=column)\n",
    "model.beam(\"b\", \"2\", \"3\", elem=girder)\n",
    "model.beam(\"c\", \"3\", \"4\", elem=girder)\n",
    "model.beam(\"d\", \"4\", \"5\", elem=column)\n",
    "\n",
    "model.boun(\"1\", [1,1,1])\n",
    "model.boun(\"5\", [1,1,1])\n",
    "\n",
    "model.load(\"2\", P1, dof=\"x\")\n",
    "model.load(\"2\", -1.0, dof=\"y\")\n",
    "model.load(\"2\", -1.0, dof=\"y\")\n",
    "\n",
    "em.plot_structure(model);"
   ]
  },
  {
   "cell_type": "code",
   "execution_count": 17,
   "metadata": {},
   "outputs": [],
   "source": [
    "f = model.compose()"
   ]
  },
  {
   "cell_type": "code",
   "execution_count": 18,
   "metadata": {},
   "outputs": [
    {
     "name": "stdout",
     "output_type": "stream",
     "text": [
      "[[ 1.63539291e-02]\n",
      " [-2.02570246e-03]\n",
      " [-9.55256367e-05]\n",
      " [ 1.50486513e-02]\n",
      " [-2.12649699e-03]\n",
      " [ 4.89535361e-05]\n",
      " [ 1.37433735e-02]\n",
      " [-3.81704943e-04]\n",
      " [-7.50191192e-05]]\n"
     ]
    },
    {
     "data": {
      "text/plain": [
       "DeviceArray([[ 1.63539291e-02],\n",
       "             [-2.02570246e-03],\n",
       "             [-9.55256367e-05],\n",
       "             [ 1.50486513e-02],\n",
       "             [-2.12649699e-03],\n",
       "             [ 4.89535361e-05],\n",
       "             [ 1.37433735e-02],\n",
       "             [-3.81704943e-04],\n",
       "             [-7.50191192e-05]], dtype=float64)"
      ]
     },
     "execution_count": 18,
     "metadata": {},
     "output_type": "execute_result"
    }
   ],
   "source": [
    "f(1.0)"
   ]
  },
  {
   "cell_type": "code",
   "execution_count": 24,
   "metadata": {},
   "outputs": [
    {
     "name": "stdout",
     "output_type": "stream",
     "text": [
      "[[-3.73841687e-04]\n",
      " [-2.39954415e-03]\n",
      " [ 4.79284214e-06]\n",
      " [-3.73841687e-04]\n",
      " [-1.20370370e-03]\n",
      " [ 7.55794337e-06]\n",
      " [-3.73841687e-04]\n",
      " [-7.86325663e-06]\n",
      " [ 4.79284214e-06]]\n",
      "[[ 0.50145928]\n",
      " [ 0.00881571]\n",
      " [-0.00300476]\n",
      " [ 0.46230095]\n",
      " [-0.0288875 ]\n",
      " [ 0.00124943]\n",
      " [ 0.42314261]\n",
      " [-0.01122311]\n",
      " [-0.00238957]]\n",
      "[[ 1.00329241]\n",
      " [ 0.02003096]\n",
      " [-0.00601432]\n",
      " [ 0.92497574]\n",
      " [-0.0565713 ]\n",
      " [ 0.00249129]\n",
      " [ 0.84665907]\n",
      " [-0.02243836]\n",
      " [-0.00478392]]\n"
     ]
    },
    {
     "data": {
      "image/png": "[encoded data removed]",
      "text/plain": [
       "<Figure size 432x288 with 1 Axes>"
      ]
     },
     "metadata": {
      "needs_background": "light"
     },
     "output_type": "display_data"
    },
    {
     "data": {
      "image/png": "[encoded data removed]",
      "text/plain": [
       "<Figure size 432x288 with 1 Axes>"
      ]
     },
     "metadata": {
      "needs_background": "light"
     },
     "output_type": "display_data"
    },
    {
     "data": {
      "image/png": "[encoded data removed]",
      "text/plain": [
       "<Figure size 432x288 with 1 Axes>"
      ]
     },
     "metadata": {
      "needs_background": "light"
     },
     "output_type": "display_data"
    }
   ],
   "source": [
    "for i in range(3):\n",
    "    fig, ax = em.plot_displ(model, f(30.*i),scale=1e1)"
   ]
  },
  {
   "cell_type": "code",
   "execution_count": 20,
   "metadata": {},
   "outputs": [],
   "source": [
    "df = anon.diff.jacfwd(f, None, (0,1), squeeze=False)"
   ]
  },
  {
   "cell_type": "code",
   "execution_count": 21,
   "metadata": {},
   "outputs": [
    {
     "ename": "IndexError",
     "evalue": "tuple index out of range",
     "output_type": "error",
     "traceback": [
      "\u001b[0;31m---------------------------------------------------------------------------\u001b[0m",
      "\u001b[0;31mIndexError\u001b[0m                                Traceback (most recent call last)",
      "\u001b[0;32m<ipython-input-21-61fb48dc13d3>\u001b[0m in \u001b[0;36m<module>\u001b[0;34m\u001b[0m\n\u001b[0;32m----> 1\u001b[0;31m \u001b[0mdf\u001b[0m\u001b[0;34m(\u001b[0m\u001b[0;36m20.0\u001b[0m\u001b[0;34m)\u001b[0m\u001b[0;34m\u001b[0m\u001b[0;34m\u001b[0m\u001b[0m\n\u001b[0m",
      "\u001b[0;32m~/pkgs/anon/src/anon/diff.py\u001b[0m in \u001b[0;36mjacobian\u001b[0;34m(*args, **kwds)\u001b[0m\n\u001b[1;32m     54\u001b[0m         \u001b[0;32mdef\u001b[0m \u001b[0mjacobian\u001b[0m\u001b[0;34m(\u001b[0m\u001b[0;34m*\u001b[0m\u001b[0margs\u001b[0m\u001b[0;34m,\u001b[0m\u001b[0;34m**\u001b[0m\u001b[0mkwds\u001b[0m\u001b[0;34m)\u001b[0m\u001b[0;34m:\u001b[0m\u001b[0;34m\u001b[0m\u001b[0;34m\u001b[0m\u001b[0m\n\u001b[1;32m     55\u001b[0m             \u001b[0mf\u001b[0m \u001b[0;34m=\u001b[0m \u001b[0mlu\u001b[0m\u001b[0;34m.\u001b[0m\u001b[0mwrap_init\u001b[0m\u001b[0;34m(\u001b[0m\u001b[0mf_transformed\u001b[0m\u001b[0;34m,\u001b[0m \u001b[0mkwds\u001b[0m\u001b[0;34m)\u001b[0m\u001b[0;34m\u001b[0m\u001b[0;34m\u001b[0m\u001b[0m\n\u001b[0;32m---> 56\u001b[0;31m             \u001b[0mf_partial\u001b[0m\u001b[0;34m,\u001b[0m \u001b[0mdyn_args\u001b[0m \u001b[0;34m=\u001b[0m \u001b[0margnums_partial\u001b[0m\u001b[0;34m(\u001b[0m\u001b[0mf\u001b[0m\u001b[0;34m,\u001b[0m \u001b[0margnums\u001b[0m\u001b[0;34m,\u001b[0m \u001b[0margs\u001b[0m\u001b[0;34m)\u001b[0m\u001b[0;34m\u001b[0m\u001b[0;34m\u001b[0m\u001b[0m\n\u001b[0m\u001b[1;32m     57\u001b[0m             \u001b[0mjax\u001b[0m\u001b[0;34m.\u001b[0m\u001b[0mapi\u001b[0m\u001b[0;34m.\u001b[0m\u001b[0mtree_map\u001b[0m\u001b[0;34m(\u001b[0m\u001b[0mpartial\u001b[0m\u001b[0;34m(\u001b[0m\u001b[0mjax\u001b[0m\u001b[0;34m.\u001b[0m\u001b[0mapi\u001b[0m\u001b[0;34m.\u001b[0m\u001b[0m_check_input_dtype_jacfwd\u001b[0m\u001b[0;34m,\u001b[0m \u001b[0mholomorphic\u001b[0m\u001b[0;34m)\u001b[0m\u001b[0;34m,\u001b[0m \u001b[0mdyn_args\u001b[0m\u001b[0;34m)\u001b[0m\u001b[0;34m\u001b[0m\u001b[0;34m\u001b[0m\u001b[0m\n\u001b[1;32m     58\u001b[0m             \u001b[0mpushfwd\u001b[0m \u001b[0;34m=\u001b[0m \u001b[0mpartial\u001b[0m\u001b[0;34m(\u001b[0m\u001b[0mjax\u001b[0m\u001b[0;34m.\u001b[0m\u001b[0mapi\u001b[0m\u001b[0;34m.\u001b[0m\u001b[0m_jvp\u001b[0m\u001b[0;34m,\u001b[0m \u001b[0mf_partial\u001b[0m\u001b[0;34m,\u001b[0m \u001b[0mdyn_args\u001b[0m\u001b[0;34m)\u001b[0m\u001b[0;34m\u001b[0m\u001b[0;34m\u001b[0m\u001b[0m\n",
      "\u001b[0;32m~/extn/jax/jax/api_util.py\u001b[0m in \u001b[0;36margnums_partial\u001b[0;34m(f, dyn_argnums, args)\u001b[0m\n\u001b[1;32m    103\u001b[0m   fixed_args = tuple(unit if i in dyn_argnums else wrap_hashably(arg)\n\u001b[1;32m    104\u001b[0m                      for i, arg in enumerate(args))\n\u001b[0;32m--> 105\u001b[0;31m   \u001b[0mdyn_args\u001b[0m \u001b[0;34m=\u001b[0m \u001b[0mtuple\u001b[0m\u001b[0;34m(\u001b[0m\u001b[0margs\u001b[0m\u001b[0;34m[\u001b[0m\u001b[0mi\u001b[0m\u001b[0;34m]\u001b[0m \u001b[0;32mfor\u001b[0m \u001b[0mi\u001b[0m \u001b[0;32min\u001b[0m \u001b[0mdyn_argnums\u001b[0m\u001b[0;34m)\u001b[0m\u001b[0;34m\u001b[0m\u001b[0;34m\u001b[0m\u001b[0m\n\u001b[0m\u001b[1;32m    106\u001b[0m   \u001b[0;32mreturn\u001b[0m \u001b[0m_argnums_partial\u001b[0m\u001b[0;34m(\u001b[0m\u001b[0mf\u001b[0m\u001b[0;34m,\u001b[0m \u001b[0mdyn_argnums\u001b[0m\u001b[0;34m,\u001b[0m \u001b[0mfixed_args\u001b[0m\u001b[0;34m)\u001b[0m\u001b[0;34m,\u001b[0m \u001b[0mdyn_args\u001b[0m\u001b[0;34m\u001b[0m\u001b[0;34m\u001b[0m\u001b[0m\n\u001b[1;32m    107\u001b[0m \u001b[0;34m\u001b[0m\u001b[0m\n",
      "\u001b[0;32m~/extn/jax/jax/api_util.py\u001b[0m in \u001b[0;36m<genexpr>\u001b[0;34m(.0)\u001b[0m\n\u001b[1;32m    103\u001b[0m   fixed_args = tuple(unit if i in dyn_argnums else wrap_hashably(arg)\n\u001b[1;32m    104\u001b[0m                      for i, arg in enumerate(args))\n\u001b[0;32m--> 105\u001b[0;31m   \u001b[0mdyn_args\u001b[0m \u001b[0;34m=\u001b[0m \u001b[0mtuple\u001b[0m\u001b[0;34m(\u001b[0m\u001b[0margs\u001b[0m\u001b[0;34m[\u001b[0m\u001b[0mi\u001b[0m\u001b[0;34m]\u001b[0m \u001b[0;32mfor\u001b[0m \u001b[0mi\u001b[0m \u001b[0;32min\u001b[0m \u001b[0mdyn_argnums\u001b[0m\u001b[0;34m)\u001b[0m\u001b[0;34m\u001b[0m\u001b[0;34m\u001b[0m\u001b[0m\n\u001b[0m\u001b[1;32m    106\u001b[0m   \u001b[0;32mreturn\u001b[0m \u001b[0m_argnums_partial\u001b[0m\u001b[0;34m(\u001b[0m\u001b[0mf\u001b[0m\u001b[0;34m,\u001b[0m \u001b[0mdyn_argnums\u001b[0m\u001b[0;34m,\u001b[0m \u001b[0mfixed_args\u001b[0m\u001b[0;34m)\u001b[0m\u001b[0;34m,\u001b[0m \u001b[0mdyn_args\u001b[0m\u001b[0;34m\u001b[0m\u001b[0;34m\u001b[0m\u001b[0m\n\u001b[1;32m    107\u001b[0m \u001b[0;34m\u001b[0m\u001b[0m\n",
      "\u001b[0;31mIndexError\u001b[0m: tuple index out of range"
     ]
    }
   ],
   "source": [
    "df(20.0)"
   ]
  },
  {
   "cell_type": "code",
   "execution_count": null,
   "metadata": {},
   "outputs": [],
   "source": [
    "m"
   ]
  }
 ],
 "metadata": {
  "kernelspec": {
   "display_name": "Python 3",
   "language": "python",
   "name": "python3"
  },
  "language_info": {
   "codemirror_mode": {
    "name": "ipython",
    "version": 3
   },
   "file_extension": ".py",
   "mimetype": "text/x-python",
   "name": "python",
   "nbconvert_exporter": "python",
   "pygments_lexer": "ipython3",
   "version": "3.8.8"
  }
 },
 "nbformat": 4,
 "nbformat_minor": 4
}
