{
 "cells": [
  {
   "cell_type": "code",
   "execution_count": 5,
   "id": "828a14d3",
   "metadata": {},
   "outputs": [],
   "source": [
    "import anon\n",
    "import meshio\n",
    "import anabel\n",
    "import anabel.backend as anp\n",
    "from poisson import poisson2 as poisson\n",
    "from interpolate import lagrange_t6"
   ]
  },
  {
   "cell_type": "code",
   "execution_count": 6,
   "id": "256314bf",
   "metadata": {},
   "outputs": [],
   "source": [
    "points = [\n",
    "    [1.0, 1.0],\n",
    "    [3.0, 1.0],\n",
    "    [1.0, 3.0],\n",
    "    [2.0, 1.0],\n",
    "    [2.5, 2.5],\n",
    "    [1.0, 2.0]\n",
    "]\n",
    "cells = [(\"triangle6\", [[0,1,2,3,4,5]])]\n",
    "model = anabel.MeshGroup(mesh=meshio.Mesh(points,cells))"
   ]
  },
  {
   "cell_type": "code",
   "execution_count": 7,
   "id": "156b2ced",
   "metadata": {},
   "outputs": [],
   "source": [
    "f = model.assemble_integral(elem=poisson(*[lagrange_t6()]*3))"
   ]
  },
  {
   "cell_type": "code",
   "execution_count": 11,
   "id": "a729730c",
   "metadata": {},
   "outputs": [
    {
     "name": "stdout",
     "output_type": "stream",
     "text": [
      "[[0.33333333 0.33333333]] [1.]\n",
      "|J| = Traced<ShapedArray(float64[])>with<BatchTrace(level=2/0)>\n",
      "  with val = Traced<ShapedArray(float64[1])>with<BatchTrace(level=1/0)>\n",
      "               with val = DeviceArray([[6.66666667]], dtype=float64)\n",
      "                    batch_dim = 0\n",
      "       batch_dim = 0\n",
      "jacn_test: Traced<ShapedArray(float64[2,6])>with<BatchTrace(level=2/0)>\n",
      "  with val = DeviceArray([[[-3.33333333e-01,  3.33333333e-01,  0.00000000e+00,\n",
      "                             1.77635684e-15,  1.33333333e+00, -1.33333333e+00],\n",
      "                           [-3.33333333e-01,  0.00000000e+00,  3.33333333e-01,\n",
      "                            -1.33333333e+00,  1.33333333e+00,  2.66453526e-15]]],            dtype=float64)\n",
      "       batch_dim = 0\n",
      "Traced<ShapedArray(float64[2,6])>with<BatchTrace(level=2/0)>\n",
      "  with val = Traced<ShapedArray(float64[1,2,6])>with<BatchTrace(level=1/0)>\n",
      "               with val = DeviceArray([[[[-0.1       ,  0.13333333, -0.03333333,  0.13333333,\n",
      "                                           0.4       , -0.53333333],\n",
      "                                         [-0.1       , -0.03333333,  0.13333333, -0.53333333,\n",
      "                                           0.4       ,  0.13333333]]]], dtype=float64)\n",
      "                    batch_dim = 0\n",
      "       batch_dim = 0\n",
      "a= Traced<ShapedArray(float64[6,6])>with<BatchTrace(level=2/0)>\n",
      "  with val = Traced<ShapedArray(float64[1,6,6])>with<BatchTrace(level=1/0)>\n",
      "               with val = DeviceArray([[[[ 0.06666667, -0.03333333, -0.03333333,  0.13333333,\n",
      "                                          -0.26666667,  0.13333333],\n",
      "                                         [-0.03333333,  0.06296296, -0.02962963,  0.11851852,\n",
      "                                           0.13333333, -0.25185185],\n",
      "                                         [-0.03333333, -0.02962963,  0.06296296, -0.25185185,\n",
      "                                           0.13333333,  0.11851852],\n",
      "                                         [ 0.13333333,  0.11851852, -0.25185185,  1.00740741,\n",
      "                                          -0.53333333, -0.47407407],\n",
      "                                         [-0.26666667,  0.13333333,  0.13333333, -0.53333333,\n",
      "                                           1.06666667, -0.53333333],\n",
      "                                         [ 0.13333333, -0.25185185,  0.11851852, -0.47407407,\n",
      "                                          -0.53333333,  1.00740741]]]], dtype=float64)\n",
      "                    batch_dim = 0\n",
      "       batch_dim = 0\n",
      "interp: Traced<ShapedArray(float64[])>with<BatchTrace(level=2/0)>\n",
      "  with val = DeviceArray([0.33333333], dtype=float64)\n",
      "       batch_dim = 0\n",
      "interp: Traced<ShapedArray(float64[])>with<BatchTrace(level=2/0)>\n",
      "  with val = DeviceArray([0.33333333], dtype=float64)\n",
      "       batch_dim = 0\n"
     ]
    },
    {
     "data": {
      "text/plain": [
       "DeviceArray([[0.],\n",
       "             [0.],\n",
       "             [0.],\n",
       "             [0.],\n",
       "             [0.],\n",
       "             [0.]], dtype=float64)"
      ]
     },
     "execution_count": 11,
     "metadata": {},
     "output_type": "execute_result"
    }
   ],
   "source": [
    "points = anp.array([[2.0, 4.0]])\n",
    "nat_points = anp.array([[5/19,2/19]])\n",
    "weights = anp.array([[1.0]])\n",
    "quad = anon.quad.simplex.Simplex.load(\"gauss01.m\")\n",
    "f(anp.zeros((6,1)), points=quad.points, weights=quad.weights)"
   ]
  },
  {
   "cell_type": "code",
   "execution_count": null,
   "id": "90d37af2",
   "metadata": {},
   "outputs": [],
   "source": []
  },
  {
   "cell_type": "code",
   "execution_count": null,
   "id": "4b0173f7",
   "metadata": {},
   "outputs": [],
   "source": []
  }
 ],
 "metadata": {
  "kernelspec": {
   "display_name": "Python 3",
   "language": "python",
   "name": "python3"
  },
  "language_info": {
   "codemirror_mode": {
    "name": "ipython",
    "version": 3
   },
   "file_extension": ".py",
   "mimetype": "text/x-python",
   "name": "python",
   "nbconvert_exporter": "python",
   "pygments_lexer": "ipython3",
   "version": "3.8.8"
  }
 },
 "nbformat": 4,
 "nbformat_minor": 5
}
