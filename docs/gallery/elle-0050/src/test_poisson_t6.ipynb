{
 "cells": [
  {
   "cell_type": "code",
   "execution_count": 1,
   "id": "5a23ba63",
   "metadata": {},
   "outputs": [],
   "source": [
    "import meshio\n",
    "import anabel\n",
    "import anabel.backend as anp\n",
    "from poisson import poisson2 as poisson\n",
    "from interpolate import lagrange_t6"
   ]
  },
  {
   "cell_type": "code",
   "execution_count": 2,
   "id": "dafdbca1",
   "metadata": {},
   "outputs": [],
   "source": [
    "points = [\n",
    "    [0.0, 0.0],\n",
    "    [7.0, 2.0],\n",
    "    [2.0, 6.0],\n",
    "    [3.5, 1.0],\n",
    "    [4.5, 4.0],\n",
    "    [1.0, 3.0]\n",
    "]\n",
    "cells = [(\"triangle6\", [[0,1,2,3,4,5]])]\n",
    "model = anabel.MeshGroup(mesh=meshio.Mesh(points,cells))"
   ]
  },
  {
   "cell_type": "code",
   "execution_count": 3,
   "id": "703702e6",
   "metadata": {},
   "outputs": [
    {
     "name": "stderr",
     "output_type": "stream",
     "text": [
      "WARNING:absl:No GPU/TPU found, falling back to CPU. (Set TF_CPP_MIN_LOG_LEVEL=0 and rerun for more info.)\n"
     ]
    }
   ],
   "source": [
    "f = model.assemble_integral(elem=poisson(*[lagrange_t6()]*3))"
   ]
  },
  {
   "cell_type": "code",
   "execution_count": 4,
   "id": "de895528",
   "metadata": {},
   "outputs": [
    {
     "name": "stdout",
     "output_type": "stream",
     "text": [
      "[[0.26315789 0.10526316]] [[1.]]\n",
      "|J| = Traced<ShapedArray(float64[])>with<BatchTrace(level=2/0)>\n",
      "  with val = Traced<ShapedArray(float64[1])>with<BatchTrace(level=1/0)>\n",
      "               with val = DeviceArray([[38.]], dtype=float64)\n",
      "                    batch_dim = 0\n",
      "       batch_dim = 0\n",
      "jacn_test: Traced<ShapedArray(float64[2,6])>with<BatchTrace(level=2/0)>\n",
      "  with val = DeviceArray([[[-1.52631579,  0.05263158,  0.        ,  1.47368421,\n",
      "                             0.42105263, -0.42105263],\n",
      "                           [-1.52631579,  0.        , -0.57894737, -1.05263158,\n",
      "                             1.05263158,  2.10526316]]], dtype=float64)\n",
      "       batch_dim = 0\n",
      "Traced<ShapedArray(float64[2,6])>with<BatchTrace(level=2/0)>\n",
      "  with val = Traced<ShapedArray(float64[1,2,6])>with<BatchTrace(level=1/0)>\n",
      "               with val = DeviceArray([[[[-0.16066482,  0.00831025,  0.03047091,  0.28808864,\n",
      "                                           0.01108033, -0.17728532],\n",
      "                                         [-0.20083102, -0.00277008, -0.1066482 , -0.27146814,\n",
      "                                           0.17174515,  0.4099723 ]]]], dtype=float64)\n",
      "                    batch_dim = 0\n",
      "       batch_dim = 0\n",
      "a= Traced<ShapedArray(float64[6,6])>with<BatchTrace(level=2/0)>\n",
      "  with val = Traced<ShapedArray(float64[1,6,6])>with<BatchTrace(level=1/0)>\n",
      "               with val = DeviceArray([[[[ 1.25677941e+00, -1.47980755e-02,  3.13930602e-01,\n",
      "                                           1.56436798e-01, -6.89167517e-01, -1.02318122e+00],\n",
      "                                         [-1.47980755e-02,  1.45793847e-03,  1.04242601e-02,\n",
      "                                           5.97754775e-02, -7.28969237e-03, -4.95699081e-02],\n",
      "                                         [ 3.13930602e-01,  1.04242601e-02,  2.33743986e-01,\n",
      "                                           7.16868348e-01, -3.41594985e-01, -9.33372212e-01],\n",
      "                                         [ 1.56436798e-01,  5.97754775e-02,  7.16868348e-01,\n",
      "                                           2.97711037e+00, -8.25193177e-01, -3.08499781e+00],\n",
      "                                         [-6.89167517e-01, -7.28969237e-03, -3.41594985e-01,\n",
      "                                          -8.25193177e-01,  5.62764251e-01,  1.30048112e+00],\n",
      "                                         [-1.02318122e+00, -4.95699081e-02, -9.33372212e-01,\n",
      "                                          -3.08499781e+00,  1.30048112e+00,  3.79064003e+00]]]],            dtype=float64)\n",
      "                    batch_dim = 0\n",
      "       batch_dim = 0\n",
      "interp: Traced<ShapedArray(float64[])>with<BatchTrace(level=2/0)>\n",
      "  with val = DeviceArray([0.26315789], dtype=float64)\n",
      "       batch_dim = 0\n",
      "interp: Traced<ShapedArray(float64[])>with<BatchTrace(level=2/0)>\n",
      "  with val = DeviceArray([0.26315789], dtype=float64)\n",
      "       batch_dim = 0\n"
     ]
    },
    {
     "data": {
      "text/plain": [
       "DeviceArray([[0.],\n",
       "             [0.],\n",
       "             [0.],\n",
       "             [0.],\n",
       "             [0.],\n",
       "             [0.]], dtype=float64)"
      ]
     },
     "execution_count": 4,
     "metadata": {},
     "output_type": "execute_result"
    }
   ],
   "source": [
    "points = anp.array([[2.0, 4.0]])\n",
    "nat_points = anp.array([[5/19,2/19]])\n",
    "weights = anp.array([[1.0]])\n",
    "f(anp.zeros((6,1)), points=nat_points, weights=weights)"
   ]
  },
  {
   "cell_type": "code",
   "execution_count": null,
   "id": "cd531141",
   "metadata": {},
   "outputs": [],
   "source": []
  },
  {
   "cell_type": "code",
   "execution_count": null,
   "id": "472b56c7",
   "metadata": {},
   "outputs": [],
   "source": []
  }
 ],
 "metadata": {
  "kernelspec": {
   "display_name": "Python 3",
   "language": "python",
   "name": "python3"
  },
  "language_info": {
   "codemirror_mode": {
    "name": "ipython",
    "version": 3
   },
   "file_extension": ".py",
   "mimetype": "text/x-python",
   "name": "python",
   "nbconvert_exporter": "python",
   "pygments_lexer": "ipython3",
   "version": "3.8.8"
  }
 },
 "nbformat": 4,
 "nbformat_minor": 5
}
