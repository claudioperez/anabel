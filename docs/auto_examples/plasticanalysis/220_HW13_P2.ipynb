{
  "cells": [
    {
      "cell_type": "code",
      "execution_count": null,
      "metadata": {
        "collapsed": false
      },
      "outputs": [],
      "source": [
        "%matplotlib inline"
      ]
    },
    {
      "cell_type": "markdown",
      "metadata": {},
      "source": [
        "\nUpper Bound Theorem 2\n=====================\n"
      ]
    },
    {
      "cell_type": "code",
      "execution_count": null,
      "metadata": {
        "collapsed": false
      },
      "outputs": [],
      "source": [
        "import ema as em\nimport matplotlib.pyplot as plt\nimport numpy as np\n# %config InlineBackend.figure_format = 'svg' # used to make plots look nicerbb\n\nmdl = em.Model(2,3)\nn = mdl.dnodes\ne = mdl.delems\n\nmdl.node('1',  0.0, 0.0)\nmdl.node('2',  6.0, 0.0)\nmdl.node('3',  12.0, 0.0)\nmdl.node('4', 0.0, 8.0)\n\nmdl.beam('a', n['1'], n['2'])\nmdl.beam('b', n['2'], n['3'])\nmdl.truss('c', n['2'], n['4'])\n\nmdl.fix(n['1'], ['x', 'y', 'rz'])\nmdl.fix(n['3'], ['y'])\nmdl.fix(n['4'], ['x','y', 'rz'])\n\nmdl.numDOF()\n\n# Define plastic capacity\ne['a'].Qp['+']['1'] = e['a'].Qp['-']['1'] = 500\ne['a'].Qp['+']['2'] = e['a'].Qp['-']['2'] = 150\ne['a'].Qp['+']['3'] = e['a'].Qp['-']['3'] = 150\ne['c'].Qp['+']['1'] = e['c'].Qp['-']['1'] =  20\ne['b'].Qp['+']['1'] = e['b'].Qp['-']['1'] = 500\ne['b'].Qp['+']['2'] = e['b'].Qp['-']['2'] = 150\ne['b'].Qp['+']['3'] = e['b'].Qp['-']['3'] = 150\n\nem.analysis.characterize(mdl)\n\nfig, ax = plt.subplots(1,1)\nem.plot_structure(mdl, ax)\n\nA = em.A_matrix(mdl)\nA.f"
      ]
    },
    {
      "cell_type": "markdown",
      "metadata": {},
      "source": [
        "Vertical mechanism\r\n~~~~~~~~~~~~~~~~~~\r\n\n\n"
      ]
    },
    {
      "cell_type": "code",
      "execution_count": null,
      "metadata": {
        "collapsed": false
      },
      "outputs": [],
      "source": [
        "n['2'].p['y'] = -50\nn['3'].p['x'] =  0.\nlambdac, Q = em.analysis.PlasticAnalysis_wLBT(mdl)\nQ\n\nlambdac\n\nB = em.B_matrix(mdl)\nP = em.P_vector(B)\nP.f\n\nA.f@[0, 1,0, 0, 0]\n\n[0, 1,0, 0, 0]@P.f\n\nQpl = em.Qpl_vector(mdl)[:,0]\nQpl\n\nnp.abs(A.f@[0, 1,0, 0, 0])@np.abs(Q)"
      ]
    }
  ],
  "metadata": {
    "kernelspec": {
      "display_name": "Python 3",
      "language": "python",
      "name": "python3"
    },
    "language_info": {
      "codemirror_mode": {
        "name": "ipython",
        "version": 3
      },
      "file_extension": ".py",
      "mimetype": "text/x-python",
      "name": "python",
      "nbconvert_exporter": "python",
      "pygments_lexer": "ipython3",
      "version": "3.7.4"
    }
  },
  "nbformat": 4,
  "nbformat_minor": 0
}