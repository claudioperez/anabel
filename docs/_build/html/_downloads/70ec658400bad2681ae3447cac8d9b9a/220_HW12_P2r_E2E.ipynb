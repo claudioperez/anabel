{
  "cells": [
    {
      "cell_type": "code",
      "execution_count": null,
      "metadata": {
        "collapsed": false
      },
      "outputs": [],
      "source": [
        "%matplotlib inline"
      ]
    },
    {
      "cell_type": "markdown",
      "metadata": {},
      "source": [
        "\n2r - Event to Event\n===================\n\n(220_HW12_P2r)\n"
      ]
    },
    {
      "cell_type": "code",
      "execution_count": null,
      "metadata": {
        "collapsed": false
      },
      "outputs": [],
      "source": [
        "import ema as em\nimport numpy as np\nimport sympy as sp\nimport matplotlib.pyplot as plt\n# %config InlineBackend.figure_format = 'svg'\n\nmdl = em.rModel(2,3)\nn = mdl.dnodes\ne = mdl.delems\nmdl.material('default', E=1000)\nmdl.xsection('default', 1e6, 50)\nxt = mdl.xsection('truss', 10, 1)\n\n\nmdl.node('1', 0.0, 0.0)\nmdl.node('2', 8.0, 0.0)\nmdl.node('3', 8.0, 6.0)\nmdl.node('4', 16., 6.0)\nmdl.node('5', 16., -4.)\n\n# elements\nmdl.beam('a', n['1'], n['2'], Qpl=[1e6, 120,120])\nmdl.beam('b', n['2'], n['3'], Qpl=[1e6, 120,120])\nmdl.beam('c', n['3'], n['4'], Qpl=[1e6, 120,120])\nmdl.beam('d', n['4'], n['5'], Qpl=[1e6, 180,180])\nmdl.truss('e', n['2'], n['4'], xsec=xt, Qpl=[30])\n\n# Fixities\nmdl.fix(n['1'], ['x', 'y', 'rz'])\nmdl.fix(n['5'], ['x', 'y', 'rz'])\n\n# Loading\nn['3'].p['y'] = -30\nn['3'].p['x'] =  50\n\nmdl.DOF = mdl.numdofs()\n\nfig, ax = plt.subplots(1,1)\nem.plot_structure(mdl, ax)\n\nee = em.Event2Event(mdl)\nee.run()\nee.Q[-2]\n\nee.U"
      ]
    }
  ],
  "metadata": {
    "kernelspec": {
      "display_name": "Python 3",
      "language": "python",
      "name": "python3"
    },
    "language_info": {
      "codemirror_mode": {
        "name": "ipython",
        "version": 3
      },
      "file_extension": ".py",
      "mimetype": "text/x-python",
      "name": "python",
      "nbconvert_exporter": "python",
      "pygments_lexer": "ipython3",
      "version": "3.7.4"
    }
  },
  "nbformat": 4,
  "nbformat_minor": 0
}