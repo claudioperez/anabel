{
  "cells": [
    {
      "cell_type": "code",
      "execution_count": null,
      "metadata": {
        "collapsed": false
      },
      "outputs": [],
      "source": [
        "%matplotlib inline"
      ]
    },
    {
      "cell_type": "markdown",
      "metadata": {},
      "source": [
        "\nProblem 3\n=========\n"
      ]
    },
    {
      "cell_type": "code",
      "execution_count": null,
      "metadata": {
        "collapsed": false
      },
      "outputs": [],
      "source": [
        "import numpy as np\nimport scipy.linalg \n\nk = 2.\nb = 20.*12\nm = 100./386\nK = np.array([\n    [6*k, 0.0, 0.0],\n    [0.0, 6*k,-b*k],\n    [0.0,-b*k, 3*k*b**2]\n])\nM = np.array([\n    [  m, 0.0, 0.0],\n    [0.0,   m, 0.0],\n    [0.0, 0.0, m*b**2/6]\n])\nfreq, shapes = scipy.linalg.eig(K,M)\n\nfreq\n\nomegas = np.sqrt(freq)\nomegas\n\nnp.around(shapes,5)"
      ]
    }
  ],
  "metadata": {
    "kernelspec": {
      "display_name": "Python 3",
      "language": "python",
      "name": "python3"
    },
    "language_info": {
      "codemirror_mode": {
        "name": "ipython",
        "version": 3
      },
      "file_extension": ".py",
      "mimetype": "text/x-python",
      "name": "python",
      "nbconvert_exporter": "python",
      "pygments_lexer": "ipython3",
      "version": "3.7.4"
    }
  },
  "nbformat": 4,
  "nbformat_minor": 0
}