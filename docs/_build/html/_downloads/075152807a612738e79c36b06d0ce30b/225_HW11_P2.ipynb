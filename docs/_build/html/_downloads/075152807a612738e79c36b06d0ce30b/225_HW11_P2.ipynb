{
  "cells": [
    {
      "cell_type": "code",
      "execution_count": null,
      "metadata": {
        "collapsed": false
      },
      "outputs": [],
      "source": [
        "%matplotlib inline"
      ]
    },
    {
      "cell_type": "markdown",
      "metadata": {},
      "source": [
        "\nProblem 2\n=========\n\n(see Ex 9.6)\n"
      ]
    },
    {
      "cell_type": "code",
      "execution_count": null,
      "metadata": {
        "collapsed": false
      },
      "outputs": [],
      "source": [
        "# Remove\nimport ema as em\nimport matplotlib.pyplot as plt\nimport numpy as np\n# %config InlineBackend.figure_format = 'svg' # used to make plots look nicer\nfrom ema_examples.dynamics import E09_06\nfrom ema.utilities.ipyutils import disp_sbs \nfrom scipy.linalg import eig\n\nL = 1\nmass = 1\nEI = 1/12\n\nmdl = E09_06(L=L, m = mass, EI = EI)\nfig, ax = plt.subplots()\nem.plot_structure(mdl, ax)\nmdl.DOF\n\nm, K = em.Mass_matrix(mdl), em.K_matrix(mdl)\nm[0,0] = 3.*mass\nm[1,1] = 1.*mass\nm[2:,2:] = 0*mass\ndisp_sbs(m.f.df, K.f.df)\n\n# k, m = em.analysis.StaticCondensation(k.f, m.f, idxs=[3,4])\nk = em.analysis.kStaticCondensation(K.f, idxs=[3,4])\n# disp_sbs(k.df)\nk\n\nm = m[0:2,0:2]\nfreq2, Phi = eig(m, k)\nPhi/0.57293852\n\nM = Phi.T@m@Phi\nK = Phi.T@k@Phi\nM"
      ]
    },
    {
      "cell_type": "markdown",
      "metadata": {},
      "source": [
        "a) Modal expansion of earthquake forces\r\n---------------------------------------\r\n\r\n\\begin{align}\\mathrm{p}_{\\mathrm{eff}}(t)=-\\mathrm{m} \\iota \\ddot{u}_{g}(t)\\end{align}\n\r\n\\begin{align}\\mathbf{m} \\iota=\\sum_{n=1}^{N} \\mathbf{s}_{n}=\\sum_{n=1}^{N} \\Gamma_{n} \\mathbf{m} \\phi_{n}\\end{align}\n\n\n"
      ]
    },
    {
      "cell_type": "code",
      "execution_count": null,
      "metadata": {
        "collapsed": false
      },
      "outputs": [],
      "source": [
        "I = N = 2\niota = np.array([0, 1])\nLn = np.array([sum(Phi.T[n,i]*sum(m[i,j]*iota[j] for j in range(I)) for i in range(I)) for n in range(N)])\nLn = Phi.T@m@iota\nLn\n\ngamma = np.array([Ln[n]/M[n,n] for n in range(N)])\ngamma\n\nsn = [gamma[n]*(m@Phi[:,n]) for n in range(N)]\nsn"
      ]
    }
  ],
  "metadata": {
    "kernelspec": {
      "display_name": "Python 3",
      "language": "python",
      "name": "python3"
    },
    "language_info": {
      "codemirror_mode": {
        "name": "ipython",
        "version": 3
      },
      "file_extension": ".py",
      "mimetype": "text/x-python",
      "name": "python",
      "nbconvert_exporter": "python",
      "pygments_lexer": "ipython3",
      "version": "3.7.4"
    }
  },
  "nbformat": 4,
  "nbformat_minor": 0
}