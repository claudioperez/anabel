{
 "cells": [
  {
   "cell_type": "markdown",
   "metadata": {},
   "source": [
    "# AIN_MATRIX  \n",
    "\n",
    "## Syntax\n",
    "\n",
    "- AUB = AUB_MATRIX (MODEL,ELEMDATA)\n",
    "- AUB = AUB_MATRIX (MODEL,ELEMDATA,ALPH)\n",
    "\n",
    "the function sets up the block diagonal matrix of element limit-surface equations, $A_{in}$, for the structural model specified in data structure MODEL with element property information in cell array ELEMDATA. Options for parameter ALPH are specified below.\n",
    "\n",
    "### Parameters\n",
    "\n",
    "--------------------\n",
    "\n",
    "- `Model`: struct\\\n",
    "  Contains structure data.\n",
    "\n",
    "- `ElemData`: cell array\\\n",
    "  Contains element property data.\n",
    "\n",
    "- `alph`: (Optional) Char array or float array.\n",
    "\n",
    "   **Array.**\n",
    "   If an $n \\times 2$ array is passed, $n$ piecewise linear axial-moment interaction equations of the following form will be generated for each element:\n",
    "   $$a_n \\frac{|N|}{N_{pl}} + b_n\\left( \\frac{|M_z|}{M_{p,z}} + \\frac{|M_y|}{M_{p,y}}\\right)  \\leq 1.0$$\n",
    "\n",
    "   If an $n \\times 3$ array is passed, $n$ piecewise linear axial-moment-shear interaction equations of the following form will be applied:\n",
    "   $$a_n \\frac{|N|}{N_{p}} + b_n \\frac{|M|}{M_{p}} + c_n \\frac{|V|}{V_{p}} \\leq 1.0$$\n",
    "   **String.**\n",
    "   Alternatively, a `char array` may be passed indicating one of the following options:\n",
    "\n",
    "   - `'AISC-H2'` (Default)\n",
    "   - `'AISC-H1'`\n",
    "\n",
    "   **Empty.**\n",
    "   If no parameter is passed in the third position, the function will go to the `NMOpt` field of the cell `ElemData` for each element, which may also contain a string or an array. Elements with no such field will default to the `AISC-H2` option.\n",
    "\n",
    "## Formulation\n",
    "\n",
    "The matrix $A_{in}$ forms the upper bound plastic conditions in the form\n",
    "   $$\\mathbf{A}_{in} \\mathbf{Q} \\leq \\mathbf{1}$$\n",
    "for the lower bound linear programming problem expressed as follows:\n",
    "$$\\begin{aligned}\n",
    "\\lambda_{c}=\\max \\lambda & \\\\\n",
    "\\text { with } &\\left\\{\\begin{aligned}\n",
    "\\lambda P_{r e f}+P_{c f} &=\\mathbf{B}_{f} Q \\\\\n",
    "\\mathbf{A}_{in} \\mathbf{Q} & \\leq \\mathbf{1} \\\\\n",
    "\\end{aligned}\\right.\n",
    "\\end{aligned}\n",
    "$$\n",
    "\n",
    "### 2D Shear-moment-axial interaction\n",
    "-----------------------------\n",
    "\n",
    "Interaction between shear, moment, and axial forces is implemented with $n$ piecewise linear equations of the following form:\n",
    "\n",
    "$$a_n\\dfrac{|N|}{N_p} + b_n\\dfrac{|M|}{M_p} + c_n\\dfrac{|V|}{V_p} \\leq1.0$$\n",
    "\n",
    "$N$, $M$, and $V$ are substituted by $Q_1$, $Q_2$, and $(Q_2 +Q_3)/L$ respectively, and the equations are rearranged and implemented follows:\n",
    "\n",
    "$$\\dfrac{a}{N_p}Q_1 + \\dfrac{b}{M_p}Q_2 + \\dfrac{ c}{LV_p}(Q_2+Q_3) \\leq1.0$$\n",
    "\n",
    "$$\\dfrac{a}{N_p}Q_1 + \\left(\\dfrac{b}{M_p}+\\dfrac{c}{LV_p}\\right)Q_2 + \\dfrac{c}{LV_p}Q_3 \\leq1.0$$\n"
   ]
  },
  {
   "cell_type": "code",
   "execution_count": 1,
   "metadata": {},
   "outputs": [
    {
     "name": "stderr",
     "output_type": "stream",
     "text": [
      "\u001b[1;31mUndefined function or variable 'A'.\n",
      "\n",
      "\u001b[0m"
     ]
    }
   ],
   "source": [
    "aii =  [ A/Qpl(1,1)   B/Qpl(2,2)+C/(L*Qpl(4,1))   C/(L*Qpl(4,1));\n",
    "        -A/Qpl(1,2)   B/Qpl(2,2)+C/(L*Qpl(4,1))   C/(L*Qpl(4,1));\n",
    "         A/Qpl(1,1)  -B/Qpl(2,1)+C/(L*Qpl(4,1))   C/(L*Qpl(4,1));\n",
    "        -A/Qpl(1,2)  -B/Qpl(2,1)+C/(L*Qpl(4,1))   C/(L*Qpl(4,1));\n",
    "         A/Qpl(1,1)   B/Qpl(2,2)-C/(L*Qpl(4,1))  -C/(L*Qpl(4,1));\n",
    "        -A/Qpl(1,2)   B/Qpl(2,2)-C/(L*Qpl(4,1))  -C/(L*Qpl(4,1));\n",
    "         A/Qpl(1,1)  -B/Qpl(2,1)-C/(L*Qpl(4,1))  -C/(L*Qpl(4,1));\n",
    "        -A/Qpl(1,2)  -B/Qpl(2,1)-C/(L*Qpl(4,1))  -C/(L*Qpl(4,1))];     "
   ]
  },
  {
   "cell_type": "code",
   "execution_count": null,
   "metadata": {},
   "outputs": [],
   "source": []
  }
 ],
 "metadata": {
  "kernelspec": {
   "display_name": "Matlab",
   "language": "matlab",
   "name": "matlab"
  },
  "language_info": {
   "codemirror_mode": "octave",
   "file_extension": ".m",
   "help_links": [
    {
     "text": "MetaKernel Magics",
     "url": "https://metakernel.readthedocs.io/en/latest/source/README.html"
    }
   ],
   "mimetype": "text/x-octave",
   "name": "matlab",
   "version": "0.16.7"
  }
 },
 "nbformat": 4,
 "nbformat_minor": 4
}
