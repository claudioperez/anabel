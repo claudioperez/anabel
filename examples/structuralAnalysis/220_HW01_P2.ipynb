{
 "cells": [
  {
   "cell_type": "code",
   "execution_count": 3,
   "metadata": {},
   "outputs": [],
   "source": [
    "import ema as em #V0.08\n",
    "import numpy as np\n",
    "import sympy as sp\n",
    "sp.init_printing(use_latex=True)"
   ]
  },
  {
   "cell_type": "code",
   "execution_count": 4,
   "metadata": {},
   "outputs": [],
   "source": [
    "divs = 16\n",
    "length = 20\n",
    "height = 5\n",
    "EA = 10e9\n",
    "EI = 200000\n",
    "E = 1\n",
    "I = 200000\n",
    "A = 10e9"
   ]
  },
  {
   "cell_type": "code",
   "execution_count": 5,
   "metadata": {},
   "outputs": [],
   "source": [
    "# P2a Model Definitions\n",
    "p2a = em.Domain(2,3)\n",
    "m1 = p2a.material(E)\n",
    "s1 = p2a.xsec(A, I)\n",
    "\n",
    "# Create nodes\n",
    "n1 = p2a.node('n1',  0.0,   0.0)\n",
    "n2 = p2a.node('n2',  0.0,  10.0)\n",
    "n3 = p2a.node('n3', 16.0,  10.0)\n",
    "n4 = p2a.node('n4', 16.0,   2.5)\n",
    "\n",
    "# Create elems\n",
    "a = p2a.beam('a', n1, n2, m1, s1)\n",
    "b = p2a.beam('b', n2, n3, m1, s1)\n",
    "c = p2a.beam('c', n3, n4, m1, s1)\n",
    "    \n",
    "# Create reactions\n",
    "p2a.pin(p2a.nodes[ 0])\n",
    "p2a.pin(p2a.nodes[-1])\n",
    "\n",
    "# Load\n"
   ]
  },
  {
   "cell_type": "code",
   "execution_count": 6,
   "metadata": {},
   "outputs": [
    {
     "data": {
      "image/png": "[encoded data removed]",
      "text/plain": [
       "<Figure size 432x288 with 1 Axes>"
      ]
     },
     "metadata": {
      "needs_background": "light"
     },
     "output_type": "display_data"
    }
   ],
   "source": [
    "p2a.plot_structure()"
   ]
  },
  {
   "cell_type": "code",
   "execution_count": 7,
   "metadata": {},
   "outputs": [
    {
     "name": "stdout",
     "output_type": "stream",
     "text": [
      "[3, 3, 3]\n",
      "8\n",
      "1\n"
     ]
    }
   ],
   "source": [
    "print(p2a.nq)\n",
    "print(p2a.nf)\n",
    "print(p2a.NOS)"
   ]
  },
  {
   "cell_type": "code",
   "execution_count": null,
   "metadata": {},
   "outputs": [],
   "source": []
  },
  {
   "cell_type": "code",
   "execution_count": null,
   "metadata": {},
   "outputs": [],
   "source": []
  }
 ],
 "metadata": {
  "kernelspec": {
   "display_name": "Python 3",
   "language": "python",
   "name": "python3"
  },
  "language_info": {
   "codemirror_mode": {
    "name": "ipython",
    "version": 3
   },
   "file_extension": ".py",
   "mimetype": "text/x-python",
   "name": "python",
   "nbconvert_exporter": "python",
   "pygments_lexer": "ipython3",
   "version": "3.7.3"
  }
 },
 "nbformat": 4,
 "nbformat_minor": 2
}
