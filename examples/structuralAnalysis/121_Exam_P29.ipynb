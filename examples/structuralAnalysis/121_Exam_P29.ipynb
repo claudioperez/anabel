{
 "cells": [
  {
   "cell_type": "markdown",
   "metadata": {},
   "source": [
    "# Spring\n",
    "(121_Exam_P29)"
   ]
  },
  {
   "cell_type": "code",
   "execution_count": 1,
   "metadata": {},
   "outputs": [],
   "source": [
    "import ema as em\n",
    "import matplotlib.pyplot as plt\n",
    "import numpy as np\n",
    "%config InlineBackend.figure_format = 'svg' # used to make plots look nicerbb"
   ]
  },
  {
   "cell_type": "code",
   "execution_count": 2,
   "metadata": {},
   "outputs": [
    {
     "data": {
      "text/plain": [
       "(0, 2)"
      ]
     },
     "execution_count": 2,
     "metadata": {},
     "output_type": "execute_result"
    }
   ],
   "source": [
    "mdl = em.Model(2,3)\n",
    "n = mdl.dnodes\n",
    "e = mdl.delems\n",
    "mdl.material('default', E=1000)\n",
    "\n",
    "mdl.node('1',  0.0, 0.0)\n",
    "mdl.node('2',  8.0, 0.0)\n",
    "mdl.node('3', 16.0, 0.0)\n",
    "mdl.node('4',  0.0, 6.0)\n",
    "mdl.node('5', 16.0,-1.0)\n",
    "\n",
    "mdl.beam('a', n['1'], n['2'])\n",
    "mdl.beam('b', n['2'], n['3'])\n",
    "mdl.truss('c', n['2'], n['4'])\n",
    "mdl.truss('d', n['3'], n['5'])\n",
    "\n",
    "mdl.fix(n['1'], ['x', 'y', 'rz'])\n",
    "mdl.fix(n['4'], ['x','y', 'rz'])\n",
    "mdl.fix(n['5'], ['x','y', 'rz'])\n",
    "\n",
    "mdl.numDOF()\n",
    "em.analysis.characterize(mdl)"
   ]
  },
  {
   "cell_type": "code",
   "execution_count": 3,
   "metadata": {},
   "outputs": [],
   "source": [
    "e['a'].I = 100\n",
    "e['b'].I = 100\n",
    "e['a'].A = 1e6\n",
    "e['b'].A = 1e6\n",
    "e['c'].A = 20\n",
    "e['d'].A = 5"
   ]
  },
  {
   "cell_type": "code",
   "execution_count": 4,
   "metadata": {},
   "outputs": [
    {
     "data": {
      "text/html": [
       "<table border=\"1\" class=\"dataframe\">\n",
       "  <thead>\n",
       "    <tr style=\"text-align: right;\">\n",
       "      <th></th>\n",
       "      <th>$U_{{fffff}}$</th>\n",
       "    </tr>\n",
       "  </thead>\n",
       "  <tbody>\n",
       "    <tr>\n",
       "      <th>$1$</th>\n",
       "      <td>-1.175296e-07</td>\n",
       "    </tr>\n",
       "    <tr>\n",
       "      <th>$2$</th>\n",
       "      <td>-1.530350e-02</td>\n",
       "    </tr>\n",
       "    <tr>\n",
       "      <th>$3$</th>\n",
       "      <td>-9.484646e-04</td>\n",
       "    </tr>\n",
       "    <tr>\n",
       "      <th>$4$</th>\n",
       "      <td>-1.175296e-07</td>\n",
       "    </tr>\n",
       "    <tr>\n",
       "      <th>$5$</th>\n",
       "      <td>-2.401176e-03</td>\n",
       "    </tr>\n",
       "    <tr>\n",
       "      <th>$6$</th>\n",
       "      <td>2.893417e-03</td>\n",
       "    </tr>\n",
       "  </tbody>\n",
       "</table>"
      ],
      "text/plain": [
       "Displacement_vector([-1.17529650e-07, -1.53034965e-02, -9.48464611e-04,\n",
       "                     -1.17529650e-07, -2.40117623e-03,  2.89341736e-03])"
      ]
     },
     "execution_count": 4,
     "metadata": {},
     "output_type": "execute_result"
    }
   ],
   "source": [
    "n['2'].p['y'] = -50\n",
    "Uf = em.analysis.SolveDispl(mdl)\n",
    "Uf"
   ]
  },
  {
   "cell_type": "code",
   "execution_count": 5,
   "metadata": {},
   "outputs": [],
   "source": [
    "assert abs(Uf[1] - -0.015303) < 10e-3\n",
    "assert abs(Uf[4] - -0.0024012) < 10e-3"
   ]
  },
  {
   "cell_type": "code",
   "execution_count": 6,
   "metadata": {},
   "outputs": [],
   "source": [
    "fig, ax = plt.subplots(1,1)\n",
    "%matplotlib qt\n",
    "em.plot_U(mdl, Uf, ax, scale=100)"
   ]
  },
  {
   "cell_type": "code",
   "execution_count": 7,
   "metadata": {},
   "outputs": [
    {
     "data": {
      "text/html": [
       "<table border=\"1\" class=\"dataframe\">\n",
       "  <thead>\n",
       "    <tr style=\"text-align: right;\">\n",
       "      <th></th>\n",
       "      <th>$1$</th>\n",
       "      <th>$2$</th>\n",
       "      <th>$3$</th>\n",
       "      <th>$4$</th>\n",
       "      <th>$5$</th>\n",
       "      <th>$6$</th>\n",
       "    </tr>\n",
       "  </thead>\n",
       "  <tbody>\n",
       "    <tr>\n",
       "      <th>$a_1$</th>\n",
       "      <td>1.0</td>\n",
       "      <td>0.000</td>\n",
       "      <td>0.0</td>\n",
       "      <td>0.0</td>\n",
       "      <td>0.000</td>\n",
       "      <td>0.0</td>\n",
       "    </tr>\n",
       "    <tr>\n",
       "      <th>$a_2$</th>\n",
       "      <td>0.0</td>\n",
       "      <td>-0.125</td>\n",
       "      <td>0.0</td>\n",
       "      <td>0.0</td>\n",
       "      <td>0.000</td>\n",
       "      <td>0.0</td>\n",
       "    </tr>\n",
       "    <tr>\n",
       "      <th>$a_3$</th>\n",
       "      <td>0.0</td>\n",
       "      <td>-0.125</td>\n",
       "      <td>1.0</td>\n",
       "      <td>0.0</td>\n",
       "      <td>0.000</td>\n",
       "      <td>0.0</td>\n",
       "    </tr>\n",
       "    <tr>\n",
       "      <th>$b_1$</th>\n",
       "      <td>-1.0</td>\n",
       "      <td>-0.000</td>\n",
       "      <td>0.0</td>\n",
       "      <td>1.0</td>\n",
       "      <td>0.000</td>\n",
       "      <td>0.0</td>\n",
       "    </tr>\n",
       "    <tr>\n",
       "      <th>$b_2$</th>\n",
       "      <td>-0.0</td>\n",
       "      <td>0.125</td>\n",
       "      <td>1.0</td>\n",
       "      <td>0.0</td>\n",
       "      <td>-0.125</td>\n",
       "      <td>0.0</td>\n",
       "    </tr>\n",
       "    <tr>\n",
       "      <th>$b_3$</th>\n",
       "      <td>-0.0</td>\n",
       "      <td>0.125</td>\n",
       "      <td>0.0</td>\n",
       "      <td>0.0</td>\n",
       "      <td>-0.125</td>\n",
       "      <td>1.0</td>\n",
       "    </tr>\n",
       "    <tr>\n",
       "      <th>$c_1$</th>\n",
       "      <td>0.8</td>\n",
       "      <td>-0.600</td>\n",
       "      <td>0.0</td>\n",
       "      <td>0.0</td>\n",
       "      <td>0.000</td>\n",
       "      <td>0.0</td>\n",
       "    </tr>\n",
       "    <tr>\n",
       "      <th>$d_1$</th>\n",
       "      <td>0.0</td>\n",
       "      <td>0.000</td>\n",
       "      <td>0.0</td>\n",
       "      <td>-0.0</td>\n",
       "      <td>1.000</td>\n",
       "      <td>0.0</td>\n",
       "    </tr>\n",
       "  </tbody>\n",
       "</table>"
      ],
      "text/plain": [
       "Kinematic_matrix([[ 1.   ,  0.   ,  0.   ,  0.   ,  0.   ,  0.   ],\n",
       "                  [ 0.   , -0.125,  0.   ,  0.   ,  0.   ,  0.   ],\n",
       "                  [ 0.   , -0.125,  1.   ,  0.   ,  0.   ,  0.   ],\n",
       "                  [-1.   , -0.   ,  0.   ,  1.   ,  0.   ,  0.   ],\n",
       "                  [-0.   ,  0.125,  1.   ,  0.   , -0.125,  0.   ],\n",
       "                  [-0.   ,  0.125,  0.   ,  0.   , -0.125,  1.   ],\n",
       "                  [ 0.8  , -0.6  ,  0.   ,  0.   ,  0.   ,  0.   ],\n",
       "                  [ 0.   ,  0.   ,  0.   , -0.   ,  1.   ,  0.   ]])"
      ]
     },
     "execution_count": 7,
     "metadata": {},
     "output_type": "execute_result"
    }
   ],
   "source": [
    "A = em.A_matrix(mdl)\n",
    "A.f"
   ]
  },
  {
   "cell_type": "code",
   "execution_count": 8,
   "metadata": {},
   "outputs": [
    {
     "data": {
      "text/html": [
       "<table border=\"1\" class=\"dataframe\">\n",
       "  <thead>\n",
       "    <tr style=\"text-align: right;\">\n",
       "      <th></th>\n",
       "      <th>$P_{{ffffff}}$</th>\n",
       "    </tr>\n",
       "  </thead>\n",
       "  <tbody>\n",
       "    <tr>\n",
       "      <th>$1$</th>\n",
       "      <td>0.0</td>\n",
       "    </tr>\n",
       "    <tr>\n",
       "      <th>$2$</th>\n",
       "      <td>-50.0</td>\n",
       "    </tr>\n",
       "    <tr>\n",
       "      <th>$3$</th>\n",
       "      <td>0.0</td>\n",
       "    </tr>\n",
       "    <tr>\n",
       "      <th>$4$</th>\n",
       "      <td>0.0</td>\n",
       "    </tr>\n",
       "    <tr>\n",
       "      <th>$5$</th>\n",
       "      <td>0.0</td>\n",
       "    </tr>\n",
       "    <tr>\n",
       "      <th>$6$</th>\n",
       "      <td>0.0</td>\n",
       "    </tr>\n",
       "  </tbody>\n",
       "</table>"
      ],
      "text/plain": [
       "P_vector([  0., -50.,   0.,   0.,   0.,   0.])"
      ]
     },
     "execution_count": 8,
     "metadata": {},
     "output_type": "execute_result"
    }
   ],
   "source": [
    "B = em.B_matrix(mdl)\n",
    "P = em.P_vector(B)\n",
    "P.f"
   ]
  }
 ],
 "metadata": {
  "kernelspec": {
   "display_name": "Python 3",
   "language": "python",
   "name": "python3"
  },
  "language_info": {
   "codemirror_mode": {
    "name": "ipython",
    "version": 3
   },
   "file_extension": ".py",
   "mimetype": "text/x-python",
   "name": "python",
   "nbconvert_exporter": "python",
   "pygments_lexer": "ipython3",
   "version": "3.7.4"
  }
 },
 "nbformat": 4,
 "nbformat_minor": 4
}
