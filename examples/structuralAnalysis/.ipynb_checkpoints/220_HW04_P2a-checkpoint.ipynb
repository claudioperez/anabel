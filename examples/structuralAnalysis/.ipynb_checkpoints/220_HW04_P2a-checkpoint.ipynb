{
 "cells": [
  {
   "cell_type": "code",
   "execution_count": 1,
   "metadata": {},
   "outputs": [],
   "source": [
    "import numpy as np\n",
    "import sympy as sp\n",
    "import ema as em\n",
    "import matplotlib.pyplot as plt"
   ]
  },
  {
   "cell_type": "markdown",
   "metadata": {},
   "source": [
    "# Problem 2a"
   ]
  },
  {
   "cell_type": "code",
   "execution_count": 3,
   "metadata": {},
   "outputs": [],
   "source": [
    "p2a = em.Domain(2,3)\n",
    "m1, s1 = em.UnitProperties()\n",
    "\n",
    "n1 = p2a.node('1', 0.0,  0.0)\n",
    "n2 = p2a.node('2', 0.0, 10.0)\n",
    "n3 = p2a.node('3', 5.0, 10)\n",
    "n4 = p2a.node('4', 5.0, 5.0)\n",
    "n5 = p2a.node('5', 10.0, 5.0)\n",
    "\n",
    "a = p2a.beam('a', n1, n2, m1, s1)\n",
    "b = p2a.beam('b', n2, n3, m1, s1)\n",
    "c = p2a.beam('c', n3, n4, m1, s1)\n",
    "d = p2a.beam('d', n4, n5, m1, s1)\n",
    "e = p2a.beam('e', n1, n3, m1, s1)\n",
    "\n",
    "p2a.hinge(e, n1)\n",
    "p2a.hinge(e, n3)\n",
    "\n",
    "p2a.fix(n5, 'x')\n",
    "p2a.fix(n5, 'y')\n",
    "p2a.fix(n5, 'rz')\n",
    "p2a.pin(n1)"
   ]
  },
  {
   "cell_type": "code",
   "execution_count": 5,
   "metadata": {},
   "outputs": [
    {
     "data": {
      "image/png": "[encoded data removed]",
      "text/plain": [
       "<Figure size 432x288 with 1 Axes>"
      ]
     },
     "metadata": {
      "needs_background": "light"
     },
     "output_type": "display_data"
    }
   ],
   "source": [
    "fig, ax = plt.subplots(1,1)\n",
    "em.plot_structure(p2a, ax)"
   ]
  },
  {
   "cell_type": "code",
   "execution_count": 6,
   "metadata": {},
   "outputs": [
    {
     "data": {
      "text/plain": [
       "3"
      ]
     },
     "execution_count": 6,
     "metadata": {},
     "output_type": "execute_result"
    }
   ],
   "source": [
    "p2a.NOS"
   ]
  },
  {
   "cell_type": "code",
   "execution_count": 9,
   "metadata": {},
   "outputs": [
    {
     "data": {
      "image/png": "[encoded data removed]",
      "text/plain": [
       "<Figure size 432x288 with 1 Axes>"
      ]
     },
     "metadata": {
      "needs_background": "light"
     },
     "output_type": "display_data"
    }
   ],
   "source": [
    "B = em.Domain(2,3)\n",
    "\n",
    "n1 = B.node('1', 0.0,  0.0)\n",
    "n2 = B.node('2', 5.0,  0.0)\n",
    "n3 = B.node('3', 7.5,  0.0)\n",
    "n4 = B.node('4', 5.0, -5.0)\n",
    "n5 = B.node('5', 5.0, 5.0)\n",
    "\n",
    "a = B.beam('a', n1, n2, m1, s1)\n",
    "b = B.beam('b', n2, n4, m1, s1)\n",
    "c = B.beam('c', n2, n3, m1, s1)\n",
    "d = B.beam('d', n2, n5, m1, s1)\n",
    "e = B.beam('e', n1, n5, m1, s1)\n",
    "\n",
    "B.hinge(e, n1)\n",
    "B.hinge(e, n5)\n",
    "\n",
    "B.fix(n4, 'x')\n",
    "B.fix(n4, 'y')\n",
    "B.fix(n4, 'rz')\n",
    "B.fix(n1, 'x')\n",
    "fig2, ax2 = plt.subplots(1,1)\n",
    "em.plot_structure(B,ax2)"
   ]
  },
  {
   "cell_type": "code",
   "execution_count": 11,
   "metadata": {},
   "outputs": [
    {
     "data": {
      "text/plain": [
       "2"
      ]
     },
     "execution_count": 11,
     "metadata": {},
     "output_type": "execute_result"
    }
   ],
   "source": [
    "B.NOS"
   ]
  }
 ],
 "metadata": {
  "kernelspec": {
   "display_name": "",
   "name": ""
  },
  "language_info": {
   "codemirror_mode": {
    "name": "ipython",
    "version": 3
   },
   "file_extension": ".py",
   "mimetype": "text/x-python",
   "name": "python",
   "nbconvert_exporter": "python",
   "pygments_lexer": "ipython3",
   "version": "3.7.4"
  }
 },
 "nbformat": 4,
 "nbformat_minor": 4
}
