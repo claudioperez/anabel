{
 "cells": [
  {
   "cell_type": "code",
   "execution_count": 1,
   "metadata": {},
   "outputs": [
    {
     "name": "stdout",
     "output_type": "stream",
     "text": [
      "\n"
     ]
    }
   ],
   "source": [
    "CleanStart\n",
    "\n",
    "% Node Definitions\n",
    "XYZ(1,:) = [0.0 0.0];\n",
    "XYZ(2,:) = [6.0 8.0];\n",
    "XYZ(3,:) = [12.0 8.0];\n",
    "XYZ(4,:) = [12.0 0.0];\n",
    "\n",
    "% Connections\n",
    "CON(1,:) = [2 3];\n",
    "CON(2,:) = [3 4];\n",
    "CON(3,:) = [1 2];\n",
    "\n",
    "% Boundary Conditions\n",
    "BOUN(1,:) = [1 1 1];\n",
    "BOUN(4,:) = [1 1 1];\n",
    "\n",
    "% Specify element type\n",
    "ElemName{1} = 'Lin2dFrm';\n",
    "ElemName{2} = 'Lin2dFrm';\n",
    "ElemName{3} = 'LinTruss';\n",
    "\n",
    "% Create model\n",
    "Model = Create_SimpleModel (XYZ,CON,BOUN,ElemName);\n",
    "\n",
    "% Element properties\n",
    "\n",
    " ElemData = cell(Model.ne,1);\n",
    "\n",
    "% Element: a\n",
    "ElemData{1}.A = 10000000000.0;\n",
    "ElemData{1}.E = 1.0;\n",
    "ElemData{1}.I = 50000;\n",
    "% ElemData{1}.Release = [0;0;0];\n",
    "\n",
    "% Element: b\n",
    "ElemData{2}.A = 10000000000.0;\n",
    "ElemData{2}.E = 1.0;\n",
    "ElemData{2}.I = 50000;\n",
    "% ElemData{2}.Release = [0;0;0];\n",
    "\n",
    "% Element: c\n",
    "ElemData{3}.A = 50000.0;\n",
    "ElemData{3}.E = 1.0;"
   ]
  },
  {
   "cell_type": "code",
   "execution_count": 2,
   "metadata": {},
   "outputs": [
    {
     "name": "stdout",
     "output_type": "stream",
     "text": [
      "\n"
     ]
    },
    {
     "data": {
      "image/png": "[encoded data removed]",
      "text/plain": [
       "<IPython.core.display.Image object>"
      ]
     },
     "metadata": {},
     "output_type": "display_data"
    }
   ],
   "source": [
    "% display model\n",
    "% plot parameters\n",
    "% -------------------------------------------------------------------------\n",
    "WinXr = 0.40;   % X-ratio of plot window to screen size \n",
    "WinYr = 0.80;   % Y-ratio of plot window to screen size\n",
    "% -------------------------------------------------------------------------\n",
    "NodSF = 3/4;    % relative size for node symbol\n",
    "AxsSF = 3/4;    % relative size of arrows\n",
    "HngSF = 3/4;    % relative size of releases\n",
    "HOfSF = 1;      % relative size of hinge offset from end\n",
    "% -------------------------------------------------------------------------\n",
    "Create_Window (WinXr,WinYr);       % open figure window\n",
    "PlotOpt.PlNod = 'yes';\n",
    "PlotOpt.PlBnd = 'yes';\n",
    "PlotOpt.NodSF = NodSF;\n",
    "Plot_Model (Model,[],PlotOpt);\n",
    "PlotOpt.AxsSF = AxsSF;\n",
    "PlotOpt.LOfSF = 1.6.*NodSF;\n",
    "Label_Model (Model,PlotOpt);"
   ]
  },
  {
   "cell_type": "code",
   "execution_count": 3,
   "metadata": {},
   "outputs": [
    {
     "name": "stdout",
     "output_type": "stream",
     "text": [
      "\n"
     ]
    }
   ],
   "source": [
    "%% Element loads\n",
    "\n",
    "% Element: a\n",
    "ElemData{1}.e0 =  [0 ;-1e-3];\n",
    "\n",
    "% Element: b\n",
    "ElemData{2}.e0 =  [0 ; 1e-3];\n",
    "\n",
    "% Element: c\n",
    "ElemData{3}.q0 =  50.183;\n",
    "% -0.010037/10\n",
    "\n",
    "%% Nodal loads\n",
    "Pf = zeros(6,1);\n",
    "Pf(1) = -50.0;\n",
    "Loading.Pref = Pf;"
   ]
  },
  {
   "cell_type": "code",
   "execution_count": 4,
   "metadata": {},
   "outputs": [
    {
     "name": "stdout",
     "output_type": "stream",
     "text": [
      "\n"
     ]
    },
    {
     "data": {
      "image/png": "[encoded data removed]",
      "text/plain": [
       "<IPython.core.display.Image object>"
      ]
     },
     "metadata": {},
     "output_type": "display_data"
    }
   ],
   "source": [
    "% plot and label element load\n",
    "Create_Window (WinXr,WinYr);       % open figure window\n",
    "PlotOpt.PlNod = 'no';\n",
    "Plot_Model  (Model,[],PlotOpt);    % plot model\n",
    "PlotOpt.FrcSF = 4;\n",
    "% PlotOpt.TipSF = 1.25;\n",
    "Plot_ElemLoading (Model,ElemData,PlotOpt);\n",
    "Plot_Model (Model,[],PlotOpt);    % plot model"
   ]
  },
  {
   "cell_type": "code",
   "execution_count": 5,
   "metadata": {},
   "outputs": [
    {
     "name": "stdout",
     "output_type": "stream",
     "text": [
      "\n",
      "Q =\n",
      "\n",
      "   37.4879\n",
      "         0\n",
      "  100.0971\n",
      "   16.6829\n",
      " -100.0971\n",
      " -199.8058\n",
      "  -20.8536\n",
      "\n",
      "\n"
     ]
    }
   ],
   "source": [
    "S_DisplMethod\n",
    "Q"
   ]
  }
 ],
 "metadata": {
  "kernelspec": {
   "display_name": "Matlab",
   "language": "matlab",
   "name": "matlab"
  },
  "language_info": {
   "codemirror_mode": "octave",
   "file_extension": ".m",
   "help_links": [
    {
     "text": "MetaKernel Magics",
     "url": "https://metakernel.readthedocs.io/en/latest/source/README.html"
    }
   ],
   "mimetype": "text/x-octave",
   "name": "matlab",
   "version": "0.16.7"
  }
 },
 "nbformat": 4,
 "nbformat_minor": 4
}
