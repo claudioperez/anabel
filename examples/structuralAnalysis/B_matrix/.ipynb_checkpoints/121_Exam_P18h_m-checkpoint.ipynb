{
 "cells": [
  {
   "cell_type": "code",
   "execution_count": 1,
   "metadata": {},
   "outputs": [
    {
     "name": "stdout",
     "output_type": "stream",
     "text": [
      "\n"
     ]
    }
   ],
   "source": [
    "CleanStart\n",
    "\n",
    "% Node Definitions\n",
    "XYZ(1,:) = [0.0 0.0];\n",
    "XYZ(2,:) = [6.0 8.0];\n",
    "XYZ(3,:) = [12.0 8.0];\n",
    "XYZ(4,:) = [12.0 0.0];\n",
    "\n",
    "% Connections\n",
    "CON(1,:) = [2 3];\n",
    "CON(2,:) = [3 4];\n",
    "CON(3,:) = [1 2];\n",
    "\n",
    "% Boundary Conditions\n",
    "BOUN(1,:) = [1 1 1];\n",
    "BOUN(2,:) = [0 0 1];\n",
    "BOUN(4,:) = [1 1 1];\n",
    "\n",
    "% Specify element type\n",
    "ElemName{1} = 'Lin2dFrm';\n",
    "ElemName{2} = 'Lin2dFrm';\n",
    "ElemName{3} = 'LinTruss';\n",
    "\n",
    "% Create model\n",
    "Model = Create_SimpleModel (XYZ,CON,BOUN,ElemName);\n",
    "\n",
    "% Element properties\n",
    "\n",
    " ElemData = cell(Model.ne,1);\n",
    "\n",
    "% Element: a\n",
    "ElemData{1}.A = 10000000000.0;\n",
    "ElemData{1}.E = 1.0;\n",
    "ElemData{1}.I = 50000;\n",
    "ElemData{1}.Release = [0;1;0];\n",
    "\n",
    "% Element: b\n",
    "ElemData{2}.A = 10000000000.0;\n",
    "ElemData{2}.E = 1.0;\n",
    "ElemData{2}.I = 50000;\n",
    "ElemData{2}.Release = [0;0;0];\n",
    "\n",
    "% Element: c\n",
    "ElemData{3}.A = 50000.0;\n",
    "ElemData{3}.E = 1.0;"
   ]
  },
  {
   "cell_type": "code",
   "execution_count": 2,
   "metadata": {},
   "outputs": [
    {
     "name": "stdout",
     "output_type": "stream",
     "text": [
      "\n"
     ]
    }
   ],
   "source": [
    "%% Element loads\n",
    "\n",
    "% Element: a\n",
    "ElemData{1}.e0 =  [0 ;-1e-3];\n",
    "\n",
    "% Element: b\n",
    "ElemData{2}.e0 =  [0 ; 1e-3];\n",
    "\n",
    "% Element: c\n",
    "ElemData{3}.q0 =  50.183;\n",
    "% -0.010037/10\n",
    "\n",
    "%% Nodal loads\n",
    "Pf = zeros(5,1);\n",
    "Pf(1) = -50.0;\n",
    "Loading.Pref = Pf;"
   ]
  },
  {
   "cell_type": "code",
   "execution_count": 3,
   "metadata": {},
   "outputs": [
    {
     "name": "stdout",
     "output_type": "stream",
     "text": [
      "\n",
      "Q =\n",
      "\n",
      "   37.4879\n",
      "         0\n",
      "  100.0971\n",
      "   16.6829\n",
      " -100.0971\n",
      " -199.8058\n",
      "  -20.8536\n",
      "\n",
      "\n"
     ]
    }
   ],
   "source": [
    "S_DisplMethod\n",
    "Q"
   ]
  }
 ],
 "metadata": {
  "kernelspec": {
   "display_name": "Matlab",
   "language": "matlab",
   "name": "matlab"
  },
  "language_info": {
   "codemirror_mode": "octave",
   "file_extension": ".m",
   "help_links": [
    {
     "text": "MetaKernel Magics",
     "url": "https://metakernel.readthedocs.io/en/latest/source/README.html"
    }
   ],
   "mimetype": "text/x-octave",
   "name": "matlab",
   "version": "0.16.7"
  }
 },
 "nbformat": 4,
 "nbformat_minor": 4
}
