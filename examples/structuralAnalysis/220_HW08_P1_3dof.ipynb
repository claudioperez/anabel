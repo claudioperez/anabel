{
 "cells": [
  {
   "cell_type": "code",
   "execution_count": 3,
   "metadata": {},
   "outputs": [],
   "source": [
    "import ema as em\n",
    "import matplotlib.pyplot as plt\n",
    "import numpy as np\n",
    "# %config InlineBackend.figure_format = 'svg' # used to make plots look nicer"
   ]
  },
  {
   "cell_type": "code",
   "execution_count": 4,
   "metadata": {
    "jupyter": {
     "source_hidden": true
    }
   },
   "outputs": [
    {
     "data": {
      "text/plain": [
       "3"
      ]
     },
     "execution_count": 4,
     "metadata": {},
     "output_type": "execute_result"
    }
   ],
   "source": [
    "# Initialize model\n",
    "mdl = em.rModel(2,3)\n",
    "nodes = mdl.nodes # returns an automatically updating LIST of node objects in model\n",
    "n = mdl.dnodes    # returns an automatically updating DICT of node objects in model\n",
    "\n",
    "# Define default section properties\n",
    "A=1\n",
    "I  = 60000\n",
    "xsec = mdl.xsection('default', A, I)\n",
    "\n",
    "\n",
    "# Define nodes\n",
    "mdl.node('1', 0.0, 0.0)\n",
    "mdl.node('2', 8., 0.0)\n",
    "mdl.node('3', 12., 0.0)\n",
    "mdl.node('4', 20., 0.0)\n",
    "\n",
    "# Create beams\n",
    "a, b, c = mdl.girder(nodes)\n",
    "\n",
    "mdl.hinge(a, n['1'])\n",
    "mdl.hinge(a, n['2'])\n",
    "mdl.hinge(c, n['4'])\n",
    "\n",
    "# Establish fixities\n",
    "mdl.fix(n['1'], ['x','y', 'rz'])\n",
    "mdl.fix(n['3'], ['y'])\n",
    "mdl.fix(n['4'], ['y', 'rz'])\n",
    "\n",
    "# uncomment line below to automatically print FEDEASLab input script\n",
    "# em.utilities.export.FEDEAS(dm)\n",
    "\n",
    "mdl.DOF = [[4, 5, 6], [4, 1, 3], [4, 7, 2], [4, 8, 9]] # automatically number dofs and print them as list\n",
    "mdl.NOS # return degree of static indeterminacy"
   ]
  },
  {
   "cell_type": "code",
   "execution_count": 5,
   "metadata": {},
   "outputs": [
    {
     "data": {
      "image/png": "[encoded data removed]",
      "text/plain": [
       "<Figure size 432x288 with 1 Axes>"
      ]
     },
     "metadata": {
      "needs_background": "light"
     },
     "output_type": "display_data"
    }
   ],
   "source": [
    "fix, ax = plt.subplots()\n",
    "em.plot_beam(mdl, ax)"
   ]
  },
  {
   "cell_type": "code",
   "execution_count": 14,
   "metadata": {},
   "outputs": [
    {
     "data": {
      "text/html": [
       "<table border=\"1\" class=\"dataframe\">\n",
       "  <thead>\n",
       "    <tr style=\"text-align: right;\">\n",
       "      <th></th>\n",
       "      <th>$1$</th>\n",
       "      <th>$2$</th>\n",
       "      <th>$3$</th>\n",
       "    </tr>\n",
       "  </thead>\n",
       "  <tbody>\n",
       "    <tr>\n",
       "      <th>$a_1$</th>\n",
       "      <td>0.000</td>\n",
       "      <td>0.0</td>\n",
       "      <td>0.0</td>\n",
       "    </tr>\n",
       "    <tr>\n",
       "      <th>$a_2$</th>\n",
       "      <td>-0.125</td>\n",
       "      <td>0.0</td>\n",
       "      <td>0.0</td>\n",
       "    </tr>\n",
       "    <tr>\n",
       "      <th>$a_3$</th>\n",
       "      <td>-0.125</td>\n",
       "      <td>0.0</td>\n",
       "      <td>1.0</td>\n",
       "    </tr>\n",
       "    <tr>\n",
       "      <th>$b_1$</th>\n",
       "      <td>-0.000</td>\n",
       "      <td>0.0</td>\n",
       "      <td>0.0</td>\n",
       "    </tr>\n",
       "    <tr>\n",
       "      <th>$b_2$</th>\n",
       "      <td>0.250</td>\n",
       "      <td>0.0</td>\n",
       "      <td>1.0</td>\n",
       "    </tr>\n",
       "    <tr>\n",
       "      <th>$b_3$</th>\n",
       "      <td>0.250</td>\n",
       "      <td>1.0</td>\n",
       "      <td>0.0</td>\n",
       "    </tr>\n",
       "    <tr>\n",
       "      <th>$c_1$</th>\n",
       "      <td>0.000</td>\n",
       "      <td>0.0</td>\n",
       "      <td>0.0</td>\n",
       "    </tr>\n",
       "    <tr>\n",
       "      <th>$c_2$</th>\n",
       "      <td>0.000</td>\n",
       "      <td>1.0</td>\n",
       "      <td>0.0</td>\n",
       "    </tr>\n",
       "    <tr>\n",
       "      <th>$c_3$</th>\n",
       "      <td>0.000</td>\n",
       "      <td>0.0</td>\n",
       "      <td>0.0</td>\n",
       "    </tr>\n",
       "  </tbody>\n",
       "</table>"
      ],
      "text/plain": [
       "Kinematic_matrix([[ 0.   ,  0.   ,  0.   ],\n",
       "                  [-0.125,  0.   ,  0.   ],\n",
       "                  [-0.125,  0.   ,  1.   ],\n",
       "                  [-0.   ,  0.   ,  0.   ],\n",
       "                  [ 0.25 ,  0.   ,  1.   ],\n",
       "                  [ 0.25 ,  1.   ,  0.   ],\n",
       "                  [ 0.   ,  0.   ,  0.   ],\n",
       "                  [ 0.   ,  1.   ,  0.   ],\n",
       "                  [ 0.   ,  0.   ,  0.   ]])"
      ]
     },
     "execution_count": 14,
     "metadata": {},
     "output_type": "execute_result"
    }
   ],
   "source": [
    "A = em.A_matrix(mdl)\n",
    "A.f"
   ]
  },
  {
   "cell_type": "code",
   "execution_count": 13,
   "metadata": {},
   "outputs": [
    {
     "data": {
      "text/html": [
       "<table border=\"1\" class=\"dataframe\">\n",
       "  <thead>\n",
       "    <tr style=\"text-align: right;\">\n",
       "      <th></th>\n",
       "      <th>$1$</th>\n",
       "      <th>$2$</th>\n",
       "      <th>$3$</th>\n",
       "    </tr>\n",
       "  </thead>\n",
       "  <tbody>\n",
       "    <tr>\n",
       "      <th>$b_2$</th>\n",
       "      <td>0.25</td>\n",
       "      <td>0.0</td>\n",
       "      <td>1.0</td>\n",
       "    </tr>\n",
       "    <tr>\n",
       "      <th>$b_3$</th>\n",
       "      <td>0.25</td>\n",
       "      <td>1.0</td>\n",
       "      <td>0.0</td>\n",
       "    </tr>\n",
       "    <tr>\n",
       "      <th>$c_2$</th>\n",
       "      <td>0.00</td>\n",
       "      <td>1.0</td>\n",
       "      <td>0.0</td>\n",
       "    </tr>\n",
       "  </tbody>\n",
       "</table>"
      ],
      "text/plain": [
       "Kinematic_matrix([[0.25, 0.  , 1.  ],\n",
       "                  [0.25, 1.  , 0.  ],\n",
       "                  [0.  , 1.  , 0.  ]])"
      ]
     },
     "execution_count": 13,
     "metadata": {},
     "output_type": "execute_result"
    }
   ],
   "source": [
    "A.f.c.del_zeros()"
   ]
  },
  {
   "cell_type": "code",
   "execution_count": 12,
   "metadata": {},
   "outputs": [
    {
     "data": {
      "text/html": [
       "<table border=\"1\" class=\"dataframe\">\n",
       "  <thead>\n",
       "    <tr style=\"text-align: right;\">\n",
       "      <th></th>\n",
       "      <th>$b_2$</th>\n",
       "      <th>$b_3$</th>\n",
       "      <th>$c_2$</th>\n",
       "    </tr>\n",
       "  </thead>\n",
       "  <tbody>\n",
       "    <tr>\n",
       "      <th>$1$</th>\n",
       "      <td>0.0</td>\n",
       "      <td>4.0</td>\n",
       "      <td>-4.0</td>\n",
       "    </tr>\n",
       "    <tr>\n",
       "      <th>$2$</th>\n",
       "      <td>0.0</td>\n",
       "      <td>0.0</td>\n",
       "      <td>1.0</td>\n",
       "    </tr>\n",
       "    <tr>\n",
       "      <th>$3$</th>\n",
       "      <td>1.0</td>\n",
       "      <td>-1.0</td>\n",
       "      <td>1.0</td>\n",
       "    </tr>\n",
       "  </tbody>\n",
       "</table>"
      ],
      "text/plain": [
       "Kinematic_matrix([[ 0.,  4., -4.],\n",
       "                  [ 0.,  0.,  1.],\n",
       "                  [ 1., -1.,  1.]])"
      ]
     },
     "execution_count": 12,
     "metadata": {},
     "output_type": "execute_result"
    }
   ],
   "source": [
    "A.f.c.del_zeros().inv"
   ]
  },
  {
   "cell_type": "code",
   "execution_count": null,
   "metadata": {},
   "outputs": [],
   "source": []
  }
 ],
 "metadata": {
  "kernelspec": {
   "display_name": "Python 3",
   "language": "python",
   "name": "python3"
  },
  "language_info": {
   "codemirror_mode": {
    "name": "ipython",
    "version": 3
   },
   "file_extension": ".py",
   "mimetype": "text/x-python",
   "name": "python",
   "nbconvert_exporter": "python",
   "pygments_lexer": "ipython3",
   "version": "3.7.4"
  }
 },
 "nbformat": 4,
 "nbformat_minor": 4
}
