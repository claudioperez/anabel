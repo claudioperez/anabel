{
 "cells": [
  {
   "cell_type": "code",
   "execution_count": 1,
   "metadata": {},
   "outputs": [
    {
     "name": "stdout",
     "output_type": "stream",
     "text": [
      "{'mesh': {'e1': ['truss', ['n1', 'n2']], 'e2': ['truss', ['n2', 'n3']], 'e3': ['truss', ['n3', 'n4']], 'e4': ['truss', ['n1', 'n5']], 'e5': ['truss', ['n5', 'n6']], 'e6': ['truss', ['n4', 'n6']], 'e7': ['truss', ['n2', 'n5']], 'e8': ['truss', ['n3', 'n6']], 'e9': ['truss', ['n3', 'n5']]}, 'bn': {'n1': [1, 1], 'n4': [0, 1]}, 'debug': False, 'ndf': 2, 'nr': 3, 'nodes': {'n1', 'n3', 'n4', 'n5', 'n2', 'n6'}, 'nn': 6, 'crxns': 13, 'temp': {'n1': [10, 11], 'n2': [1, 2], 'n3': [3, 4], 'n4': [5, 12], 'n5': [6, 7], 'n6': [8, 9]}, 'node': 'n6', 'DOFs': [8, 9], 'rxn': 1, 'df': 10}\n"
     ]
    },
    {
     "name": "stderr",
     "output_type": "stream",
     "text": [
      "/home/claudio/miniconda3/envs/piplin/lib/python3.8/site-packages/jax/lib/xla_bridge.py:116: UserWarning: No GPU/TPU found, falling back to CPU.\n",
      "  warnings.warn('No GPU/TPU found, falling back to CPU.')\n"
     ]
    }
   ],
   "source": [
    "import jax\n",
    "from runserve import *"
   ]
  },
  {
   "cell_type": "code",
   "execution_count": 2,
   "metadata": {},
   "outputs": [
    {
     "data": {
      "text/plain": [
       "[8.938299179077148, 7.31228494644165]"
      ]
     },
     "execution_count": 2,
     "metadata": {},
     "output_type": "execute_result"
    }
   ],
   "source": [
    "X = np.array([205., 25., 250., 500.],dtype='float32')\n",
    "response(X)"
   ]
  },
  {
   "cell_type": "code",
   "execution_count": null,
   "metadata": {},
   "outputs": [],
   "source": []
  },
  {
   "cell_type": "code",
   "execution_count": null,
   "metadata": {},
   "outputs": [],
   "source": []
  }
 ],
 "metadata": {
  "kernelspec": {
   "display_name": "Python 3",
   "language": "python",
   "name": "python3"
  },
  "language_info": {
   "codemirror_mode": {
    "name": "ipython",
    "version": 3
   },
   "file_extension": ".py",
   "mimetype": "text/x-python",
   "name": "python",
   "nbconvert_exporter": "python",
   "pygments_lexer": "ipython3",
   "version": "3.8.2"
  }
 },
 "nbformat": 4,
 "nbformat_minor": 4
}
