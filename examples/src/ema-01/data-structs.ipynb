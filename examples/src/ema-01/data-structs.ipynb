{
 "cells": [
  {
   "cell_type": "markdown",
   "metadata": {},
   "source": [
    "# Data Structures\n"
   ]
  },
  {
   "cell_type": "code",
   "execution_count": null,
   "metadata": {},
   "outputs": [],
   "source": [
    "Array\n",
    "DOF\n",
    "CON\n",
    "F"
   ]
  },
  {
   "cell_type": "code",
   "execution_count": null,
   "metadata": {},
   "outputs": [],
   "source": [
    "def Model():\n",
    "    for i,f in enumerate(F):\n",
    "        G[i] = Generator(f=f, \n",
    "                   r1 = lambda n,e: x,\n",
    "                   r2 = lambda f,e: y)\n",
    "    \n",
    "    ModelTree = {\n",
    "        g: {\n",
    "            e: [[DOF[node]] for node in CON[e]],'maps': for e in CON\n",
    "        } for g in G\n",
    "    }\n",
    "    \n",
    "    def _f1(e_dof, V_DOF):\n",
    "        u = jnp.take(V_DOF, jnp.array(e_dof, dtype='int32')-1).flatten()\n",
    "        x0 = jnp.array([ x0[node]  for node in  sorted(con[1]) ]),\n",
    "        \n",
    "        pass\n",
    "        \n",
    "    F = map()( *__f1(E,(X,P,U)) , params)\n",
    "        "
   ]
  }
 ],
 "metadata": {
  "kernelspec": {
   "display_name": "Python 3",
   "language": "python",
   "name": "python3"
  },
  "language_info": {
   "codemirror_mode": {
    "name": "ipython",
    "version": 3
   },
   "file_extension": ".py",
   "mimetype": "text/x-python",
   "name": "python",
   "nbconvert_exporter": "python",
   "pygments_lexer": "ipython3",
   "version": "3.8.2"
  }
 },
 "nbformat": 4,
 "nbformat_minor": 4
}
