{
 "cells": [
  {
   "cell_type": "markdown",
   "metadata": {},
   "source": [
    "# `0020`"
   ]
  },
  {
   "cell_type": "markdown",
   "metadata": {},
   "source": [
    "[![Commits since latest release][gh-image]][gh-link]\n",
    "\n",
    "[gh-link]: https://github.com/claudioperez/elle-0002/compare/v0.0.0...master\n",
    "[gh-image]: https://img.shields.io/github/commits-since/claudioperez/elle-0002/v0.0.0?style=social"
   ]
  },
  {
   "cell_type": "code",
   "execution_count": 1,
   "metadata": {},
   "outputs": [],
   "source": [
    "import anon\n",
    "# anon.conf.config.update('jax_disable_jit', True)\n",
    "anon.conf.config.update(\"jax_enable_x64\", True)\n",
    "import anabel.backend as anp\n",
    "import anabel as em\n",
    "\n",
    "import elle.sections\n",
    "import elle.beam2d\n",
    "geom_template = elle.beam2d.transform_no2(elle.beam2d.geom_no1)\n",
    "beam_template = elle.beam2d.resp_no1"
   ]
  },
  {
   "cell_type": "markdown",
   "metadata": {},
   "source": [
    "An `Assembler` is an object with an `.assemble()` and optionally a `.compose()` method"
   ]
  },
  {
   "cell_type": "code",
   "execution_count": 2,
   "metadata": {},
   "outputs": [
    {
     "name": "stderr",
     "output_type": "stream",
     "text": [
      "WARNING:absl:No GPU/TPU found, falling back to CPU. (Set TF_CPP_MIN_LOG_LEVEL=0 and rerun for more info.)\n"
     ]
    }
   ],
   "source": [
    "# Create a model Assembler\n",
    "model = em.SkeletalModel(ndm=2,ndf=3)\n",
    "\n",
    "# Define problem parameters\n",
    "ColumnArea  = model.param(\"ColumnArea\")\n",
    "GirderArea  = model.param(\"GirderArea\")\n",
    "P1 = model.param(\"P1\")\n",
    "\n",
    "# Define model components\n",
    "column_section = {\"A\": ColumnArea, \"E\":, \"I\": 30**4/12}\n",
    "girder_section = {\"A\": GirderArea, \"E\":, \"I\": 34_383.8}\n",
    "basic_girder  = beam_template(**girder_section, E=GirderE)\n",
    "basic_column  = beam_template(**column_section, E=ColumnE)\n",
    "\n",
    "girder = geom_template(basic_girder)\n",
    "column = geom_template(basic_column)"
   ]
  },
  {
   "cell_type": "code",
   "execution_count": 3,
   "metadata": {},
   "outputs": [
    {
     "data": {
      "image/png": "[encoded data removed]",
      "text/plain": [
       "<Figure size 432x288 with 1 Axes>"
      ]
     },
     "metadata": {
      "needs_background": "light"
     },
     "output_type": "display_data"
    }
   ],
   "source": [
    "# Set up nodes\n",
    "ft = 12\n",
    "B, H = 30.*ft, 13.*ft\n",
    "model.node(\"1\",  0.,  0.)\n",
    "model.node(\"2\",  0.,  H )\n",
    "model.node(\"3\", B/2,  H )\n",
    "model.node(\"4\",  B ,  H )\n",
    "model.node(\"5\",  B ,  0.)\n",
    "\n",
    "model.beam(\"a\", \"1\", \"2\", **column_section, elem=column)\n",
    "model.beam(\"b\", \"2\", \"3\", **girder_section, elem=girder)\n",
    "model.beam(\"c\", \"3\", \"4\", **girder_section, elem=girder)\n",
    "model.beam(\"d\", \"4\", \"5\", **column_section, elem=column)\n",
    "\n",
    "model.boun(\"1\", [1,1,1])\n",
    "model.boun(\"5\", [1,1,1])\n",
    "\n",
    "model.load(\"2\",   P1, dof=\"x\")\n",
    "model.load(\"2\", -2.0, dof=\"y\")\n",
    "model.load(\"4\", -2.0, dof=\"y\")\n",
    "\n",
    "em.plot_skeletal(model);"
   ]
  },
  {
   "cell_type": "code",
   "execution_count": 4,
   "metadata": {},
   "outputs": [],
   "source": [
    "f = model.compose()"
   ]
  },
  {
   "cell_type": "code",
   "execution_count": 5,
   "metadata": {},
   "outputs": [
    {
     "data": {
      "text/plain": [
       "DeviceArray([[ 1.52848857],\n",
       "             [ 0.00583992],\n",
       "             [-0.01110097],\n",
       "             [ 1.49259297],\n",
       "             [-0.02807216],\n",
       "             [ 0.0053456 ],\n",
       "             [ 1.45669737],\n",
       "             [-0.00603251],\n",
       "             [-0.01047929]], dtype=float64)"
      ]
     },
     "execution_count": 5,
     "metadata": {},
     "output_type": "execute_result"
    }
   ],
   "source": [
    "U = f(3600.,3600.,1e3)\n",
    "U"
   ]
  },
  {
   "cell_type": "code",
   "execution_count": 6,
   "metadata": {},
   "outputs": [],
   "source": [
    "for i,u in enumerate(anp.array([[ 1.52848857],\n",
    "                                [ 0.00583992],\n",
    "                                [-0.01110097],\n",
    "                                [ 1.49259297],\n",
    "                                [-0.02807216],\n",
    "                                [ 0.0053456 ],\n",
    "                                [ 1.45669737],\n",
    "                                [-0.00603251],\n",
    "                                [-0.01047929]])):\n",
    "    assert abs(U[i] - u) < 1e-7"
   ]
  },
  {
   "cell_type": "code",
   "execution_count": 7,
   "metadata": {},
   "outputs": [
    {
     "data": {
      "image/png": "[encoded data removed]",
      "text/plain": [
       "<Figure size 432x288 with 1 Axes>"
      ]
     },
     "metadata": {
      "needs_background": "light"
     },
     "output_type": "display_data"
    }
   ],
   "source": [
    "fig, ax = em.plot_displ(model, f(3600,3600,2e3),scale=1e1)\n",
    "fig.savefig(\"/home/claudio/prnt/ms-thesis/doc/img/frame.svg\")"
   ]
  },
  {
   "cell_type": "code",
   "execution_count": 8,
   "metadata": {},
   "outputs": [],
   "source": [
    "df = anon.diff.jacfwd(f, None, (0,1),squeeze=False)"
   ]
  },
  {
   "cell_type": "code",
   "execution_count": 9,
   "metadata": {},
   "outputs": [
    {
     "data": {
      "text/plain": [
       "(DeviceArray([[-8.69522599e-11],\n",
       "              [-7.26154452e-13],\n",
       "              [ 3.97452570e-13],\n",
       "              [-8.69086396e-11],\n",
       "              [-2.03656535e-13],\n",
       "              [-1.93805278e-13],\n",
       "              [-8.68650194e-11],\n",
       "              [ 7.26978867e-13],\n",
       "              [ 4.01987431e-13]], dtype=float64),\n",
       " DeviceArray([[-4.39052633e-11],\n",
       "              [ 2.18353505e-13],\n",
       "              [ 5.52927845e-13],\n",
       "              [-4.08757761e-11],\n",
       "              [ 2.59914899e-12],\n",
       "              [-2.63843818e-13],\n",
       "              [-3.78462889e-11],\n",
       "              [-2.18353505e-13],\n",
       "              [ 4.95168978e-13]], dtype=float64))"
      ]
     },
     "execution_count": 9,
     "metadata": {},
     "output_type": "execute_result"
    }
   ],
   "source": [
    "df(29e6,29e6,20e3)"
   ]
  },
  {
   "cell_type": "code",
   "execution_count": null,
   "metadata": {},
   "outputs": [],
   "source": []
  }
 ],
 "metadata": {
  "kernelspec": {
   "display_name": "Python 3",
   "language": "python",
   "name": "python3"
  },
  "language_info": {
   "codemirror_mode": {
    "name": "ipython",
    "version": 3
   },
   "file_extension": ".py",
   "mimetype": "text/x-python",
   "name": "python",
   "nbconvert_exporter": "python",
   "pygments_lexer": "ipython3",
   "version": "3.8.8"
  }
 },
 "nbformat": 4,
 "nbformat_minor": 4
}
