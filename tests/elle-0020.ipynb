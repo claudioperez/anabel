{
 "cells": [
  {
   "cell_type": "markdown",
   "metadata": {},
   "source": [
    "# `0020`"
   ]
  },
  {
   "cell_type": "markdown",
   "metadata": {},
   "source": [
    "[![Commits since latest release][gh-image]][gh-link]\n",
    "\n",
    "[gh-link]: https://github.com/claudioperez/elle-0002/compare/v0.0.0...master\n",
    "[gh-image]: https://img.shields.io/github/commits-since/claudioperez/elle-0002/v0.0.0?style=social"
   ]
  },
  {
   "cell_type": "code",
   "execution_count": 1,
   "metadata": {},
   "outputs": [],
   "source": [
    "import anon\n",
    "# anon.conf.config.update('jax_disable_jit', True)\n",
    "anon.conf.config.update(\"jax_enable_x64\", True)\n",
    "import anon.atom as anp\n",
    "import elle.sections\n",
    "import elle.beam2d\n",
    "import emme as em\n",
    "geom_template = elle.beam2d.transform_no2(elle.beam2d.geom_no1)\n",
    "beam_template = elle.beam2d.resp_no1"
   ]
  },
  {
   "cell_type": "markdown",
   "metadata": {},
   "source": [
    "An `Assembler` is an object with an `.assemble()` and optionally a `.compose()` method"
   ]
  },
  {
   "cell_type": "code",
   "execution_count": 2,
   "metadata": {},
   "outputs": [
    {
     "name": "stderr",
     "output_type": "stream",
     "text": [
      "WARNING:absl:No GPU/TPU found, falling back to CPU. (Set TF_CPP_MIN_LOG_LEVEL=0 and rerun for more info.)\n"
     ]
    }
   ],
   "source": [
    "# Create a model Assembler\n",
    "model = em.SkeletalModel(ndm=2,ndf=3)\n",
    "\n",
    "# Define problem parameters\n",
    "ColumnE  = model.param(\"ColumnE\")\n",
    "GirderE  = model.param(\"GirderE\")\n",
    "P1 = model.param(\"P1\")\n",
    "\n",
    "# Define model components\n",
    "column_section = {\"A\": 576.0, \"I\": 27_648.0}\n",
    "girder_section = {\"A\": 684.0, \"I\": 34_383.8}\n",
    "basic_girder  = beam_template(**girder_section, E=GirderE)\n",
    "basic_column  = beam_template(**column_section, E=ColumnE)\n",
    "\n",
    "girder = geom_template(basic_girder)\n",
    "column = geom_template(basic_column)"
   ]
  },
  {
   "cell_type": "code",
   "execution_count": 3,
   "metadata": {},
   "outputs": [
    {
     "data": {
      "image/png": "[encoded data removed]",
      "text/plain": [
       "<Figure size 432x288 with 1 Axes>"
      ]
     },
     "metadata": {
      "needs_background": "light"
     },
     "output_type": "display_data"
    }
   ],
   "source": [
    "# Set up nodes\n",
    "ft = 12\n",
    "B, H = 30.*ft, 13.*ft\n",
    "model.node(\"1\",  0.,  0.)\n",
    "model.node(\"2\",  0.,  H )\n",
    "model.node(\"3\", B/2,  H )\n",
    "model.node(\"4\",  B ,  H )\n",
    "model.node(\"5\",  B ,  0.)\n",
    "\n",
    "model.beam(\"a\", \"1\", \"2\", **column_section, elem=column)\n",
    "model.beam(\"b\", \"2\", \"3\", **girder_section, elem=girder)\n",
    "model.beam(\"c\", \"3\", \"4\", **girder_section, elem=girder)\n",
    "model.beam(\"d\", \"4\", \"5\", **column_section, elem=column)\n",
    "\n",
    "model.boun(\"1\", [1,1,1])\n",
    "model.boun(\"5\", [1,1,1])\n",
    "\n",
    "model.load(\"2\",   P1, dof=\"x\")\n",
    "model.load(\"2\", -2e3, dof=\"y\")\n",
    "model.load(\"4\", -2e3, dof=\"y\")\n",
    "\n",
    "em.plot_skeletal(model);"
   ]
  },
  {
   "cell_type": "code",
   "execution_count": 4,
   "metadata": {},
   "outputs": [],
   "source": [
    "f = model.compose()"
   ]
  },
  {
   "cell_type": "code",
   "execution_count": 5,
   "metadata": {},
   "outputs": [
    {
     "name": "stdout",
     "output_type": "stream",
     "text": [
      "dx: [[ 2000.]\n",
      " [-2000.]\n",
      " [    0.]\n",
      " [    0.]\n",
      " [    0.]\n",
      " [    0.]\n",
      " [    0.]\n",
      " [-2000.]\n",
      " [    0.]]\n"
     ]
    },
    {
     "data": {
      "text/plain": [
       "DeviceArray([[ 5.51162988],\n",
       "             [-0.12559148],\n",
       "             [-0.02953163],\n",
       "             [ 5.43921196],\n",
       "             [-0.19983019],\n",
       "             [ 0.01428429],\n",
       "             [ 5.36679404],\n",
       "             [-0.17533444],\n",
       "             [-0.02843458]], dtype=float64)"
      ]
     },
     "execution_count": 5,
     "metadata": {},
     "output_type": "execute_result"
    }
   ],
   "source": [
    "f(3600.,3600.,2e3)"
   ]
  },
  {
   "cell_type": "code",
   "execution_count": 6,
   "metadata": {},
   "outputs": [
    {
     "name": "stdout",
     "output_type": "stream",
     "text": [
      "dx: [[ 2000.]\n",
      " [-2000.]\n",
      " [    0.]\n",
      " [    0.]\n",
      " [    0.]\n",
      " [    0.]\n",
      " [    0.]\n",
      " [-2000.]\n",
      " [    0.]]\n"
     ]
    },
    {
     "data": {
      "image/png": "[encoded data removed]",
      "text/plain": [
       "<Figure size 432x288 with 1 Axes>"
      ]
     },
     "metadata": {
      "needs_background": "light"
     },
     "output_type": "display_data"
    }
   ],
   "source": [
    "fig, ax = em.plot_displ(model, f(3600,3600,2e3),scale=1)"
   ]
  },
  {
   "cell_type": "code",
   "execution_count": 7,
   "metadata": {},
   "outputs": [],
   "source": [
    "df = anon.diff.jacfwd(f, None, (0,1),squeeze=False)"
   ]
  },
  {
   "cell_type": "code",
   "execution_count": 8,
   "metadata": {},
   "outputs": [
    {
     "name": "stdout",
     "output_type": "stream",
     "text": [
      "dx: Traced<ConcreteArray([[20000.]\n",
      " [-2000.]\n",
      " [    0.]\n",
      " [    0.]\n",
      " [    0.]\n",
      " [    0.]\n",
      " [    0.]\n",
      " [-2000.]\n",
      " [    0.]])>with<JVPTrace(level=2/0)>\n",
      "  with primal = DeviceArray([[20000.],\n",
      "                             [-2000.],\n",
      "                             [    0.],\n",
      "                             [    0.],\n",
      "                             [    0.],\n",
      "                             [    0.],\n",
      "                             [    0.],\n",
      "                             [-2000.],\n",
      "                             [    0.]], dtype=float64)\n",
      "       tangent = Traced<ShapedArray(float64[9,1])>with<BatchTrace(level=1/0)>\n",
      "                   with val = DeviceArray([[[-0.],\n",
      "                                            [-0.]],\n",
      "                              \n",
      "                                           [[-0.],\n",
      "                                            [-0.]],\n",
      "                              \n",
      "                                           [[-0.],\n",
      "                                            [-0.]],\n",
      "                              \n",
      "                                           [[-0.],\n",
      "                                            [-0.]],\n",
      "                              \n",
      "                                           [[-0.],\n",
      "                                            [-0.]],\n",
      "                              \n",
      "                                           [[-0.],\n",
      "                                            [-0.]],\n",
      "                              \n",
      "                                           [[-0.],\n",
      "                                            [-0.]],\n",
      "                              \n",
      "                                           [[-0.],\n",
      "                                            [-0.]],\n",
      "                              \n",
      "                                           [[-0.],\n",
      "                                            [-0.]]], dtype=float64)\n",
      "                        batch_dim = 1\n"
     ]
    },
    {
     "name": "stderr",
     "output_type": "stream",
     "text": [
      "/home/claudio/elle/numeric/elle/numeric/inverse.py:112: UserWarning: Function inversion failed to converge.\n",
      "  warnings.warn(\"Function inversion failed to converge.\")\n"
     ]
    },
    {
     "data": {
      "text/plain": [
       "(DeviceArray([[-1.59375104e-10],\n",
       "              [-6.71781567e-13],\n",
       "              [ 2.93813049e-13],\n",
       "              [-1.59355061e-10],\n",
       "              [ 2.09187843e-13],\n",
       "              [-1.38357094e-13],\n",
       "              [-1.59335017e-10],\n",
       "              [ 1.95993060e-12],\n",
       "              [ 3.03477198e-13]], dtype=float64),\n",
       " DeviceArray([[-7.65567337e-11],\n",
       "              [ 2.51202880e-13],\n",
       "              [ 9.70323124e-13],\n",
       "              [-7.34768423e-11],\n",
       "              [ 2.54810932e-12],\n",
       "              [-4.73098757e-13],\n",
       "              [-7.03969509e-11],\n",
       "              [-2.51202880e-13],\n",
       "              [ 9.13698473e-13]], dtype=float64))"
      ]
     },
     "execution_count": 8,
     "metadata": {},
     "output_type": "execute_result"
    }
   ],
   "source": [
    "df(29e6,29e6,20e3)"
   ]
  },
  {
   "cell_type": "code",
   "execution_count": null,
   "metadata": {},
   "outputs": [],
   "source": []
  }
 ],
 "metadata": {
  "kernelspec": {
   "display_name": "Python 3",
   "language": "python",
   "name": "python3"
  },
  "language_info": {
   "codemirror_mode": {
    "name": "ipython",
    "version": 3
   },
   "file_extension": ".py",
   "mimetype": "text/x-python",
   "name": "python",
   "nbconvert_exporter": "python",
   "pygments_lexer": "ipython3",
   "version": "3.8.8"
  }
 },
 "nbformat": 4,
 "nbformat_minor": 4
}
