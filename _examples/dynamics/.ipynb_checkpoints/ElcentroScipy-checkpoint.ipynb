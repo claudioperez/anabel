{
 "cells": [
  {
   "cell_type": "code",
   "execution_count": 1,
   "metadata": {},
   "outputs": [
    {
     "ename": "ModuleNotFoundError",
     "evalue": "No module named 'numba'",
     "output_type": "error",
     "traceback": [
      "\u001b[1;31m---------------------------------------------------------------------------\u001b[0m",
      "\u001b[1;31mModuleNotFoundError\u001b[0m                       Traceback (most recent call last)",
      "\u001b[1;32m<ipython-input-1-969879f64081>\u001b[0m in \u001b[0;36m<module>\u001b[1;34m\u001b[0m\n\u001b[0;32m      1\u001b[0m \u001b[1;32mimport\u001b[0m \u001b[0mnumpy\u001b[0m \u001b[1;32mas\u001b[0m \u001b[0mnp\u001b[0m\u001b[1;33m\u001b[0m\u001b[1;33m\u001b[0m\u001b[0m\n\u001b[1;32m----> 2\u001b[1;33m \u001b[1;32mfrom\u001b[0m \u001b[0mnumba\u001b[0m \u001b[1;32mimport\u001b[0m \u001b[0mjit\u001b[0m\u001b[1;33m\u001b[0m\u001b[1;33m\u001b[0m\u001b[0m\n\u001b[0m\u001b[0;32m      3\u001b[0m \u001b[1;32mfrom\u001b[0m \u001b[0mnumpy\u001b[0m \u001b[1;32mimport\u001b[0m \u001b[0mgenfromtxt\u001b[0m\u001b[1;33m\u001b[0m\u001b[1;33m\u001b[0m\u001b[0m\n\u001b[0;32m      4\u001b[0m \u001b[1;32mfrom\u001b[0m \u001b[0mscipy\u001b[0m\u001b[1;33m.\u001b[0m\u001b[0mintegrate\u001b[0m \u001b[1;32mimport\u001b[0m \u001b[0msolve_ivp\u001b[0m\u001b[1;33m\u001b[0m\u001b[1;33m\u001b[0m\u001b[0m\n\u001b[0;32m      5\u001b[0m \u001b[1;32mimport\u001b[0m \u001b[0mmatplotlib\u001b[0m\u001b[1;33m.\u001b[0m\u001b[0mpyplot\u001b[0m \u001b[1;32mas\u001b[0m \u001b[0mplt\u001b[0m\u001b[1;33m\u001b[0m\u001b[1;33m\u001b[0m\u001b[0m\n",
      "\u001b[1;31mModuleNotFoundError\u001b[0m: No module named 'numba'"
     ]
    }
   ],
   "source": [
    "import numpy as np\n",
    "from numpy import genfromtxt\n",
    "\n",
    "from numba import jit\n",
    "from scipy.integrate import solve_ivp\n",
    "import matplotlib.pyplot as plt\n",
    "%config InlineBackend.figure_format = 'svg' # used to make plots look nicer"
   ]
  },
  {
   "cell_type": "code",
   "execution_count": null,
   "metadata": {},
   "outputs": [],
   "source": [
    "ground_motion = genfromtxt('ElcentroNS.csv', delimiter=',')[:750,:]\n",
    "ground_motion[0,0]=0.0"
   ]
  },
  {
   "cell_type": "code",
   "execution_count": null,
   "metadata": {},
   "outputs": [],
   "source": [
    "def ElcentroNumb(zeta, omega):\n",
    "    g=386.4\n",
    "    ground_motion = genfromtxt('ElcentroNS.csv', delimiter=',')[:750,:]\n",
    "    ground_motion[0,0]=0.0\n",
    "    time = ground_motion[:,0]\n",
    "    t_span = (time[0], time[-1])\n",
    "    u0 = (0.0, 0.0)\n",
    "\n",
    "    def EOM(t, y):\n",
    "        i = np.argmin(np.abs(time - t))\n",
    "        D, dDdt = y\n",
    "        n = int(t)\n",
    "        dydt = [dDdt, -ground_motion[i,1]*g-omega**2*D-2*zeta*omega*dDdt]\n",
    "        return dydt\n",
    "    rtol=atol=1e-5\n",
    "    sol = solve_ivp(EOM, y0=u0, t_span=t_span, args=(zeta, omega), rtol=rtol, atol=atol)\n",
    "    D = sol.y[0,:]\n",
    "    t = sol.t\n",
    "    return t, D\n",
    "\n",
    "def Elcentro(zeta, omega):\n",
    "    g=386.4\n",
    "    ground_motion = genfromtxt('ElcentroNS.csv', delimiter=',')[:750,:]\n",
    "    ground_motion[0,0]=0.0\n",
    "    time = ground_motion[:,0]\n",
    "    t_span = (time[0], time[-1])\n",
    "    u0 = (0.0, 0.0)\n",
    "\n",
    "    def EOM(t, y):\n",
    "        i = np.argmin(np.abs(time - t))\n",
    "        D, dDdt = y\n",
    "        n = int(t)\n",
    "        dydt = [dDdt, -ground_motion[i,1]*g-omega**2*D-2*zeta*omega*dDdt]\n",
    "        return dydt\n",
    "    rtol=atol=1e-5\n",
    "    sol = solve_ivp(EOM, y0=u0, t_span=t_span, args=(zeta, omega), rtol=rtol, atol=atol)\n",
    "    D = sol.y[0,:]\n",
    "    t = sol.t\n",
    "    return t, D"
   ]
  },
  {
   "cell_type": "code",
   "execution_count": null,
   "metadata": {},
   "outputs": [],
   "source": [
    "zeta = 0.05\n",
    "Tn = 2\n",
    "omega = np.pi*2/Tn\n",
    "D = IntegrateGM(ground_motion, zeta, omega)"
   ]
  },
  {
   "cell_type": "code",
   "execution_count": null,
   "metadata": {},
   "outputs": [],
   "source": [
    "fig, ax = plt.subplots(2,1)\n",
    "ax[0].plot(D.t, D.y[0,:])\n",
    "ax[1].plot(D.t, D.y[1,:])\n",
    "max(D.y[0,:])"
   ]
  },
  {
   "cell_type": "code",
   "execution_count": null,
   "metadata": {},
   "outputs": [],
   "source": [
    "zeta = 0.05\n",
    "Tn = 2\n",
    "omega = np.pi*2/Tn\n",
    "t, D = Elcentro(zeta, omega)\n",
    "fig, ax = plt.subplots()\n",
    "ax.plot(t, D)\n",
    "max(D)"
   ]
  },
  {
   "cell_type": "code",
   "execution_count": null,
   "metadata": {},
   "outputs": [],
   "source": []
  }
 ],
 "metadata": {
  "kernelspec": {
   "display_name": "Python 3",
   "language": "python",
   "name": "python3"
  },
  "language_info": {
   "codemirror_mode": {
    "name": "ipython",
    "version": 3
   },
   "file_extension": ".py",
   "mimetype": "text/x-python",
   "name": "python",
   "nbconvert_exporter": "python",
   "pygments_lexer": "ipython3",
   "version": "3.7.4"
  }
 },
 "nbformat": 4,
 "nbformat_minor": 4
}
