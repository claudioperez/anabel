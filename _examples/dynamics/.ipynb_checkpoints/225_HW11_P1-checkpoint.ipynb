{
 "cells": [
  {
   "cell_type": "markdown",
   "metadata": {},
   "source": [
    "# Problem 1 \n"
   ]
  },
  {
   "cell_type": "code",
   "execution_count": 1,
   "metadata": {},
   "outputs": [],
   "source": [
    "import ema as em\n",
    "import matplotlib.pyplot as plt\n",
    "import numpy as np\n",
    "%config InlineBackend.figure_format = 'svg' # used to make plots look nicer\n",
    "from ema_examples.dynamics import P09_07\n",
    "from ema.utilities.ipyutils import disp_sbs "
   ]
  },
  {
   "cell_type": "code",
   "execution_count": 2,
   "metadata": {},
   "outputs": [
    {
     "data": {
      "image/svg+xml": [
       "<?xml version=\"1.0\" encoding=\"utf-8\" standalone=\"no\"?>\r\n",
       "<!DOCTYPE svg PUBLIC \"-//W3C//DTD SVG 1.1//EN\"\r\n",
       "  \"http://www.w3.org/Graphics/SVG/1.1/DTD/svg11.dtd\">\r\n",
       "<!-- Created with matplotlib (https://matplotlib.org/) -->\r\n",
       "<svg height=\"248.518125pt\" version=\"1.1\" viewBox=\"0 0 200.997098 248.518125\" width=\"200.997098pt\" xmlns=\"http://www.w3.org/2000/svg\" xmlns:xlink=\"http://www.w3.org/1999/xlink\">\r\n",
       " <defs>\r\n",
       "  <style type=\"text/css\">\r\n",
       "*{stroke-linecap:butt;stroke-linejoin:round;}\r\n",
       "  </style>\r\n",
       " </defs>\r\n",
       " <g id=\"figure_1\">\r\n",
       "  <g id=\"patch_1\">\r\n",
       "   <path d=\"M 0 248.518125 \r\n",
       "L 200.997098 248.518125 \r\n",
       "L 200.997098 0 \r\n",
       "L 0 0 \r\n",
       "z\r\n",
       "\" style=\"fill:none;\"/>\r\n",
       "  </g>\r\n",
       "  <g id=\"axes_1\">\r\n",
       "   <g id=\"patch_2\">\r\n",
       "    <path d=\"M 38.482813 224.64 \r\n",
       "L 193.797098 224.64 \r\n",
       "L 193.797098 7.2 \r\n",
       "L 38.482813 7.2 \r\n",
       "z\r\n",
       "\" style=\"fill:#ffffff;\"/>\r\n",
       "   </g>\r\n",
       "   <g id=\"line2d_1\">\r\n",
       "    <path clip-path=\"url(#pf842899b20)\" d=\"M 73.781514 186.517403 \r\n",
       "L 73.781514 158.278442 \r\n",
       "L 73.781514 130.039481 \r\n",
       "\" style=\"fill:none;stroke:#808080;stroke-linecap:square;\"/>\r\n",
       "   </g>\r\n",
       "   <g id=\"line2d_2\">\r\n",
       "    <path clip-path=\"url(#pf842899b20)\" d=\"M 186.737358 186.517403 \r\n",
       "L 186.737358 158.278442 \r\n",
       "L 186.737358 130.039481 \r\n",
       "\" style=\"fill:none;stroke:#808080;stroke-linecap:square;\"/>\r\n",
       "   </g>\r\n",
       "   <g id=\"line2d_3\">\r\n",
       "    <path clip-path=\"url(#pf842899b20)\" d=\"M 73.781514 130.039481 \r\n",
       "L 130.259436 130.039481 \r\n",
       "L 186.737358 130.039481 \r\n",
       "\" style=\"fill:none;stroke:#808080;stroke-linecap:square;\"/>\r\n",
       "   </g>\r\n",
       "   <g id=\"line2d_4\">\r\n",
       "    <path clip-path=\"url(#pf842899b20)\" d=\"M 73.781514 130.039481 \r\n",
       "L 73.781514 101.800519 \r\n",
       "L 73.781514 73.561558 \r\n",
       "\" style=\"fill:none;stroke:#808080;stroke-linecap:square;\"/>\r\n",
       "   </g>\r\n",
       "   <g id=\"line2d_5\">\r\n",
       "    <path clip-path=\"url(#pf842899b20)\" d=\"M 186.737358 130.039481 \r\n",
       "L 186.737358 101.800519 \r\n",
       "L 186.737358 73.561558 \r\n",
       "\" style=\"fill:none;stroke:#808080;stroke-linecap:square;\"/>\r\n",
       "   </g>\r\n",
       "   <g id=\"line2d_6\">\r\n",
       "    <path clip-path=\"url(#pf842899b20)\" d=\"M 73.781514 73.561558 \r\n",
       "L 130.259436 73.561558 \r\n",
       "L 186.737358 73.561558 \r\n",
       "\" style=\"fill:none;stroke:#808080;stroke-linecap:square;\"/>\r\n",
       "   </g>\r\n",
       "   <g id=\"line2d_7\">\r\n",
       "    <path clip-path=\"url(#pf842899b20)\" d=\"M 73.781514 73.561558 \r\n",
       "L 73.781514 45.322597 \r\n",
       "L 73.781514 17.083636 \r\n",
       "\" style=\"fill:none;stroke:#808080;stroke-linecap:square;\"/>\r\n",
       "   </g>\r\n",
       "   <g id=\"line2d_8\">\r\n",
       "    <path clip-path=\"url(#pf842899b20)\" d=\"M 186.737358 73.561558 \r\n",
       "L 186.737358 45.322597 \r\n",
       "L 186.737358 17.083636 \r\n",
       "\" style=\"fill:none;stroke:#808080;stroke-linecap:square;\"/>\r\n",
       "   </g>\r\n",
       "   <g id=\"line2d_9\">\r\n",
       "    <path clip-path=\"url(#pf842899b20)\" d=\"M 73.781514 17.083636 \r\n",
       "L 130.259436 17.083636 \r\n",
       "L 186.737358 17.083636 \r\n",
       "\" style=\"fill:none;stroke:#808080;stroke-linecap:square;\"/>\r\n",
       "   </g>\r\n",
       "   <g id=\"matplotlib.axis_1\">\r\n",
       "    <g id=\"xtick_1\">\r\n",
       "     <g id=\"line2d_10\">\r\n",
       "      <defs>\r\n",
       "       <path d=\"M 0 0 \r\n",
       "L 0 3.5 \r\n",
       "\" id=\"m92dbbbb714\" style=\"stroke:#000000;stroke-width:0.8;\"/>\r\n",
       "      </defs>\r\n",
       "      <g>\r\n",
       "       <use style=\"stroke:#000000;stroke-width:0.8;\" x=\"73.781514\" xlink:href=\"#m92dbbbb714\" y=\"224.64\"/>\r\n",
       "      </g>\r\n",
       "     </g>\r\n",
       "     <g id=\"text_1\">\r\n",
       "      <!-- 0 -->\r\n",
       "      <defs>\r\n",
       "       <path d=\"M 31.78125 66.40625 \r\n",
       "Q 24.171875 66.40625 20.328125 58.90625 \r\n",
       "Q 16.5 51.421875 16.5 36.375 \r\n",
       "Q 16.5 21.390625 20.328125 13.890625 \r\n",
       "Q 24.171875 6.390625 31.78125 6.390625 \r\n",
       "Q 39.453125 6.390625 43.28125 13.890625 \r\n",
       "Q 47.125 21.390625 47.125 36.375 \r\n",
       "Q 47.125 51.421875 43.28125 58.90625 \r\n",
       "Q 39.453125 66.40625 31.78125 66.40625 \r\n",
       "z\r\n",
       "M 31.78125 74.21875 \r\n",
       "Q 44.046875 74.21875 50.515625 64.515625 \r\n",
       "Q 56.984375 54.828125 56.984375 36.375 \r\n",
       "Q 56.984375 17.96875 50.515625 8.265625 \r\n",
       "Q 44.046875 -1.421875 31.78125 -1.421875 \r\n",
       "Q 19.53125 -1.421875 13.0625 8.265625 \r\n",
       "Q 6.59375 17.96875 6.59375 36.375 \r\n",
       "Q 6.59375 54.828125 13.0625 64.515625 \r\n",
       "Q 19.53125 74.21875 31.78125 74.21875 \r\n",
       "z\r\n",
       "\" id=\"DejaVuSans-48\"/>\r\n",
       "      </defs>\r\n",
       "      <g transform=\"translate(70.600264 239.238437)scale(0.1 -0.1)\">\r\n",
       "       <use xlink:href=\"#DejaVuSans-48\"/>\r\n",
       "      </g>\r\n",
       "     </g>\r\n",
       "    </g>\r\n",
       "    <g id=\"xtick_2\">\r\n",
       "     <g id=\"line2d_11\">\r\n",
       "      <g>\r\n",
       "       <use style=\"stroke:#000000;stroke-width:0.8;\" x=\"130.259436\" xlink:href=\"#m92dbbbb714\" y=\"224.64\"/>\r\n",
       "      </g>\r\n",
       "     </g>\r\n",
       "     <g id=\"text_2\">\r\n",
       "      <!-- 1 -->\r\n",
       "      <defs>\r\n",
       "       <path d=\"M 12.40625 8.296875 \r\n",
       "L 28.515625 8.296875 \r\n",
       "L 28.515625 63.921875 \r\n",
       "L 10.984375 60.40625 \r\n",
       "L 10.984375 69.390625 \r\n",
       "L 28.421875 72.90625 \r\n",
       "L 38.28125 72.90625 \r\n",
       "L 38.28125 8.296875 \r\n",
       "L 54.390625 8.296875 \r\n",
       "L 54.390625 0 \r\n",
       "L 12.40625 0 \r\n",
       "z\r\n",
       "\" id=\"DejaVuSans-49\"/>\r\n",
       "      </defs>\r\n",
       "      <g transform=\"translate(127.078186 239.238437)scale(0.1 -0.1)\">\r\n",
       "       <use xlink:href=\"#DejaVuSans-49\"/>\r\n",
       "      </g>\r\n",
       "     </g>\r\n",
       "    </g>\r\n",
       "    <g id=\"xtick_3\">\r\n",
       "     <g id=\"line2d_12\">\r\n",
       "      <g>\r\n",
       "       <use style=\"stroke:#000000;stroke-width:0.8;\" x=\"186.737358\" xlink:href=\"#m92dbbbb714\" y=\"224.64\"/>\r\n",
       "      </g>\r\n",
       "     </g>\r\n",
       "     <g id=\"text_3\">\r\n",
       "      <!-- 2 -->\r\n",
       "      <defs>\r\n",
       "       <path d=\"M 19.1875 8.296875 \r\n",
       "L 53.609375 8.296875 \r\n",
       "L 53.609375 0 \r\n",
       "L 7.328125 0 \r\n",
       "L 7.328125 8.296875 \r\n",
       "Q 12.9375 14.109375 22.625 23.890625 \r\n",
       "Q 32.328125 33.6875 34.8125 36.53125 \r\n",
       "Q 39.546875 41.84375 41.421875 45.53125 \r\n",
       "Q 43.3125 49.21875 43.3125 52.78125 \r\n",
       "Q 43.3125 58.59375 39.234375 62.25 \r\n",
       "Q 35.15625 65.921875 28.609375 65.921875 \r\n",
       "Q 23.96875 65.921875 18.8125 64.3125 \r\n",
       "Q 13.671875 62.703125 7.8125 59.421875 \r\n",
       "L 7.8125 69.390625 \r\n",
       "Q 13.765625 71.78125 18.9375 73 \r\n",
       "Q 24.125 74.21875 28.421875 74.21875 \r\n",
       "Q 39.75 74.21875 46.484375 68.546875 \r\n",
       "Q 53.21875 62.890625 53.21875 53.421875 \r\n",
       "Q 53.21875 48.921875 51.53125 44.890625 \r\n",
       "Q 49.859375 40.875 45.40625 35.40625 \r\n",
       "Q 44.1875 33.984375 37.640625 27.21875 \r\n",
       "Q 31.109375 20.453125 19.1875 8.296875 \r\n",
       "z\r\n",
       "\" id=\"DejaVuSans-50\"/>\r\n",
       "      </defs>\r\n",
       "      <g transform=\"translate(183.556108 239.238437)scale(0.1 -0.1)\">\r\n",
       "       <use xlink:href=\"#DejaVuSans-50\"/>\r\n",
       "      </g>\r\n",
       "     </g>\r\n",
       "    </g>\r\n",
       "   </g>\r\n",
       "   <g id=\"matplotlib.axis_2\">\r\n",
       "    <g id=\"ytick_1\">\r\n",
       "     <g id=\"line2d_13\">\r\n",
       "      <defs>\r\n",
       "       <path d=\"M 0 0 \r\n",
       "L -3.5 0 \r\n",
       "\" id=\"mae8839cc94\" style=\"stroke:#000000;stroke-width:0.8;\"/>\r\n",
       "      </defs>\r\n",
       "      <g>\r\n",
       "       <use style=\"stroke:#000000;stroke-width:0.8;\" x=\"38.482813\" xlink:href=\"#mae8839cc94\" y=\"214.756364\"/>\r\n",
       "      </g>\r\n",
       "     </g>\r\n",
       "     <g id=\"text_4\">\r\n",
       "      <!-- −0.5 -->\r\n",
       "      <defs>\r\n",
       "       <path d=\"M 10.59375 35.5 \r\n",
       "L 73.1875 35.5 \r\n",
       "L 73.1875 27.203125 \r\n",
       "L 10.59375 27.203125 \r\n",
       "z\r\n",
       "\" id=\"DejaVuSans-8722\"/>\r\n",
       "       <path d=\"M 10.6875 12.40625 \r\n",
       "L 21 12.40625 \r\n",
       "L 21 0 \r\n",
       "L 10.6875 0 \r\n",
       "z\r\n",
       "\" id=\"DejaVuSans-46\"/>\r\n",
       "       <path d=\"M 10.796875 72.90625 \r\n",
       "L 49.515625 72.90625 \r\n",
       "L 49.515625 64.59375 \r\n",
       "L 19.828125 64.59375 \r\n",
       "L 19.828125 46.734375 \r\n",
       "Q 21.96875 47.46875 24.109375 47.828125 \r\n",
       "Q 26.265625 48.1875 28.421875 48.1875 \r\n",
       "Q 40.625 48.1875 47.75 41.5 \r\n",
       "Q 54.890625 34.8125 54.890625 23.390625 \r\n",
       "Q 54.890625 11.625 47.5625 5.09375 \r\n",
       "Q 40.234375 -1.421875 26.90625 -1.421875 \r\n",
       "Q 22.3125 -1.421875 17.546875 -0.640625 \r\n",
       "Q 12.796875 0.140625 7.71875 1.703125 \r\n",
       "L 7.71875 11.625 \r\n",
       "Q 12.109375 9.234375 16.796875 8.0625 \r\n",
       "Q 21.484375 6.890625 26.703125 6.890625 \r\n",
       "Q 35.15625 6.890625 40.078125 11.328125 \r\n",
       "Q 45.015625 15.765625 45.015625 23.390625 \r\n",
       "Q 45.015625 31 40.078125 35.4375 \r\n",
       "Q 35.15625 39.890625 26.703125 39.890625 \r\n",
       "Q 22.75 39.890625 18.8125 39.015625 \r\n",
       "Q 14.890625 38.140625 10.796875 36.28125 \r\n",
       "z\r\n",
       "\" id=\"DejaVuSans-53\"/>\r\n",
       "      </defs>\r\n",
       "      <g transform=\"translate(7.2 218.555582)scale(0.1 -0.1)\">\r\n",
       "       <use xlink:href=\"#DejaVuSans-8722\"/>\r\n",
       "       <use x=\"83.789062\" xlink:href=\"#DejaVuSans-48\"/>\r\n",
       "       <use x=\"147.412109\" xlink:href=\"#DejaVuSans-46\"/>\r\n",
       "       <use x=\"179.199219\" xlink:href=\"#DejaVuSans-53\"/>\r\n",
       "      </g>\r\n",
       "     </g>\r\n",
       "    </g>\r\n",
       "    <g id=\"ytick_2\">\r\n",
       "     <g id=\"line2d_14\">\r\n",
       "      <g>\r\n",
       "       <use style=\"stroke:#000000;stroke-width:0.8;\" x=\"38.482813\" xlink:href=\"#mae8839cc94\" y=\"186.517403\"/>\r\n",
       "      </g>\r\n",
       "     </g>\r\n",
       "     <g id=\"text_5\">\r\n",
       "      <!-- 0.0 -->\r\n",
       "      <g transform=\"translate(15.579688 190.316621)scale(0.1 -0.1)\">\r\n",
       "       <use xlink:href=\"#DejaVuSans-48\"/>\r\n",
       "       <use x=\"63.623047\" xlink:href=\"#DejaVuSans-46\"/>\r\n",
       "       <use x=\"95.410156\" xlink:href=\"#DejaVuSans-48\"/>\r\n",
       "      </g>\r\n",
       "     </g>\r\n",
       "    </g>\r\n",
       "    <g id=\"ytick_3\">\r\n",
       "     <g id=\"line2d_15\">\r\n",
       "      <g>\r\n",
       "       <use style=\"stroke:#000000;stroke-width:0.8;\" x=\"38.482813\" xlink:href=\"#mae8839cc94\" y=\"158.278442\"/>\r\n",
       "      </g>\r\n",
       "     </g>\r\n",
       "     <g id=\"text_6\">\r\n",
       "      <!-- 0.5 -->\r\n",
       "      <g transform=\"translate(15.579688 162.07766)scale(0.1 -0.1)\">\r\n",
       "       <use xlink:href=\"#DejaVuSans-48\"/>\r\n",
       "       <use x=\"63.623047\" xlink:href=\"#DejaVuSans-46\"/>\r\n",
       "       <use x=\"95.410156\" xlink:href=\"#DejaVuSans-53\"/>\r\n",
       "      </g>\r\n",
       "     </g>\r\n",
       "    </g>\r\n",
       "    <g id=\"ytick_4\">\r\n",
       "     <g id=\"line2d_16\">\r\n",
       "      <g>\r\n",
       "       <use style=\"stroke:#000000;stroke-width:0.8;\" x=\"38.482813\" xlink:href=\"#mae8839cc94\" y=\"130.039481\"/>\r\n",
       "      </g>\r\n",
       "     </g>\r\n",
       "     <g id=\"text_7\">\r\n",
       "      <!-- 1.0 -->\r\n",
       "      <g transform=\"translate(15.579688 133.838699)scale(0.1 -0.1)\">\r\n",
       "       <use xlink:href=\"#DejaVuSans-49\"/>\r\n",
       "       <use x=\"63.623047\" xlink:href=\"#DejaVuSans-46\"/>\r\n",
       "       <use x=\"95.410156\" xlink:href=\"#DejaVuSans-48\"/>\r\n",
       "      </g>\r\n",
       "     </g>\r\n",
       "    </g>\r\n",
       "    <g id=\"ytick_5\">\r\n",
       "     <g id=\"line2d_17\">\r\n",
       "      <g>\r\n",
       "       <use style=\"stroke:#000000;stroke-width:0.8;\" x=\"38.482813\" xlink:href=\"#mae8839cc94\" y=\"101.800519\"/>\r\n",
       "      </g>\r\n",
       "     </g>\r\n",
       "     <g id=\"text_8\">\r\n",
       "      <!-- 1.5 -->\r\n",
       "      <g transform=\"translate(15.579688 105.599738)scale(0.1 -0.1)\">\r\n",
       "       <use xlink:href=\"#DejaVuSans-49\"/>\r\n",
       "       <use x=\"63.623047\" xlink:href=\"#DejaVuSans-46\"/>\r\n",
       "       <use x=\"95.410156\" xlink:href=\"#DejaVuSans-53\"/>\r\n",
       "      </g>\r\n",
       "     </g>\r\n",
       "    </g>\r\n",
       "    <g id=\"ytick_6\">\r\n",
       "     <g id=\"line2d_18\">\r\n",
       "      <g>\r\n",
       "       <use style=\"stroke:#000000;stroke-width:0.8;\" x=\"38.482813\" xlink:href=\"#mae8839cc94\" y=\"73.561558\"/>\r\n",
       "      </g>\r\n",
       "     </g>\r\n",
       "     <g id=\"text_9\">\r\n",
       "      <!-- 2.0 -->\r\n",
       "      <g transform=\"translate(15.579688 77.360777)scale(0.1 -0.1)\">\r\n",
       "       <use xlink:href=\"#DejaVuSans-50\"/>\r\n",
       "       <use x=\"63.623047\" xlink:href=\"#DejaVuSans-46\"/>\r\n",
       "       <use x=\"95.410156\" xlink:href=\"#DejaVuSans-48\"/>\r\n",
       "      </g>\r\n",
       "     </g>\r\n",
       "    </g>\r\n",
       "    <g id=\"ytick_7\">\r\n",
       "     <g id=\"line2d_19\">\r\n",
       "      <g>\r\n",
       "       <use style=\"stroke:#000000;stroke-width:0.8;\" x=\"38.482813\" xlink:href=\"#mae8839cc94\" y=\"45.322597\"/>\r\n",
       "      </g>\r\n",
       "     </g>\r\n",
       "     <g id=\"text_10\">\r\n",
       "      <!-- 2.5 -->\r\n",
       "      <g transform=\"translate(15.579688 49.121816)scale(0.1 -0.1)\">\r\n",
       "       <use xlink:href=\"#DejaVuSans-50\"/>\r\n",
       "       <use x=\"63.623047\" xlink:href=\"#DejaVuSans-46\"/>\r\n",
       "       <use x=\"95.410156\" xlink:href=\"#DejaVuSans-53\"/>\r\n",
       "      </g>\r\n",
       "     </g>\r\n",
       "    </g>\r\n",
       "    <g id=\"ytick_8\">\r\n",
       "     <g id=\"line2d_20\">\r\n",
       "      <g>\r\n",
       "       <use style=\"stroke:#000000;stroke-width:0.8;\" x=\"38.482813\" xlink:href=\"#mae8839cc94\" y=\"17.083636\"/>\r\n",
       "      </g>\r\n",
       "     </g>\r\n",
       "     <g id=\"text_11\">\r\n",
       "      <!-- 3.0 -->\r\n",
       "      <defs>\r\n",
       "       <path d=\"M 40.578125 39.3125 \r\n",
       "Q 47.65625 37.796875 51.625 33 \r\n",
       "Q 55.609375 28.21875 55.609375 21.1875 \r\n",
       "Q 55.609375 10.40625 48.1875 4.484375 \r\n",
       "Q 40.765625 -1.421875 27.09375 -1.421875 \r\n",
       "Q 22.515625 -1.421875 17.65625 -0.515625 \r\n",
       "Q 12.796875 0.390625 7.625 2.203125 \r\n",
       "L 7.625 11.71875 \r\n",
       "Q 11.71875 9.328125 16.59375 8.109375 \r\n",
       "Q 21.484375 6.890625 26.8125 6.890625 \r\n",
       "Q 36.078125 6.890625 40.9375 10.546875 \r\n",
       "Q 45.796875 14.203125 45.796875 21.1875 \r\n",
       "Q 45.796875 27.640625 41.28125 31.265625 \r\n",
       "Q 36.765625 34.90625 28.71875 34.90625 \r\n",
       "L 20.21875 34.90625 \r\n",
       "L 20.21875 43.015625 \r\n",
       "L 29.109375 43.015625 \r\n",
       "Q 36.375 43.015625 40.234375 45.921875 \r\n",
       "Q 44.09375 48.828125 44.09375 54.296875 \r\n",
       "Q 44.09375 59.90625 40.109375 62.90625 \r\n",
       "Q 36.140625 65.921875 28.71875 65.921875 \r\n",
       "Q 24.65625 65.921875 20.015625 65.03125 \r\n",
       "Q 15.375 64.15625 9.8125 62.3125 \r\n",
       "L 9.8125 71.09375 \r\n",
       "Q 15.4375 72.65625 20.34375 73.4375 \r\n",
       "Q 25.25 74.21875 29.59375 74.21875 \r\n",
       "Q 40.828125 74.21875 47.359375 69.109375 \r\n",
       "Q 53.90625 64.015625 53.90625 55.328125 \r\n",
       "Q 53.90625 49.265625 50.4375 45.09375 \r\n",
       "Q 46.96875 40.921875 40.578125 39.3125 \r\n",
       "z\r\n",
       "\" id=\"DejaVuSans-51\"/>\r\n",
       "      </defs>\r\n",
       "      <g transform=\"translate(15.579688 20.882855)scale(0.1 -0.1)\">\r\n",
       "       <use xlink:href=\"#DejaVuSans-51\"/>\r\n",
       "       <use x=\"63.623047\" xlink:href=\"#DejaVuSans-46\"/>\r\n",
       "       <use x=\"95.410156\" xlink:href=\"#DejaVuSans-48\"/>\r\n",
       "      </g>\r\n",
       "     </g>\r\n",
       "    </g>\r\n",
       "   </g>\r\n",
       "   <g id=\"line2d_21\">\r\n",
       "    <path clip-path=\"url(#pf842899b20)\" d=\"M 73.781514 186.517403 \r\n",
       "\" style=\"fill:none;stroke:#000000;stroke-linecap:square;stroke-width:1.5;\"/>\r\n",
       "    <defs>\r\n",
       "     <path d=\"M -3 3 \r\n",
       "L 3 3 \r\n",
       "L 3 -3 \r\n",
       "L -3 -3 \r\n",
       "z\r\n",
       "\" id=\"m29e7fd60eb\" style=\"stroke:#000000;stroke-linejoin:miter;\"/>\r\n",
       "    </defs>\r\n",
       "    <g clip-path=\"url(#pf842899b20)\">\r\n",
       "     <use style=\"stroke:#000000;stroke-linejoin:miter;\" x=\"73.781514\" xlink:href=\"#m29e7fd60eb\" y=\"186.517403\"/>\r\n",
       "    </g>\r\n",
       "   </g>\r\n",
       "   <g id=\"line2d_22\">\r\n",
       "    <path clip-path=\"url(#pf842899b20)\" d=\"M 186.737358 186.517403 \r\n",
       "\" style=\"fill:none;stroke:#000000;stroke-linecap:square;stroke-width:1.5;\"/>\r\n",
       "    <g clip-path=\"url(#pf842899b20)\">\r\n",
       "     <use style=\"stroke:#000000;stroke-linejoin:miter;\" x=\"186.737358\" xlink:href=\"#m29e7fd60eb\" y=\"186.517403\"/>\r\n",
       "    </g>\r\n",
       "   </g>\r\n",
       "   <g id=\"line2d_23\">\r\n",
       "    <path clip-path=\"url(#pf842899b20)\" d=\"M 73.781514 130.039481 \r\n",
       "\" style=\"fill:none;stroke:#000000;stroke-linecap:square;stroke-width:1.5;\"/>\r\n",
       "    <g clip-path=\"url(#pf842899b20)\">\r\n",
       "     <use style=\"stroke:#000000;stroke-linejoin:miter;\" x=\"73.781514\" xlink:href=\"#m29e7fd60eb\" y=\"130.039481\"/>\r\n",
       "    </g>\r\n",
       "   </g>\r\n",
       "   <g id=\"line2d_24\">\r\n",
       "    <path clip-path=\"url(#pf842899b20)\" d=\"M 186.737358 130.039481 \r\n",
       "\" style=\"fill:none;stroke:#000000;stroke-linecap:square;stroke-width:1.5;\"/>\r\n",
       "    <g clip-path=\"url(#pf842899b20)\">\r\n",
       "     <use style=\"stroke:#000000;stroke-linejoin:miter;\" x=\"186.737358\" xlink:href=\"#m29e7fd60eb\" y=\"130.039481\"/>\r\n",
       "    </g>\r\n",
       "   </g>\r\n",
       "   <g id=\"line2d_25\">\r\n",
       "    <path clip-path=\"url(#pf842899b20)\" d=\"M 73.781514 73.561558 \r\n",
       "\" style=\"fill:none;stroke:#000000;stroke-linecap:square;stroke-width:1.5;\"/>\r\n",
       "    <g clip-path=\"url(#pf842899b20)\">\r\n",
       "     <use style=\"stroke:#000000;stroke-linejoin:miter;\" x=\"73.781514\" xlink:href=\"#m29e7fd60eb\" y=\"73.561558\"/>\r\n",
       "    </g>\r\n",
       "   </g>\r\n",
       "   <g id=\"line2d_26\">\r\n",
       "    <path clip-path=\"url(#pf842899b20)\" d=\"M 186.737358 73.561558 \r\n",
       "\" style=\"fill:none;stroke:#000000;stroke-linecap:square;stroke-width:1.5;\"/>\r\n",
       "    <g clip-path=\"url(#pf842899b20)\">\r\n",
       "     <use style=\"stroke:#000000;stroke-linejoin:miter;\" x=\"186.737358\" xlink:href=\"#m29e7fd60eb\" y=\"73.561558\"/>\r\n",
       "    </g>\r\n",
       "   </g>\r\n",
       "   <g id=\"line2d_27\">\r\n",
       "    <path clip-path=\"url(#pf842899b20)\" d=\"M 73.781514 17.083636 \r\n",
       "\" style=\"fill:none;stroke:#000000;stroke-linecap:square;stroke-width:1.5;\"/>\r\n",
       "    <g clip-path=\"url(#pf842899b20)\">\r\n",
       "     <use style=\"stroke:#000000;stroke-linejoin:miter;\" x=\"73.781514\" xlink:href=\"#m29e7fd60eb\" y=\"17.083636\"/>\r\n",
       "    </g>\r\n",
       "   </g>\r\n",
       "   <g id=\"line2d_28\">\r\n",
       "    <path clip-path=\"url(#pf842899b20)\" d=\"M 186.737358 17.083636 \r\n",
       "\" style=\"fill:none;stroke:#000000;stroke-linecap:square;stroke-width:1.5;\"/>\r\n",
       "    <g clip-path=\"url(#pf842899b20)\">\r\n",
       "     <use style=\"stroke:#000000;stroke-linejoin:miter;\" x=\"186.737358\" xlink:href=\"#m29e7fd60eb\" y=\"17.083636\"/>\r\n",
       "    </g>\r\n",
       "   </g>\r\n",
       "   <g id=\"patch_3\">\r\n",
       "    <path d=\"M 38.482813 224.64 \r\n",
       "L 38.482813 7.2 \r\n",
       "\" style=\"fill:none;stroke:#000000;stroke-linecap:square;stroke-linejoin:miter;stroke-width:0.8;\"/>\r\n",
       "   </g>\r\n",
       "   <g id=\"patch_4\">\r\n",
       "    <path d=\"M 193.797098 224.64 \r\n",
       "L 193.797098 7.2 \r\n",
       "\" style=\"fill:none;\"/>\r\n",
       "   </g>\r\n",
       "   <g id=\"patch_5\">\r\n",
       "    <path d=\"M 38.482813 224.64 \r\n",
       "L 193.797098 224.64 \r\n",
       "\" style=\"fill:none;stroke:#000000;stroke-linecap:square;stroke-linejoin:miter;stroke-width:0.8;\"/>\r\n",
       "   </g>\r\n",
       "   <g id=\"patch_6\">\r\n",
       "    <path d=\"M 38.482813 7.2 \r\n",
       "L 193.797098 7.2 \r\n",
       "\" style=\"fill:none;\"/>\r\n",
       "   </g>\r\n",
       "   <g id=\"line2d_29\">\r\n",
       "    <path clip-path=\"url(#pf842899b20)\" d=\"M 45.542553 186.517403 \r\n",
       "\" style=\"fill:none;stroke:#000000;stroke-linecap:square;stroke-width:1.5;\"/>\r\n",
       "    <defs>\r\n",
       "     <path d=\"M 4.5 0 \r\n",
       "L -4.5 -4.5 \r\n",
       "L -4.5 4.5 \r\n",
       "z\r\n",
       "\" id=\"ma8e93f2e15\" style=\"stroke:#000000;stroke-linejoin:miter;\"/>\r\n",
       "    </defs>\r\n",
       "    <g clip-path=\"url(#pf842899b20)\">\r\n",
       "     <use style=\"fill-opacity:0;stroke:#000000;stroke-linejoin:miter;\" x=\"45.542553\" xlink:href=\"#ma8e93f2e15\" y=\"186.517403\"/>\r\n",
       "    </g>\r\n",
       "   </g>\r\n",
       "   <g id=\"line2d_30\">\r\n",
       "    <path clip-path=\"url(#pf842899b20)\" d=\"M 73.781514 214.756364 \r\n",
       "\" style=\"fill:none;stroke:#000000;stroke-linecap:square;stroke-width:1.5;\"/>\r\n",
       "    <defs>\r\n",
       "     <path d=\"M 0 -4.5 \r\n",
       "L -4.5 4.5 \r\n",
       "L 4.5 4.5 \r\n",
       "z\r\n",
       "\" id=\"m7d7892b8ff\" style=\"stroke:#000000;stroke-linejoin:miter;\"/>\r\n",
       "    </defs>\r\n",
       "    <g clip-path=\"url(#pf842899b20)\">\r\n",
       "     <use style=\"fill-opacity:0;stroke:#000000;stroke-linejoin:miter;\" x=\"73.781514\" xlink:href=\"#m7d7892b8ff\" y=\"214.756364\"/>\r\n",
       "    </g>\r\n",
       "   </g>\r\n",
       "   <g id=\"line2d_31\">\r\n",
       "    <path clip-path=\"url(#pf842899b20)\" d=\"M 73.781514 186.517403 \r\n",
       "\" style=\"fill:none;stroke:#000000;stroke-linecap:square;stroke-width:1.5;\"/>\r\n",
       "    <defs>\r\n",
       "     <path d=\"M -4.5 4.5 \r\n",
       "L 4.5 4.5 \r\n",
       "L 4.5 -4.5 \r\n",
       "L -4.5 -4.5 \r\n",
       "z\r\n",
       "\" id=\"mc48a3ce89e\" style=\"stroke:#000000;stroke-linejoin:miter;\"/>\r\n",
       "    </defs>\r\n",
       "    <g clip-path=\"url(#pf842899b20)\">\r\n",
       "     <use style=\"fill-opacity:0;stroke:#000000;stroke-linejoin:miter;\" x=\"73.781514\" xlink:href=\"#mc48a3ce89e\" y=\"186.517403\"/>\r\n",
       "    </g>\r\n",
       "   </g>\r\n",
       "   <g id=\"line2d_32\">\r\n",
       "    <path clip-path=\"url(#pf842899b20)\" d=\"M 158.498397 186.517403 \r\n",
       "\" style=\"fill:none;stroke:#000000;stroke-linecap:square;stroke-width:1.5;\"/>\r\n",
       "    <g clip-path=\"url(#pf842899b20)\">\r\n",
       "     <use style=\"fill-opacity:0;stroke:#000000;stroke-linejoin:miter;\" x=\"158.498397\" xlink:href=\"#ma8e93f2e15\" y=\"186.517403\"/>\r\n",
       "    </g>\r\n",
       "   </g>\r\n",
       "   <g id=\"line2d_33\">\r\n",
       "    <path clip-path=\"url(#pf842899b20)\" d=\"M 186.737358 214.756364 \r\n",
       "\" style=\"fill:none;stroke:#000000;stroke-linecap:square;stroke-width:1.5;\"/>\r\n",
       "    <g clip-path=\"url(#pf842899b20)\">\r\n",
       "     <use style=\"fill-opacity:0;stroke:#000000;stroke-linejoin:miter;\" x=\"186.737358\" xlink:href=\"#m7d7892b8ff\" y=\"214.756364\"/>\r\n",
       "    </g>\r\n",
       "   </g>\r\n",
       "   <g id=\"line2d_34\">\r\n",
       "    <path clip-path=\"url(#pf842899b20)\" d=\"M 186.737358 186.517403 \r\n",
       "\" style=\"fill:none;stroke:#000000;stroke-linecap:square;stroke-width:1.5;\"/>\r\n",
       "    <g clip-path=\"url(#pf842899b20)\">\r\n",
       "     <use style=\"fill-opacity:0;stroke:#000000;stroke-linejoin:miter;\" x=\"186.737358\" xlink:href=\"#mc48a3ce89e\" y=\"186.517403\"/>\r\n",
       "    </g>\r\n",
       "   </g>\r\n",
       "   <g id=\"line2d_35\">\r\n",
       "    <path clip-path=\"url(#pf842899b20)\" d=\"M 73.781514 130.039481 \r\n",
       "\" style=\"fill:none;stroke:#000000;stroke-linecap:square;stroke-width:1.5;\"/>\r\n",
       "    <g clip-path=\"url(#pf842899b20)\">\r\n",
       "     <use style=\"fill-opacity:0;stroke:#000000;stroke-linejoin:miter;\" x=\"73.781514\" xlink:href=\"#mc48a3ce89e\" y=\"130.039481\"/>\r\n",
       "    </g>\r\n",
       "   </g>\r\n",
       "   <g id=\"line2d_36\">\r\n",
       "    <path clip-path=\"url(#pf842899b20)\" d=\"M 186.737358 130.039481 \r\n",
       "\" style=\"fill:none;stroke:#000000;stroke-linecap:square;stroke-width:1.5;\"/>\r\n",
       "    <g clip-path=\"url(#pf842899b20)\">\r\n",
       "     <use style=\"fill-opacity:0;stroke:#000000;stroke-linejoin:miter;\" x=\"186.737358\" xlink:href=\"#mc48a3ce89e\" y=\"130.039481\"/>\r\n",
       "    </g>\r\n",
       "   </g>\r\n",
       "   <g id=\"line2d_37\">\r\n",
       "    <path clip-path=\"url(#pf842899b20)\" d=\"M 73.781514 73.561558 \r\n",
       "\" style=\"fill:none;stroke:#000000;stroke-linecap:square;stroke-width:1.5;\"/>\r\n",
       "    <g clip-path=\"url(#pf842899b20)\">\r\n",
       "     <use style=\"fill-opacity:0;stroke:#000000;stroke-linejoin:miter;\" x=\"73.781514\" xlink:href=\"#mc48a3ce89e\" y=\"73.561558\"/>\r\n",
       "    </g>\r\n",
       "   </g>\r\n",
       "   <g id=\"line2d_38\">\r\n",
       "    <path clip-path=\"url(#pf842899b20)\" d=\"M 186.737358 73.561558 \r\n",
       "\" style=\"fill:none;stroke:#000000;stroke-linecap:square;stroke-width:1.5;\"/>\r\n",
       "    <g clip-path=\"url(#pf842899b20)\">\r\n",
       "     <use style=\"fill-opacity:0;stroke:#000000;stroke-linejoin:miter;\" x=\"186.737358\" xlink:href=\"#mc48a3ce89e\" y=\"73.561558\"/>\r\n",
       "    </g>\r\n",
       "   </g>\r\n",
       "   <g id=\"line2d_39\">\r\n",
       "    <path clip-path=\"url(#pf842899b20)\" d=\"M 73.781514 17.083636 \r\n",
       "\" style=\"fill:none;stroke:#000000;stroke-linecap:square;stroke-width:1.5;\"/>\r\n",
       "    <g clip-path=\"url(#pf842899b20)\">\r\n",
       "     <use style=\"fill-opacity:0;stroke:#000000;stroke-linejoin:miter;\" x=\"73.781514\" xlink:href=\"#mc48a3ce89e\" y=\"17.083636\"/>\r\n",
       "    </g>\r\n",
       "   </g>\r\n",
       "   <g id=\"line2d_40\">\r\n",
       "    <path clip-path=\"url(#pf842899b20)\" d=\"M 186.737358 17.083636 \r\n",
       "\" style=\"fill:none;stroke:#000000;stroke-linecap:square;stroke-width:1.5;\"/>\r\n",
       "    <g clip-path=\"url(#pf842899b20)\">\r\n",
       "     <use style=\"fill-opacity:0;stroke:#000000;stroke-linejoin:miter;\" x=\"186.737358\" xlink:href=\"#mc48a3ce89e\" y=\"17.083636\"/>\r\n",
       "    </g>\r\n",
       "   </g>\r\n",
       "  </g>\r\n",
       " </g>\r\n",
       " <defs>\r\n",
       "  <clipPath id=\"pf842899b20\">\r\n",
       "   <rect height=\"217.44\" width=\"155.314286\" x=\"38.482813\" y=\"7.2\"/>\r\n",
       "  </clipPath>\r\n",
       " </defs>\r\n",
       "</svg>\r\n"
      ],
      "text/plain": [
       "<Figure size 432x288 with 1 Axes>"
      ]
     },
     "metadata": {
      "needs_background": "light"
     },
     "output_type": "display_data"
    }
   ],
   "source": [
    "h = 1\n",
    "m = 1\n",
    "EI = 1/24\n",
    "\n",
    "mdl = P09_07(h = h, m = m, EI = EI)\n",
    "fig, ax = plt.subplots()\n",
    "em.plot_structure(mdl, ax)"
   ]
  },
  {
   "cell_type": "code",
   "execution_count": 3,
   "metadata": {},
   "outputs": [
    {
     "data": {
      "text/html": [
       "<table style = \"display:inline\" border=\"1\" class=\"dataframe\">\n",
       "  <thead>\n",
       "    <tr style=\"text-align: right;\">\n",
       "      <th></th>\n",
       "      <th>$u_{{1}}$</th>\n",
       "      <th>$u_{{2}}$</th>\n",
       "      <th>$u_{{3}}$</th>\n",
       "    </tr>\n",
       "  </thead>\n",
       "  <tbody>\n",
       "    <tr>\n",
       "      <th>$u_{{1}}$</th>\n",
       "      <td>1.0</td>\n",
       "      <td>0.0</td>\n",
       "      <td>0.0</td>\n",
       "    </tr>\n",
       "    <tr>\n",
       "      <th>$u_{{2}}$</th>\n",
       "      <td>0.0</td>\n",
       "      <td>1.0</td>\n",
       "      <td>0.0</td>\n",
       "    </tr>\n",
       "    <tr>\n",
       "      <th>$u_{{3}}$</th>\n",
       "      <td>0.0</td>\n",
       "      <td>0.0</td>\n",
       "      <td>0.5</td>\n",
       "    </tr>\n",
       "  </tbody>\n",
       "</table style = \"display:inline\"><table style = \"display:inline\" border=\"1\" class=\"dataframe\">\n",
       "  <thead>\n",
       "    <tr style=\"text-align: right;\">\n",
       "      <th></th>\n",
       "      <th>$1$</th>\n",
       "      <th>$2$</th>\n",
       "      <th>$3$</th>\n",
       "    </tr>\n",
       "  </thead>\n",
       "  <tbody>\n",
       "    <tr>\n",
       "      <th>$P_{1}$</th>\n",
       "      <td>2.0</td>\n",
       "      <td>-1.0</td>\n",
       "      <td>0.0</td>\n",
       "    </tr>\n",
       "    <tr>\n",
       "      <th>$P_{2}$</th>\n",
       "      <td>-1.0</td>\n",
       "      <td>2.0</td>\n",
       "      <td>-1.0</td>\n",
       "    </tr>\n",
       "    <tr>\n",
       "      <th>$P_{3}$</th>\n",
       "      <td>0.0</td>\n",
       "      <td>-1.0</td>\n",
       "      <td>1.0</td>\n",
       "    </tr>\n",
       "  </tbody>\n",
       "</table style = \"display:inline\">"
      ]
     },
     "metadata": {},
     "output_type": "display_data"
    }
   ],
   "source": [
    "m, k = em.Mass_matrix(mdl), em.K_matrix(mdl)\n",
    "k, m = em.analysis.StaticCondensation(k, m)\n",
    "disp_sbs(m.df, k.df)"
   ]
  },
  {
   "cell_type": "code",
   "execution_count": 4,
   "metadata": {},
   "outputs": [
    {
     "data": {
      "text/plain": [
       "array([[ 5.00000000e-01, -1.00000000e+00,  5.00000000e-01],\n",
       "       [ 8.66025404e-01,  7.60117743e-17, -8.66025404e-01],\n",
       "       [ 1.00000000e+00,  1.00000000e+00,  1.00000000e+00]])"
      ]
     },
     "execution_count": 4,
     "metadata": {},
     "output_type": "execute_result"
    }
   ],
   "source": [
    "freq2, Phi = em.analysis.ModalAnalysis(mdl, norm='last')\n",
    "Phi"
   ]
  },
  {
   "cell_type": "code",
   "execution_count": 5,
   "metadata": {},
   "outputs": [
    {
     "data": {
      "text/plain": [
       "array([0.51763809, 1.41421356, 1.93185165])"
      ]
     },
     "execution_count": 5,
     "metadata": {},
     "output_type": "execute_result"
    }
   ],
   "source": [
    "omegan = np.array([np.sqrt(np.real(freq)) for freq in freq2])\n",
    "omegan"
   ]
  },
  {
   "cell_type": "code",
   "execution_count": 6,
   "metadata": {},
   "outputs": [
    {
     "name": "stderr",
     "output_type": "stream",
     "text": [
      "C:\\Users\\claud\\Anaconda3\\lib\\site-packages\\IPython\\core\\formatters.py:371: FormatterWarning: text/html formatter returned invalid type <class 'ema.utilities.Structural_Vector'> (expected <class 'str'>) for object: Structural_Vector([[1.50000000e+00, 5.55111512e-17, 2.77555756e-16],\n",
      "                   [5.55111512e-17, 1.50000000e+00, 2.22044605e-16],\n",
      "                   [2.77555756e-16, 2.22044605e-16, 1.50000000e+00]])\n",
      "  FormatterWarning\n"
     ]
    },
    {
     "data": {
      "text/plain": [
       "Structural_Vector([[1.50000000e+00, 5.55111512e-17, 2.77555756e-16],\n",
       "                   [5.55111512e-17, 1.50000000e+00, 2.22044605e-16],\n",
       "                   [2.77555756e-16, 2.22044605e-16, 1.50000000e+00]])"
      ]
     },
     "execution_count": 6,
     "metadata": {},
     "output_type": "execute_result"
    }
   ],
   "source": [
    "M = Phi.T@m@Phi\n",
    "K = Phi.T@k@Phi\n",
    "M"
   ]
  },
  {
   "cell_type": "markdown",
   "metadata": {},
   "source": [
    "## a) Modal expansion of earthquake forces\n",
    "\n",
    "$$\\mathrm{p}_{\\mathrm{eff}}(t)=-\\mathrm{m} \\iota \\ddot{u}_{g}(t)$$\n",
    "\n",
    "$$\\mathbf{m} \\iota=\\sum_{n=1}^{N} \\mathbf{s}_{n}=\\sum_{n=1}^{N} \\Gamma_{n} \\mathbf{m} \\phi_{n}$$"
   ]
  },
  {
   "cell_type": "code",
   "execution_count": 7,
   "metadata": {},
   "outputs": [
    {
     "name": "stderr",
     "output_type": "stream",
     "text": [
      "C:\\Users\\claud\\Anaconda3\\lib\\site-packages\\IPython\\core\\formatters.py:371: FormatterWarning: text/html formatter returned invalid type <class 'ema.utilities.Structural_Vector'> (expected <class 'str'>) for object: Structural_Vector([ 1.8660254, -0.5      ,  0.1339746])\n",
      "  FormatterWarning\n"
     ]
    },
    {
     "data": {
      "text/plain": [
       "Structural_Vector([ 1.8660254, -0.5      ,  0.1339746])"
      ]
     },
     "execution_count": 7,
     "metadata": {},
     "output_type": "execute_result"
    }
   ],
   "source": [
    "I = N = 3\n",
    "iota = np.ones(I)\n",
    "L = np.array([sum(Phi.T[n,i]*sum(m[i,j]*iota[j] for j in range(I)) for i in range(I)) for n in range(N)])\n",
    "L = Phi.T@m@iota\n",
    "L"
   ]
  },
  {
   "cell_type": "code",
   "execution_count": 8,
   "metadata": {},
   "outputs": [
    {
     "data": {
      "text/plain": [
       "array([ 1.24401694, -0.33333333,  0.0893164 ])"
      ]
     },
     "execution_count": 8,
     "metadata": {},
     "output_type": "execute_result"
    }
   ],
   "source": [
    "gamma = np.array([L[n]/M[n,n]  for n in range(N)])\n",
    "gamma"
   ]
  },
  {
   "cell_type": "code",
   "execution_count": 9,
   "metadata": {},
   "outputs": [
    {
     "data": {
      "text/plain": [
       "array([[ 6.22008468e-01,  3.33333333e-01,  4.46581987e-02],\n",
       "       [ 1.07735027e+00, -2.53372581e-17, -7.73502692e-02],\n",
       "       [ 6.22008468e-01, -1.66666667e-01,  4.46581987e-02]])"
      ]
     },
     "execution_count": 9,
     "metadata": {},
     "output_type": "execute_result"
    }
   ],
   "source": [
    "s = np.array([gamma[n]*(m@Phi.T[n]) for n in range(N)]).T\n",
    "s"
   ]
  },
  {
   "cell_type": "code",
   "execution_count": 10,
   "metadata": {},
   "outputs": [],
   "source": [
    "# Remove\n",
    "assert abs(s[0,0] - 6.22008468e-01) <1e-7\n",
    "assert abs(s[1,0] - 1.07735027e+00) <1e-7\n",
    "assert abs(s[0,1] - 3.33333333e-01) <1e-7"
   ]
  },
  {
   "cell_type": "markdown",
   "metadata": {},
   "source": [
    "## Floor displacement response in terms of $D_n(t)$"
   ]
  },
  {
   "cell_type": "code",
   "execution_count": 11,
   "metadata": {},
   "outputs": [
    {
     "data": {
      "text/plain": [
       "[[0.6220084679281462, 0.3333333333333332, 0.044658198738520595],\n",
       " [1.077350269189626, -2.533725810203381e-17, -0.077350269189626],\n",
       " [1.2440169358562922, -0.33333333333333326, 0.08931639747704123]]"
      ]
     },
     "execution_count": 11,
     "metadata": {},
     "output_type": "execute_result"
    }
   ],
   "source": [
    "Un = [[gamma[n]*Phi[i,n] for n in range(N)]for i in range(I)]\n",
    "Un"
   ]
  },
  {
   "cell_type": "markdown",
   "metadata": {},
   "source": [
    "## Story shear response in terms of $A_n(t)$"
   ]
  },
  {
   "cell_type": "code",
   "execution_count": 12,
   "metadata": {},
   "outputs": [
    {
     "data": {
      "text/plain": [
       "array([[ 2.32136721,  0.16666667,  0.01196613],\n",
       "       [ 1.69935874, -0.16666667, -0.03269207],\n",
       "       [ 0.62200847, -0.16666667,  0.0446582 ]])"
      ]
     },
     "execution_count": 12,
     "metadata": {},
     "output_type": "execute_result"
    }
   ],
   "source": [
    "Vin = np.array([sum(s[j] for j in range(i, I)) for i in range(I)])\n",
    "Vin"
   ]
  },
  {
   "cell_type": "code",
   "execution_count": 13,
   "metadata": {},
   "outputs": [],
   "source": [
    "assert abs(Vin[0,0] - 2.32136721) <1e-7\n",
    "assert abs(Vin[1,0] - 1.69935874) <1e-7\n",
    "assert abs(Vin[0,1] - 0.16666667) <1e-7"
   ]
  },
  {
   "cell_type": "markdown",
   "metadata": {},
   "source": [
    "## d) Base overturning moment in terms of $A_n(t)$"
   ]
  },
  {
   "cell_type": "code",
   "execution_count": 14,
   "metadata": {},
   "outputs": [
    {
     "data": {
      "text/plain": [
       "array([ 4.64273441, -0.16666667,  0.02393226])"
      ]
     },
     "execution_count": 14,
     "metadata": {},
     "output_type": "execute_result"
    }
   ],
   "source": [
    "Mbn = np.array([sum(s[i,n]*h*(i+1) for i in range(I)) for n in range(N)])\n",
    "Mbn"
   ]
  },
  {
   "cell_type": "code",
   "execution_count": 15,
   "metadata": {},
   "outputs": [],
   "source": [
    "assert abs(Mbn[0] -  4.64273441) <1e-7\n",
    "assert abs(Mbn[1] - -0.16666666) <1e-7\n",
    "assert abs(Mbn[2] -  0.02393225) <1e-7"
   ]
  },
  {
   "cell_type": "markdown",
   "metadata": {},
   "source": [
    "## e) Effective modal mass and heights."
   ]
  },
  {
   "cell_type": "code",
   "execution_count": 16,
   "metadata": {},
   "outputs": [
    {
     "data": {
      "text/plain": [
       "array([2.32136721, 0.16666667, 0.01196613])"
      ]
     },
     "execution_count": 16,
     "metadata": {},
     "output_type": "execute_result"
    }
   ],
   "source": [
    "M_eff = np.array([gamma[n]*L[n] for n in range(N)])\n",
    "M_eff"
   ]
  },
  {
   "cell_type": "code",
   "execution_count": 17,
   "metadata": {},
   "outputs": [],
   "source": [
    "assert abs(M_eff[0] - 2.32136721) < 1e-7\n",
    "assert abs(M_eff[1] - 0.16666667) < 1e-7\n",
    "assert abs(M_eff[2] - 0.01196613) < 1e-7"
   ]
  },
  {
   "cell_type": "code",
   "execution_count": 18,
   "metadata": {},
   "outputs": [],
   "source": [
    "L_theta = np.array([sum(m[i,i]*h*(i+1)*Phi[i,n] for i in range(I)) for n in range(N)])"
   ]
  },
  {
   "cell_type": "code",
   "execution_count": 19,
   "metadata": {},
   "outputs": [
    {
     "data": {
      "text/plain": [
       "array([ 2., -1.,  2.])"
      ]
     },
     "execution_count": 19,
     "metadata": {},
     "output_type": "execute_result"
    }
   ],
   "source": [
    "h_eff = np.array([L_theta[n]/L[n] for n in range(N)])\n",
    "h_eff"
   ]
  },
  {
   "cell_type": "code",
   "execution_count": 20,
   "metadata": {},
   "outputs": [],
   "source": [
    "assert abs(h_eff[0] -  2.) < 1e-7\n",
    "assert abs(h_eff[1] - -1.) < 1e-7\n",
    "assert abs(h_eff[2] -  2.) < 1e-7"
   ]
  }
 ],
 "metadata": {
  "kernelspec": {
   "display_name": "Python 3",
   "language": "python",
   "name": "python3"
  },
  "language_info": {
   "codemirror_mode": {
    "name": "ipython",
    "version": 3
   },
   "file_extension": ".py",
   "mimetype": "text/x-python",
   "name": "python",
   "nbconvert_exporter": "python",
   "pygments_lexer": "ipython3",
   "version": "3.7.4"
  }
 },
 "nbformat": 4,
 "nbformat_minor": 4
}
