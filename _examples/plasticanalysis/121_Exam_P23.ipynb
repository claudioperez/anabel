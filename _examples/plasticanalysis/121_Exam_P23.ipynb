{
 "cells": [
  {
   "cell_type": "markdown",
   "metadata": {},
   "source": [
    "# 33. Plastic Analysis"
   ]
  },
  {
   "cell_type": "code",
   "execution_count": 1,
   "metadata": {},
   "outputs": [],
   "source": [
    "import ema as em\n",
    "import numpy as np\n",
    "import scipy.linalg\n",
    "import matplotlib.pyplot as plt\n",
    "%config InlineBackend.figure_format = 'svg'"
   ]
  },
  {
   "cell_type": "code",
   "execution_count": 2,
   "metadata": {},
   "outputs": [
    {
     "data": {
      "text/plain": [
       "[[9, 10, 11], [1, 2, 3], [4, 5, 6], [7, 12, 8]]"
      ]
     },
     "execution_count": 2,
     "metadata": {},
     "output_type": "execute_result"
    }
   ],
   "source": [
    "mdl = em.Model(2,3)\n",
    "n = mdl.dnodes\n",
    "e = mdl.delems\n",
    "\n",
    "mdl.xsection('default', 1e8, 40000)\n",
    "xt = mdl.xsection('truss', 10e3, 1)\n",
    "\n",
    "mdl.node('1',  0.0, 0.0)\n",
    "mdl.node('2',  6.0, 0.0)\n",
    "mdl.node('3',  6.0, 4.0)\n",
    "mdl.node('4', 12.0, 4.0)\n",
    "\n",
    "mdl.beam('a', n['1'], n['2'])\n",
    "mdl.beam('b', n['2'], n['3'])\n",
    "mdl.beam('c', n['3'], n['4'])\n",
    "\n",
    "mdl.fix(n['1'], ['x', 'y', 'rz'])\n",
    "mdl.roller(n['4'])\n",
    "\n",
    "mdl.numDOF()"
   ]
  },
  {
   "cell_type": "code",
   "execution_count": 3,
   "metadata": {},
   "outputs": [],
   "source": [
    "# Define plastic capacity\n",
    "Q_axial = 500\n",
    "e['a'].Qp['+']['1'] = e['a'].Qp['-']['1'] = Q_axial\n",
    "e['a'].Qp['+']['2'] = e['a'].Qp['-']['2'] = 200\n",
    "e['a'].Qp['+']['3'] = e['a'].Qp['-']['3'] = 200\n",
    "e['c'].Qp['+']['1'] = e['c'].Qp['-']['1'] = Q_axial\n",
    "e['c'].Qp['+']['2'] = e['c'].Qp['-']['2'] = 200\n",
    "e['c'].Qp['+']['3'] = e['c'].Qp['-']['3'] = 200\n",
    "e['b'].Qp['+']['1'] = e['b'].Qp['-']['1'] = Q_axial\n",
    "e['b'].Qp['+']['2'] = e['b'].Qp['-']['2'] = 240\n",
    "e['b'].Qp['+']['3'] = e['b'].Qp['-']['3'] = 240"
   ]
  },
  {
   "cell_type": "code",
   "execution_count": 4,
   "metadata": {},
   "outputs": [
    {
     "data": {
      "text/plain": [
       "2.0000000000000018"
      ]
     },
     "execution_count": 4,
     "metadata": {},
     "output_type": "execute_result"
    }
   ],
   "source": [
    "n['3'].p['y'] =-30\n",
    "n['3'].p['x'] = 30\n",
    "lambdac, Q = em.analysis.PlasticAnalysis_wLBT(mdl)\n",
    "lambdac"
   ]
  },
  {
   "cell_type": "code",
   "execution_count": 5,
   "metadata": {},
   "outputs": [
    {
     "name": "stderr",
     "output_type": "stream",
     "text": [
      "C:\\Users\\claud\\Anaconda3\\lib\\site-packages\\IPython\\core\\formatters.py:371: FormatterWarning: text/html formatter returned invalid type <class 'ema.matrices.iForce_vector'> (expected <class 'str'>) for object: iForce_vector([  60.        ,  200.        ,  -40.        ,  -26.66666667,\n",
      "                 40.        ,  200.        ,    0.        , -200.        ,\n",
      "                  0.        ])\n",
      "  FormatterWarning\n"
     ]
    },
    {
     "data": {
      "text/plain": [
       "iForce_vector([  60.        ,  200.        ,  -40.        ,  -26.66666667,\n",
       "                 40.        ,  200.        ,    0.        , -200.        ,\n",
       "                  0.        ])"
      ]
     },
     "execution_count": 5,
     "metadata": {},
     "output_type": "execute_result"
    }
   ],
   "source": [
    "Q"
   ]
  },
  {
   "cell_type": "code",
   "execution_count": 6,
   "metadata": {},
   "outputs": [
    {
     "data": {
      "text/plain": [
       "array([[ 0.70710678,  0.        ,  0.        ],\n",
       "       [ 0.        ,  0.24272965,  0.94397157],\n",
       "       [ 0.        ,  0.1187848 , -0.18944701],\n",
       "       [ 0.70710678,  0.        ,  0.        ],\n",
       "       [ 0.        ,  0.95543846, -0.19271051],\n",
       "       [ 0.        ,  0.1187848 , -0.18944701]])"
      ]
     },
     "execution_count": 6,
     "metadata": {},
     "output_type": "execute_result"
    }
   ],
   "source": [
    "scipy.linalg.null_space(mdl.elems[0].ke_matrix())"
   ]
  },
  {
   "cell_type": "code",
   "execution_count": 7,
   "metadata": {},
   "outputs": [
    {
     "data": {
      "text/plain": [
       "array([[ 0.70710678,  0.        ,  0.        ],\n",
       "       [ 0.        ,  0.2886956 , -0.93094299],\n",
       "       [ 0.        ,  0.1093586 ,  0.19504024],\n",
       "       [ 0.70710678,  0.        ,  0.        ],\n",
       "       [ 0.        ,  0.94484721,  0.23929847],\n",
       "       [ 0.        ,  0.1093586 ,  0.19504024]])"
      ]
     },
     "execution_count": 7,
     "metadata": {},
     "output_type": "execute_result"
    }
   ],
   "source": [
    "scipy.linalg.null_space(mdl.elems[0].ag())"
   ]
  },
  {
   "cell_type": "code",
   "execution_count": null,
   "metadata": {},
   "outputs": [],
   "source": []
  }
 ],
 "metadata": {
  "kernelspec": {
   "display_name": "Python 3",
   "language": "python",
   "name": "python3"
  },
  "language_info": {
   "codemirror_mode": {
    "name": "ipython",
    "version": 3
   },
   "file_extension": ".py",
   "mimetype": "text/x-python",
   "name": "python",
   "nbconvert_exporter": "python",
   "pygments_lexer": "ipython3",
   "version": "3.7.6"
  }
 },
 "nbformat": 4,
 "nbformat_minor": 4
}
