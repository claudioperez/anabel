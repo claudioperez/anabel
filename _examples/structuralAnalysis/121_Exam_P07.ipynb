{
 "cells": [
  {
   "cell_type": "code",
   "execution_count": 3,
   "metadata": {},
   "outputs": [],
   "source": [
    "#Remove\n",
    "import ema as em\n",
    "import numpy as np\n",
    "import sympy as sp\n",
    "import matplotlib.pyplot as plt\n",
    "%config InlineBackend.figure_format = 'svg'"
   ]
  },
  {
   "cell_type": "markdown",
   "metadata": {},
   "source": [
    "# Problem 7"
   ]
  },
  {
   "cell_type": "code",
   "execution_count": 2,
   "metadata": {},
   "outputs": [],
   "source": [
    "#Remove\n",
    "mdl = em.rModel(2,3)\n",
    "n = mdl.dnodes\n",
    "e = mdl.delems\n",
    "\n",
    "mdl.node('1',  0.0, 0.0)\n",
    "mdl.node('2',  8.0, 0.0)\n",
    "mdl.node('3', 12.0, 0.0)\n",
    "mdl.node('4',  8.0, 6.0)\n",
    "mdl.node('5', 12.0, 6.0)\n",
    "\n",
    "mdl.beam('a', n['1'], n['2'])\n",
    "mdl.beam('b', n['2'], n['3'])\n",
    "mdl.beam('c', n['2'], n['4'])\n",
    "mdl.beam('d', n['4'], n['5'])\n",
    "mdl.truss('e', n['1'], n['4'], xsec=xt)\n",
    "\n",
    "mdl.hinge(e['a'], n['1'])\n",
    "mdl.hinge(e['b'], n['3'])\n",
    "mdl.hinge(e['d'], n['5'])\n",
    "\n",
    "mdl.fix(n['1'], ['x','y', 'rz'])\n",
    "mdl.fix(n['3'], ['y', 'rz'])\n",
    "mdl.fix(n['5'], ['y', 'rz'])\n",
    "\n",
    "mdl.DOF = [[5, 6, 7],[5, 1, 2],[5, 8, 9],[3, 1, 4], [3, 10, 11]]"
   ]
  },
  {
   "cell_type": "code",
   "execution_count": 3,
   "metadata": {
    "jupyter": {
     "source_hidden": true
    }
   },
   "outputs": [
    {
     "name": "stdout",
     "output_type": "stream",
     "text": [
      "m = 0\n",
      "s = 2\n"
     ]
    },
    {
     "data": {
      "text/plain": [
       "[2, 2, 3, 2, 1]"
      ]
     },
     "execution_count": 3,
     "metadata": {},
     "output_type": "execute_result"
    }
   ],
   "source": [
    "em.analysis.characterize(mdl)\n",
    "mdl.nq"
   ]
  },
  {
   "cell_type": "code",
   "execution_count": 1,
   "metadata": {
    "jupyter": {
     "source_hidden": true
    }
   },
   "outputs": [
    {
     "ename": "NameError",
     "evalue": "name 'plt' is not defined",
     "output_type": "error",
     "traceback": [
      "\u001b[1;31m---------------------------------------------------------------------------\u001b[0m",
      "\u001b[1;31mNameError\u001b[0m                                 Traceback (most recent call last)",
      "\u001b[1;32m<ipython-input-1-e5753b3bea04>\u001b[0m in \u001b[0;36m<module>\u001b[1;34m\u001b[0m\n\u001b[1;32m----> 1\u001b[1;33m \u001b[0mfig\u001b[0m\u001b[1;33m,\u001b[0m \u001b[0max\u001b[0m \u001b[1;33m=\u001b[0m \u001b[0mplt\u001b[0m\u001b[1;33m.\u001b[0m\u001b[0msubplots\u001b[0m\u001b[1;33m(\u001b[0m\u001b[1;36m1\u001b[0m\u001b[1;33m,\u001b[0m\u001b[1;36m1\u001b[0m\u001b[1;33m)\u001b[0m\u001b[1;33m\u001b[0m\u001b[1;33m\u001b[0m\u001b[0m\n\u001b[0m\u001b[0;32m      2\u001b[0m \u001b[0mem\u001b[0m\u001b[1;33m.\u001b[0m\u001b[0mplot_structure\u001b[0m\u001b[1;33m(\u001b[0m\u001b[0mmdl\u001b[0m\u001b[1;33m,\u001b[0m \u001b[0max\u001b[0m\u001b[1;33m)\u001b[0m\u001b[1;33m\u001b[0m\u001b[1;33m\u001b[0m\u001b[0m\n",
      "\u001b[1;31mNameError\u001b[0m: name 'plt' is not defined"
     ]
    }
   ],
   "source": [
    "fig, ax = plt.subplots(1,1)\n",
    "em.plot_structure(mdl, ax)"
   ]
  },
  {
   "cell_type": "code",
   "execution_count": 5,
   "metadata": {},
   "outputs": [],
   "source": [
    "v = {'a':[1.9479,5.3681],'b':[-4, -4.6840],'c':[-4.6319, 2.3160], 'd':[-4.5501, None]}"
   ]
  },
  {
   "cell_type": "code",
   "execution_count": 6,
   "metadata": {},
   "outputs": [
    {
     "data": {
      "text/plain": [
       "-5.687624999999999"
      ]
     },
     "execution_count": 6,
     "metadata": {},
     "output_type": "execute_result"
    }
   ],
   "source": [
    "v['d'][0]/0.8"
   ]
  },
  {
   "cell_type": "code",
   "execution_count": null,
   "metadata": {},
   "outputs": [],
   "source": []
  }
 ],
 "metadata": {
  "kernelspec": {
   "display_name": "Python 3",
   "language": "python",
   "name": "python3"
  },
  "language_info": {
   "codemirror_mode": {
    "name": "ipython",
    "version": 3
   },
   "file_extension": ".py",
   "mimetype": "text/x-python",
   "name": "python",
   "nbconvert_exporter": "python",
   "pygments_lexer": "ipython3",
   "version": "3.7.4"
  }
 },
 "nbformat": 4,
 "nbformat_minor": 4
}
