{
 "cells": [
  {
   "cell_type": "code",
   "execution_count": 7,
   "metadata": {},
   "outputs": [],
   "source": [
    "import ema as em #2019-17-09\n",
    "import numpy as np\n",
    "import matplotlib.pyplot as plt\n",
    "import sympy as sp"
   ]
  },
  {
   "cell_type": "code",
   "execution_count": 2,
   "metadata": {},
   "outputs": [
    {
     "data": {
      "text/latex": [
       "$\\displaystyle P^{2}_{y}$"
      ],
      "text/plain": [
       "P^2_y"
      ]
     },
     "execution_count": 2,
     "metadata": {},
     "output_type": "execute_result"
    }
   ],
   "source": [
    "# Problem from Example 4.1 on page 72 of course reader.\n",
    "p1 = em.Domain(2,2)\n",
    "m1 = p1.material(1.0)\n",
    "s1 = p1.xsec(1.0, 1.0)\n",
    "\n",
    "# Create Nodes\n",
    "n1 = p1.node('1',  0.0, 0.0)\n",
    "n2 = p1.node('2',  8.0, 0.0)\n",
    "n3 = p1.node('3', 16.0, 0.0)\n",
    "n4 = p1.node('4',  8.0, 6.0)\n",
    "\n",
    "# Create elems\n",
    "a = p1.truss('a', n1, n2, m1, s1)\n",
    "b = p1.truss('b', n2, n3, m1, s1)\n",
    "c = p1.truss('c', n1, n4, m1, s1)\n",
    "d = p1.truss('d', n2, n4, m1, s1)\n",
    "e = p1.truss('e', n3, n4, m1, s1)\n",
    "    \n",
    "# Create reactions\n",
    "p1.pin(n1)\n",
    "p1.fix(n3, 'y')\n",
    "\n",
    "# number DOFs\n",
    "p1.numDOF()\n",
    "\n",
    "# Create loading state\n",
    "state = em.State(p1)\n",
    "\n",
    "# Load\n",
    "state.nLoad(n4, 'x', 10)\n",
    "state.nLoad(n2, 'y', -5)"
   ]
  },
  {
   "cell_type": "code",
   "execution_count": 3,
   "metadata": {},
   "outputs": [
    {
     "data": {
      "image/png": "[encoded data removed]",
      "text/plain": [
       "<Figure size 432x288 with 1 Axes>"
      ]
     },
     "metadata": {
      "needs_background": "light"
     },
     "output_type": "display_data"
    }
   ],
   "source": [
    "fig, ax = plt.subplots(1,1)\n",
    "em.plotting.plot_structure(p1, ax)"
   ]
  },
  {
   "cell_type": "code",
   "execution_count": 5,
   "metadata": {},
   "outputs": [
    {
     "data": {
      "text/plain": [
       "[[6, 7], [1, 2], [3, 8], [4, 5]]"
      ]
     },
     "execution_count": 5,
     "metadata": {},
     "output_type": "execute_result"
    }
   ],
   "source": [
    "p1.DOF"
   ]
  },
  {
   "cell_type": "code",
   "execution_count": 12,
   "metadata": {},
   "outputs": [
    {
     "data": {
      "text/latex": [
       "$\\displaystyle \\left[\\begin{matrix}1.0 & -1.0 & 0.0 & 0.0 & 0.0\\\\0.0 & 0.0 & 0.0 & -1.0 & 0.0\\\\0.0 & 1.0 & 0.0 & 0.0 & 0.8\\\\0.0 & 0.0 & 0.8 & 0.0 & -0.8\\\\0.0 & 0.0 & 0.6 & 1.0 & 0.6\\\\-1.0 & 0.0 & -0.8 & 0.0 & 0.0\\\\0.0 & 0.0 & -0.6 & 0.0 & 0.0\\\\0.0 & 0.0 & 0.0 & 0.0 & -0.6\\end{matrix}\\right]$"
      ],
      "text/plain": [
       "Matrix([\n",
       "[ 1.0, -1.0,  0.0,  0.0,  0.0],\n",
       "[ 0.0,  0.0,  0.0, -1.0,  0.0],\n",
       "[ 0.0,  1.0,  0.0,  0.0,  0.8],\n",
       "[ 0.0,  0.0,  0.8,  0.0, -0.8],\n",
       "[ 0.0,  0.0,  0.6,  1.0,  0.6],\n",
       "[-1.0,  0.0, -0.8,  0.0,  0.0],\n",
       "[ 0.0,  0.0, -0.6,  0.0,  0.0],\n",
       "[ 0.0,  0.0,  0.0,  0.0, -0.6]])"
      ]
     },
     "execution_count": 12,
     "metadata": {},
     "output_type": "execute_result"
    }
   ],
   "source": [
    "B =  sp.Matrix(em.B_matrix(p1))\n",
    "B"
   ]
  },
  {
   "cell_type": "code",
   "execution_count": 10,
   "metadata": {},
   "outputs": [
    {
     "data": {
      "text/latex": [
       "$\\displaystyle \\left[\\begin{matrix}0\\\\-5\\\\0\\\\10\\\\0\\end{matrix}\\right]$"
      ],
      "text/plain": [
       "Matrix([\n",
       "[ 0],\n",
       "[-5],\n",
       "[ 0],\n",
       "[10],\n",
       "[ 0]])"
      ]
     },
     "execution_count": 10,
     "metadata": {},
     "output_type": "execute_result"
    }
   ],
   "source": [
    "Pf = sp.Matrix(state.Pf)\n",
    "Pf"
   ]
  },
  {
   "cell_type": "code",
   "execution_count": 17,
   "metadata": {},
   "outputs": [
    {
     "data": {
      "text/latex": [
       "$\\displaystyle \\left[\\begin{matrix}8.33333333333333\\\\8.33333333333333\\\\2.08333333333333\\\\5.0\\\\-10.4166666666667\\end{matrix}\\right]$"
      ],
      "text/plain": [
       "Matrix([\n",
       "[ 8.33333333333333],\n",
       "[ 8.33333333333333],\n",
       "[ 2.08333333333333],\n",
       "[              5.0],\n",
       "[-10.4166666666667]])"
      ]
     },
     "execution_count": 17,
     "metadata": {},
     "output_type": "execute_result"
    }
   ],
   "source": [
    "Q = B[:p1.nf,:].inv()@Pf\n",
    "Q"
   ]
  }
 ],
 "metadata": {
  "kernelspec": {
   "display_name": "Python 3",
   "language": "python",
   "name": "python3"
  },
  "language_info": {
   "codemirror_mode": {
    "name": "ipython",
    "version": 3
   },
   "file_extension": ".py",
   "mimetype": "text/x-python",
   "name": "python",
   "nbconvert_exporter": "python",
   "pygments_lexer": "ipython3",
   "version": "3.7.4"
  }
 },
 "nbformat": 4,
 "nbformat_minor": 4
}
