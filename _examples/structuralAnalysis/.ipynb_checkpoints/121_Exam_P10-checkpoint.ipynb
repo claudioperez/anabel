{
 "cells": [
  {
   "cell_type": "markdown",
   "metadata": {},
   "source": [
    "# Problem 10"
   ]
  },
  {
   "cell_type": "code",
   "execution_count": 1,
   "metadata": {},
   "outputs": [],
   "source": [
    "import ema as em\n",
    "import sympy as sp\n",
    "import numpy as np\n",
    "import matplotlib.pyplot as plt"
   ]
  },
  {
   "cell_type": "code",
   "execution_count": 3,
   "metadata": {},
   "outputs": [
    {
     "data": {
      "text/plain": [
       "rxn-y"
      ]
     },
     "execution_count": 3,
     "metadata": {},
     "output_type": "execute_result"
    }
   ],
   "source": [
    "mdl = em.Model(2,3)\n",
    "\n",
    "n1 = mdl.node('1', 0.0, 0.0)\n",
    "n2 = mdl.node('2', 6.0, 0.0)\n",
    "n3 = mdl.node('3', 6.0, 8.0)\n",
    "n4 = mdl.node('4', 12.0, 8.0)\n",
    "n5 = mdl.node('5', 12.0, 0.0)\n",
    "\n",
    "a = mdl.beam('a', n1, n2)\n",
    "b = mdl.beam('b', n2, n3)\n",
    "c = mdl.beam('c', n3, n4)\n",
    "d = mdl.truss('d', n3, n5)\n",
    "\n",
    "mdl.fix(n1, ['x', 'y', 'rz'])\n",
    "mdl.fix(n5, ['x', 'y', 'rz'])\n",
    "mdl.fix(n4, 'y')\n"
   ]
  },
  {
   "cell_type": "code",
   "execution_count": 4,
   "metadata": {},
   "outputs": [
    {
     "data": {
      "image/png": "[encoded data removed]",
      "text/plain": [
       "<Figure size 432x288 with 1 Axes>"
      ]
     },
     "metadata": {
      "needs_background": "light"
     },
     "output_type": "display_data"
    }
   ],
   "source": [
    "fig, ax= plt.subplots(1,1)\n",
    "em.plot_structure(mdl, ax)"
   ]
  },
  {
   "cell_type": "code",
   "execution_count": 6,
   "metadata": {},
   "outputs": [
    {
     "data": {
      "text/plain": [
       "[[9, 10, 11], [1, 2, 3], [4, 5, 6], [7, 12, 8], [13, 14, 15]]"
      ]
     },
     "execution_count": 6,
     "metadata": {},
     "output_type": "execute_result"
    }
   ],
   "source": [
    "mdl.numDOF()"
   ]
  }
 ],
 "metadata": {
  "kernelspec": {
   "display_name": "Python 3",
   "language": "python",
   "name": "python3"
  },
  "language_info": {
   "codemirror_mode": {
    "name": "ipython",
    "version": 3
   },
   "file_extension": ".py",
   "mimetype": "text/x-python",
   "name": "python",
   "nbconvert_exporter": "python",
   "pygments_lexer": "ipython3",
   "version": "3.7.4"
  }
 },
 "nbformat": 4,
 "nbformat_minor": 4
}
