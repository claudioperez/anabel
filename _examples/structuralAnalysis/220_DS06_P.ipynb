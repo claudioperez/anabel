{
 "cells": [
  {
   "cell_type": "code",
   "execution_count": 1,
   "metadata": {},
   "outputs": [],
   "source": [
    "import ema as em\n",
    "import matplotlib.pyplot as plt\n",
    "import numpy as np"
   ]
  },
  {
   "cell_type": "markdown",
   "metadata": {},
   "source": [
    "# Discusion 6\n",
    "2019"
   ]
  },
  {
   "cell_type": "code",
   "execution_count": 2,
   "metadata": {},
   "outputs": [],
   "source": [
    "dm = em.Domain(2,3)\n",
    "n = dm.dnodes\n",
    "e = dm.delems\n",
    "\n",
    "dm.node('1', 0.0, 0.0)\n",
    "dm.node('2', 6.0, 0.0)\n",
    "dm.node('3', 6.0, 8.0)\n",
    "dm.node('4', 14.0, 8.0)\n",
    "\n",
    "dm.beam('a', n['1'], n['2'])\n",
    "dm.beam('b', n['2'], n['3'])\n",
    "dm.beam('c', n['3'], n['4'])\n",
    "dm.truss('d', n['1'], n['3'])\n",
    "\n",
    "dm.hinge(e['a'], n['2'])\n",
    "dm.hinge(e['c'], n['3'])\n",
    "\n",
    "dm.pin(n['1'])\n",
    "dm.pin(n['4'])"
   ]
  },
  {
   "cell_type": "code",
   "execution_count": 3,
   "metadata": {},
   "outputs": [
    {
     "data": {
      "image/png": "[encoded data removed]",
      "text/plain": [
       "<Figure size 432x288 with 1 Axes>"
      ]
     },
     "metadata": {
      "needs_background": "light"
     },
     "output_type": "display_data"
    }
   ],
   "source": [
    "fig, ax = plt.subplots(1,1)\n",
    "em.plot_structure(dm, ax)"
   ]
  },
  {
   "cell_type": "code",
   "execution_count": 4,
   "metadata": {},
   "outputs": [],
   "source": [
    "dm.states=[]\n",
    "st = dm.state()\n",
    "st['v0']['d'] = 4e-3\n",
    "st['v0']['a']['2'] = 1.8e-3\n",
    "st['v0']['b']['2'] = 3.2e-3\n",
    "st['v0']['b']['3'] = -3.2e-3"
   ]
  },
  {
   "cell_type": "code",
   "execution_count": 5,
   "metadata": {},
   "outputs": [
    {
     "data": {
      "text/plain": [
       "{'a': {'1': 0, '2': 0.0018, '3': 0},\n",
       " 'b': {'1': 0, '2': 0.0032, '3': -0.0032},\n",
       " 'c': {'1': 0, '2': 0, '3': 0},\n",
       " 'd': 0.004}"
      ]
     },
     "execution_count": 5,
     "metadata": {},
     "output_type": "execute_result"
    }
   ],
   "source": [
    "st['v0']"
   ]
  },
  {
   "cell_type": "code",
   "execution_count": 6,
   "metadata": {},
   "outputs": [
    {
     "data": {
      "text/latex": [
       "$\\displaystyle \\left[\\begin{array}{cccccccccccc}1.0 & 0.0 & 0.0 & 0.0 & 0.0 & 0.0 & 0.0 & 0.0 & -1.0 & 0.0 & 0.0 & 0.0\\\\0.0 & -0.166666666666667 & 0.0 & 0.0 & 0.0 & 0.0 & 0.0 & 1.0 & 0.0 & 0.166666666666667 & 0.0 & 0.0\\\\0.0 & -1.0 & 0.0 & 0.0 & 1.0 & 0.0 & 0.0 & 0.0 & 0.0 & 0.0 & 0.0 & 0.0\\\\-0.125 & 0.0 & 0.0 & 0.125 & 0.0 & 1.0 & 0.0 & 0.0 & 0.0 & 0.0 & 0.0 & 0.0\\\\-0.125 & 0.0 & 1.0 & 0.125 & 0.0 & 0.0 & 0.0 & 0.0 & 0.0 & 0.0 & 0.0 & 0.0\\\\0.0 & 0.0 & 0.0 & -1.0 & 0.0 & 0.0 & 0.0 & 0.0 & 0.0 & 0.0 & 1.0 & 0.0\\\\0.0 & 0.0 & 0.0 & 0.0 & 0.125 & 0.0 & 1.0 & 0.0 & 0.0 & 0.0 & 0.0 & -0.125\\\\0.0 & 0.0 & 0.0 & -0.8 & 0.0 & 0.0 & 0.0 & 0.0 & -0.6 & 0.0 & 0.0 & 0.0\\end{array}\\right]$"
      ],
      "text/plain": [
       "Matrix([\n",
       "[   1.0,                0.0, 0.0,   0.0,   0.0, 0.0, 0.0, 0.0, -1.0,               0.0, 0.0,    0.0],\n",
       "[   0.0, -0.166666666666667, 0.0,   0.0,   0.0, 0.0, 0.0, 1.0,  0.0, 0.166666666666667, 0.0,    0.0],\n",
       "[   0.0,               -1.0, 0.0,   0.0,   1.0, 0.0, 0.0, 0.0,  0.0,               0.0, 0.0,    0.0],\n",
       "[-0.125,                0.0, 0.0, 0.125,   0.0, 1.0, 0.0, 0.0,  0.0,               0.0, 0.0,    0.0],\n",
       "[-0.125,                0.0, 1.0, 0.125,   0.0, 0.0, 0.0, 0.0,  0.0,               0.0, 0.0,    0.0],\n",
       "[   0.0,                0.0, 0.0,  -1.0,   0.0, 0.0, 0.0, 0.0,  0.0,               0.0, 1.0,    0.0],\n",
       "[   0.0,                0.0, 0.0,   0.0, 0.125, 0.0, 1.0, 0.0,  0.0,               0.0, 0.0, -0.125],\n",
       "[   0.0,                0.0, 0.0,  -0.8,   0.0, 0.0, 0.0, 0.0, -0.6,               0.0, 0.0,    0.0]])"
      ]
     },
     "execution_count": 6,
     "metadata": {},
     "output_type": "execute_result"
    }
   ],
   "source": [
    "dm.DOF = [[9, 10, 8], [1, 2, 6], [4, 5, 3], [11, 12, 7]]\n",
    "B = em.B_matrix(dm)\n",
    "B.sym.T"
   ]
  },
  {
   "cell_type": "code",
   "execution_count": 7,
   "metadata": {},
   "outputs": [
    {
     "data": {
      "text/plain": [
       "{'1': 0, '2': 0}"
      ]
     },
     "execution_count": 7,
     "metadata": {},
     "output_type": "execute_result"
    }
   ],
   "source": [
    "e['a'].q"
   ]
  },
  {
   "cell_type": "code",
   "execution_count": 13,
   "metadata": {},
   "outputs": [
    {
     "data": {
      "text/plain": [
       "['a1', 'a2', 'b1', 'b2', 'b3', 'c1', 'c3', 'd1']"
      ]
     },
     "execution_count": 13,
     "metadata": {},
     "output_type": "execute_result"
    }
   ],
   "source": [
    "B.columns"
   ]
  },
  {
   "cell_type": "code",
   "execution_count": 11,
   "metadata": {},
   "outputs": [
    {
     "data": {
      "text/plain": [
       "array([-0.        ,  0.16666667,  1.        ,  0.        , -0.16666667,\n",
       "        0.        ])"
      ]
     },
     "execution_count": 11,
     "metadata": {},
     "output_type": "execute_result"
    }
   ],
   "source": [
    "e['a'].ag()[1]"
   ]
  },
  {
   "cell_type": "code",
   "execution_count": null,
   "metadata": {},
   "outputs": [],
   "source": []
  }
 ],
 "metadata": {
  "kernelspec": {
   "display_name": "Python 3",
   "language": "python",
   "name": "python3"
  },
  "language_info": {
   "codemirror_mode": {
    "name": "ipython",
    "version": 3
   },
   "file_extension": ".py",
   "mimetype": "text/x-python",
   "name": "python",
   "nbconvert_exporter": "python",
   "pygments_lexer": "ipython3",
   "version": "3.7.4"
  }
 },
 "nbformat": 4,
 "nbformat_minor": 4
}
