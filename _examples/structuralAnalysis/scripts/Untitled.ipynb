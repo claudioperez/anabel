{
 "cells": [
  {
   "cell_type": "code",
   "execution_count": null,
   "metadata": {},
   "outputs": [],
   "source": [
    "import ema as em\n",
    "\n",
    "domain = em.Domain(2,2)\n",
    "m1 = domain.material(1.0)\n",
    "s1 = domain.xsec(1.0, 1.0)\n",
    "\n",
    "# Create nodes\n",
    "n1 = domain.node('1',  0,  0)\n",
    "n2 = domain.node('2',  0,  2)\n",
    "n3 = domain.node('3',  3,  2)\n",
    "n4 = domain.node('4',  3,  4)\n",
    "n5 = domain.node('5',  6,  4)\n",
    "n6 = domain.node('6',  9,  4)\n",
    "n7 = domain.node('7',  9,  2)\n",
    "n8 = domain.node('8', 12,  2)\n",
    "n9 = domain.node('9', 12,  0)\n",
    "\n",
    "# Create elems\n",
    "a = domain.truss('a', n1, n2, m1, s1)\n",
    "b = domain.truss('b', n1, n3, m1, s1)\n",
    "c = domain.truss('c', n2, n3, m1, s1)\n",
    "d = domain.truss('d', n2, n4, m1, s1)\n",
    "e = domain.truss('e', n3, n4, m1, s1)\n",
    "f = domain.truss('f', n3, n5, m1, s1)\n",
    "g = domain.truss('g', n4, n5, m1, s1)\n",
    "h = domain.truss('h', n5, n6, m1, s1)\n",
    "i = domain.truss('i', n5, n7, m1, s1)\n",
    "j = domain.truss('j', n6, n7, m1, s1)\n",
    "k = domain.truss('k', n6, n8, m1, s1)\n",
    "l = domain.truss('l', n7, n8, m1, s1)\n",
    "m = domain.truss('m', n7, n9, m1, s1)\n",
    "n = domain.truss('n', n8, n9, m1, s1)\n",
    "\n",
    "# Create reactions\n",
    "domain.pin(domain.nodes[ 0])\n",
    "domain.pin(domain.nodes[-1])\n",
    "\n",
    "# number DOFs\n",
    "domain.numDOF()\n",
    "\n",
    "# Create loading state\n",
    "state = em.State(domain)\n",
    "\n",
    "# Load\n",
    "state.nLoad(n4, 'y', -12)\n",
    "state.nLoad(n8, 'x', -18)"
   ]
  }
 ],
 "metadata": {
  "kernelspec": {
   "display_name": "Python 3",
   "language": "python",
   "name": "python3"
  },
  "language_info": {
   "codemirror_mode": {
    "name": "ipython",
    "version": 3
   },
   "file_extension": ".py",
   "mimetype": "text/x-python",
   "name": "python",
   "nbconvert_exporter": "python",
   "pygments_lexer": "ipython3",
   "version": "3.7.4"
  }
 },
 "nbformat": 4,
 "nbformat_minor": 4
}
