{
 "cells": [
  {
   "cell_type": "code",
   "execution_count": 1,
   "metadata": {
    "jupyter": {
     "source_hidden": true
    }
   },
   "outputs": [],
   "source": [
    "import ema as em #2019-17-09\n",
    "import numpy as np\n",
    "import matplotlib.pyplot as plt\n",
    "import sympy as sp"
   ]
  },
  {
   "cell_type": "markdown",
   "metadata": {},
   "source": [
    "# Problem 2"
   ]
  },
  {
   "cell_type": "code",
   "execution_count": 2,
   "metadata": {
    "jupyter": {
     "source_hidden": true
    }
   },
   "outputs": [],
   "source": [
    "dom = em.Domain(2,3)\n",
    "m1, s1 = em.UnitProperties()\n",
    "\n",
    "n1 = dom.node('1', 0.0, 0.0)\n",
    "n2 = dom.node('2', 0.0, 4.0)\n",
    "n3 = dom.node('3', 4.0, 7.0)\n",
    "n4 = dom.node('4', 8.0, 4.0)\n",
    "\n",
    "a = dom.beam('a', n1, n2, m1, s1)\n",
    "b = dom.beam('b', n2, n3, m1, s1)\n",
    "c = dom.beam('c', n3, n4, m1, s1)\n",
    "\n",
    "dom.hinge(c, n3)\n",
    "dom.hinge(c, n4)\n",
    "dom.pin(dom.nodes[0])\n",
    "dom.pin(dom.nodes[-1])\n",
    "\n",
    "dom.numDOF()"
   ]
  },
  {
   "cell_type": "code",
   "execution_count": 8,
   "metadata": {
    "jupyter": {
     "source_hidden": true
    }
   },
   "outputs": [
    {
     "data": {
      "image/png": "[encoded data removed]",
      "text/plain": [
       "<Figure size 432x288 with 1 Axes>"
      ]
     },
     "metadata": {
      "needs_background": "light"
     },
     "output_type": "display_data"
    }
   ],
   "source": [
    "fig, ax = plt.subplots()\n",
    "em.plot_structure(dom, ax)"
   ]
  },
  {
   "cell_type": "code",
   "execution_count": 9,
   "metadata": {},
   "outputs": [
    {
     "data": {
      "text/latex": [
       "$\\displaystyle \\left[\\begin{matrix}0.0 & 1.0 & 0.0 & 0.0 & 0.0 & 0.0 & 0.0\\\\0.0 & 0.25 & 0.25 & -0.8 & -0.12 & -0.12 & 0.0\\\\1.0 & 0.0 & 0.0 & -0.6 & 0.16 & 0.16 & 0.0\\\\0.0 & 0.0 & 1.0 & 0.0 & 1.0 & 0.0 & 0.0\\\\0.0 & 0.0 & 0.0 & 0.8 & 0.12 & 0.12 & -0.8\\\\0.0 & 0.0 & 0.0 & 0.6 & -0.16 & -0.16 & 0.6\\\\0.0 & 0.0 & 0.0 & 0.0 & 0.0 & 1.0 & 0.0\\\\0.0 & 0.0 & 0.0 & 0.0 & 0.0 & 0.0 & 0.0\\\\0.0 & -0.25 & -0.25 & 0.0 & 0.0 & 0.0 & 0.0\\\\-1.0 & 0.0 & 0.0 & 0.0 & 0.0 & 0.0 & 0.0\\\\0.0 & 0.0 & 0.0 & 0.0 & 0.0 & 0.0 & 0.8\\\\0.0 & 0.0 & 0.0 & 0.0 & 0.0 & 0.0 & -0.6\\end{matrix}\\right]$"
      ],
      "text/plain": [
       "Matrix([\n",
       "[ 0.0,   1.0,   0.0,  0.0,   0.0,   0.0,  0.0],\n",
       "[ 0.0,  0.25,  0.25, -0.8, -0.12, -0.12,  0.0],\n",
       "[ 1.0,   0.0,   0.0, -0.6,  0.16,  0.16,  0.0],\n",
       "[ 0.0,   0.0,   1.0,  0.0,   1.0,   0.0,  0.0],\n",
       "[ 0.0,   0.0,   0.0,  0.8,  0.12,  0.12, -0.8],\n",
       "[ 0.0,   0.0,   0.0,  0.6, -0.16, -0.16,  0.6],\n",
       "[ 0.0,   0.0,   0.0,  0.0,   0.0,   1.0,  0.0],\n",
       "[ 0.0,   0.0,   0.0,  0.0,   0.0,   0.0,  0.0],\n",
       "[ 0.0, -0.25, -0.25,  0.0,   0.0,   0.0,  0.0],\n",
       "[-1.0,   0.0,   0.0,  0.0,   0.0,   0.0,  0.0],\n",
       "[ 0.0,   0.0,   0.0,  0.0,   0.0,   0.0,  0.8],\n",
       "[ 0.0,   0.0,   0.0,  0.0,   0.0,   0.0, -0.6]])"
      ]
     },
     "execution_count": 9,
     "metadata": {},
     "output_type": "execute_result"
    }
   ],
   "source": [
    "em.B_matrix(dom).disp"
   ]
  },
  {
   "cell_type": "code",
   "execution_count": 3,
   "metadata": {},
   "outputs": [],
   "source": [
    "Bf = np.matrix([\n",
    "    [0.0,  0.25, -0.8, -0.12,  0.0],\n",
    "    [1.0,  0.0 , -0.6,  0.16,  0.0],\n",
    "    [0.0,  1.0,   0.0,  1.00,  0.0],\n",
    "    [0.0,  0.0,   0.8,  0.12, -0.8],\n",
    "    [0.0,  0.0,   0.6, -0.16,  0.6]\n",
    "])\n",
    "P = np.array([\n",
    "    11.25, -15., 0.0, -7.5, -20.\n",
    "])"
   ]
  },
  {
   "cell_type": "code",
   "execution_count": 4,
   "metadata": {},
   "outputs": [
    {
     "data": {
      "text/plain": [
       "array([[-29.56, -14.  , -20.54,  14.  ,  -9.06]])"
      ]
     },
     "execution_count": 4,
     "metadata": {},
     "output_type": "execute_result"
    }
   ],
   "source": [
    "Q = Bf.I@P\n",
    "np.around(Q,2)"
   ]
  },
  {
   "cell_type": "code",
   "execution_count": null,
   "metadata": {},
   "outputs": [],
   "source": []
  },
  {
   "cell_type": "code",
   "execution_count": 5,
   "metadata": {},
   "outputs": [],
   "source": [
    "def M(x):\n",
    "    Q4 = 14\n",
    "    w = 10\n",
    "    return -Q4+(Q4/5+18.75)*x-0.5*w*x**2+0.5*w*(x-2.5)**2*(x>2.5)"
   ]
  },
  {
   "cell_type": "code",
   "execution_count": 6,
   "metadata": {},
   "outputs": [
    {
     "data": {
      "text/plain": [
       "[<matplotlib.lines.Line2D at 0x291dfd77c08>]"
      ]
     },
     "execution_count": 6,
     "metadata": {},
     "output_type": "execute_result"
    },
    {
     "data": {
      "image/png": "[encoded data removed]",
      "text/plain": [
       "<Figure size 432x288 with 1 Axes>"
      ]
     },
     "metadata": {
      "needs_background": "light"
     },
     "output_type": "display_data"
    }
   ],
   "source": [
    "x = np.linspace(0, 5, 100)\n",
    "plt.plot(x, M(x))"
   ]
  },
  {
   "cell_type": "code",
   "execution_count": 7,
   "metadata": {},
   "outputs": [
    {
     "data": {
      "text/plain": [
       "9.218727680848897"
      ]
     },
     "execution_count": 7,
     "metadata": {},
     "output_type": "execute_result"
    }
   ],
   "source": [
    "max(M(x))"
   ]
  },
  {
   "cell_type": "code",
   "execution_count": null,
   "metadata": {},
   "outputs": [],
   "source": []
  }
 ],
 "metadata": {
  "kernelspec": {
   "display_name": "Python 3",
   "language": "python",
   "name": "python3"
  },
  "language_info": {
   "codemirror_mode": {
    "name": "ipython",
    "version": 3
   },
   "file_extension": ".py",
   "mimetype": "text/x-python",
   "name": "python",
   "nbconvert_exporter": "python",
   "pygments_lexer": "ipython3",
   "version": "3.7.4"
  }
 },
 "nbformat": 4,
 "nbformat_minor": 4
}
