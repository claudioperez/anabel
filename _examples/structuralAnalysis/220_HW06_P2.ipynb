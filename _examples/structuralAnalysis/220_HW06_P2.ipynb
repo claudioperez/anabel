{
 "cells": [
  {
   "cell_type": "code",
   "execution_count": 1,
   "metadata": {
    "jupyter": {
     "source_hidden": true
    }
   },
   "outputs": [],
   "source": [
    "#Remove\n",
    "import ema as em\n",
    "import matplotlib.pyplot as plt\n",
    "import numpy as np\n",
    "import sympy as sp\n",
    "%config InlineBackend.figure_format = 'svg'"
   ]
  },
  {
   "cell_type": "markdown",
   "metadata": {},
   "source": [
    "# Problem 2"
   ]
  },
  {
   "cell_type": "code",
   "execution_count": 2,
   "metadata": {
    "jupyter": {
     "source_hidden": true
    }
   },
   "outputs": [],
   "source": [
    "#Remove\n",
    "P2 = em.Domain(2,3)\n",
    "n = P2.dnodes\n",
    "e = P2.delems\n",
    "\n",
    "P2.node('1', 0.0, 0.0)\n",
    "P2.node('2', 8.0, 0.0)\n",
    "P2.node('3', 8.0, 6.0)\n",
    "P2.node('4', 16.0, 6.0)\n",
    "P2.node('5', 16.0, -4.0)\n",
    "\n",
    "P2.beam('a', n['1'], n['2'])\n",
    "P2.beam('b', n['2'], n['3'])\n",
    "P2.beam('c', n['3'], n['4'])\n",
    "P2.beam('d', n['4'], n['5'])\n",
    "P2.truss('e', n['2'], n['4'])\n",
    "\n",
    "P2.hinge(e['a'], n['1'])\n",
    "P2.hinge(e['d'], n['5'])\n",
    "\n",
    "P2.fix(n['1'], ['x', 'y', 'rz'])\n",
    "P2.fix(n['5'], ['x', 'y', 'rz'])\n",
    "\n",
    "P2.numDOF()\n",
    "P2.DOF = [[10,11,12],[6,1,2],[3,7,4], [8,9,5], [13,14,15]]"
   ]
  },
  {
   "cell_type": "code",
   "execution_count": null,
   "metadata": {
    "jupyter": {
     "source_hidden": true
    }
   },
   "outputs": [],
   "source": [
    "#Remove\n",
    "fig, ax = plt.subplots(1,1)\n",
    "em.plot_structure(P2, ax)"
   ]
  },
  {
   "cell_type": "markdown",
   "metadata": {},
   "source": [
    "## Part A"
   ]
  },
  {
   "cell_type": "markdown",
   "metadata": {},
   "source": [
    "### Static Indeterminacy"
   ]
  },
  {
   "cell_type": "code",
   "execution_count": null,
   "metadata": {
    "jupyter": {
     "source_hidden": true
    }
   },
   "outputs": [],
   "source": [
    "#Remove\n",
    "print(\"The number of basic element forces is np = {}\".format(sum(P2.nq)))\n",
    "print(\"The number of free dofs is nf = {}\".format(P2.nf))\n",
    "print(\"The degree of static indeterminacy is NOS = {}\".format(P2.NOS))"
   ]
  },
  {
   "cell_type": "markdown",
   "metadata": {},
   "source": [
    "### Deformation Compatibility\n",
    "The reduced $A_f$ matrix is displayed below in tabular form:"
   ]
  },
  {
   "cell_type": "code",
   "execution_count": null,
   "metadata": {},
   "outputs": [],
   "source": [
    "#Remove\n",
    "A = em.A_matrix(P2).remove(\"frame-axial\").combine(['1', '7']).combine(['3', '8']).combine(['6', '10']).combine(['9','14'])\n",
    "V = em.V_vector(A)\n",
    "U = em.U_vector(A)\n",
    "A.f.c"
   ]
  },
  {
   "cell_type": "markdown",
   "metadata": {},
   "source": [
    "The matrix $\\bar{B}_x$ is computed as follows:"
   ]
  },
  {
   "cell_type": "markdown",
   "metadata": {},
   "source": [
    "The transpose of the $\\bar{B}_x$ matrix is then defined, including the redundant terms:"
   ]
  },
  {
   "cell_type": "code",
   "execution_count": null,
   "metadata": {},
   "outputs": [],
   "source": [
    "#Remove\n",
    "V.set_item('a_2',  2.3416e-3)\n",
    "V.set_item('a_3', -4.6832e-3)\n",
    "V.set_item('b_2',  1.2156e-3)\n",
    "V.set_item('b_3',  2.8375e-3)\n",
    "V.set_item('c_2', -4.4169e-3)\n",
    "V.set_item('c_3', -0.3562e-3)\n",
    "V.set_item('d_2',  4.2701e-3)\n",
    "V.set_item('d_3', -2.3151e-3)\n",
    "V.set_item('e_1', 34.8195e-3)"
   ]
  },
  {
   "cell_type": "markdown",
   "metadata": {},
   "source": [
    "The deformation matrix, V has the following values:"
   ]
  },
  {
   "cell_type": "code",
   "execution_count": null,
   "metadata": {},
   "outputs": [],
   "source": [
    "V.c"
   ]
  },
  {
   "cell_type": "markdown",
   "metadata": {},
   "source": [
    "The product of $V_\\epsilon$ with the transpose of `Bbarx` is essentially zero, indicating compatibility."
   ]
  },
  {
   "cell_type": "markdown",
   "metadata": {},
   "source": [
    "### Displacements at free dofs, $U_f$"
   ]
  },
  {
   "cell_type": "markdown",
   "metadata": {},
   "source": [
    "The kinematic equations are as follows:"
   ]
  },
  {
   "cell_type": "code",
   "execution_count": null,
   "metadata": {},
   "outputs": [],
   "source": [
    "A.f@U.f.symb\n"
   ]
  },
  {
   "cell_type": "markdown",
   "metadata": {},
   "source": [
    "Rearranging these equations and solving for U yields:"
   ]
  },
  {
   "cell_type": "code",
   "execution_count": null,
   "metadata": {},
   "outputs": [],
   "source": [
    "Uf = (A.f.rows(['b2','b3','c3','d2','e1'])[:,0:5].I)@V.rows(['b2','b3','c3','d2','e1'])\n",
    "print(\"The free dof displacements, Uf = {}\".format(Uf))"
   ]
  },
  {
   "cell_type": "code",
   "execution_count": null,
   "metadata": {},
   "outputs": [],
   "source": [
    "Uf.row_data = A.f.column_data\n",
    "em.plot_U(P2, Uf, ax, scale=100)"
   ]
  },
  {
   "cell_type": "markdown",
   "metadata": {},
   "source": [
    "## Part B"
   ]
  },
  {
   "cell_type": "markdown",
   "metadata": {},
   "source": [
    "### Necessary Deformations"
   ]
  },
  {
   "cell_type": "markdown",
   "metadata": {},
   "source": [
    "The new deformation vector, V, has the following values:"
   ]
  },
  {
   "cell_type": "code",
   "execution_count": null,
   "metadata": {},
   "outputs": [],
   "source": [
    "#Remove\n",
    "V = em.V_vector(A)\n",
    "V.set_item('a_2', 0.5*e['a'].L*1e-3)\n",
    "V.set_item('a_3', 0.5*e['a'].L*1e-3)\n",
    "V.set_item('b_2', 0.5*e['b'].L*1e-3)\n",
    "V.set_item('b_3', 0.5*e['b'].L*1e-3)\n",
    "V.set_item('c_2', 0.5*e['c'].L*1e-3)\n",
    "V.set_item('c_3', 0.5*e['c'].L*1e-3)\n",
    "V.c"
   ]
  },
  {
   "cell_type": "code",
   "execution_count": null,
   "metadata": {},
   "outputs": [],
   "source": [
    "U = (A.f.rows(['b2','b3','c3','d2','e1'])[:,0:5].I)@V.rows(['b2','b3','c3','d2','e1'])\n",
    "U.row_data = A.f.column_data\n",
    "print(\"The free dof displacements, Uf = {}\".format(U))"
   ]
  },
  {
   "cell_type": "code",
   "execution_count": null,
   "metadata": {},
   "outputs": [],
   "source": [
    "em.plot_U(P2, U, ax, scale=10)"
   ]
  },
  {
   "cell_type": "code",
   "execution_count": null,
   "metadata": {},
   "outputs": [],
   "source": [
    "n['1'].rxns[0:2]"
   ]
  },
  {
   "cell_type": "code",
   "execution_count": null,
   "metadata": {},
   "outputs": [],
   "source": [
    "U.row_data"
   ]
  },
  {
   "cell_type": "code",
   "execution_count": null,
   "metadata": {},
   "outputs": [],
   "source": [
    "for node in P2.nodes:\n",
    "    print(node.dofs)"
   ]
  }
 ],
 "metadata": {
  "kernelspec": {
   "display_name": "Python 3",
   "language": "python",
   "name": "python3"
  },
  "language_info": {
   "codemirror_mode": {
    "name": "ipython",
    "version": 3
   },
   "file_extension": ".py",
   "mimetype": "text/x-python",
   "name": "python",
   "nbconvert_exporter": "python",
   "pygments_lexer": "ipython3",
   "version": "3.7.4"
  },
  "toc-autonumbering": true
 },
 "nbformat": 4,
 "nbformat_minor": 4
}
