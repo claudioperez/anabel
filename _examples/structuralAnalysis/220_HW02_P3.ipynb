{
 "cells": [
  {
   "cell_type": "code",
   "execution_count": 1,
   "metadata": {},
   "outputs": [],
   "source": [
    "import matplotlib.pyplot as plt\n",
    "import numpy as np\n",
    "import ema as em"
   ]
  },
  {
   "cell_type": "markdown",
   "metadata": {},
   "source": [
    "# Problem 3\n",
    "\n",
    "The reduced static matrix $B_f$, and load vector $P_f$ are assembled in the attached hand calculations, and solved below for the basic force vector, $Q$."
   ]
  },
  {
   "cell_type": "code",
   "execution_count": 12,
   "metadata": {},
   "outputs": [
    {
     "name": "stdout",
     "output_type": "stream",
     "text": [
      "[[  50.  -50. -100.  100.]]\n"
     ]
    }
   ],
   "source": [
    "Bf = np.matrix([[-1/10, 1/10, 1/10, 0.0],\n",
    "                [  1.0,  1.0,  0.0, 0.0],\n",
    "                [  0.0,  0.0,  1.0, 1.0],\n",
    "                [  0.0,  0.0,  0.0,-1/5]])\n",
    "Pf = np.array([-20, 0.0, 0.0, -20])\n",
    "Q = Bf.I@Pf\n",
    "print(Q)"
   ]
  },
  {
   "cell_type": "code",
   "execution_count": 15,
   "metadata": {},
   "outputs": [
    {
     "data": {
      "text/plain": [
       "35.0"
      ]
     },
     "execution_count": 15,
     "metadata": {},
     "output_type": "execute_result"
    }
   ],
   "source": [
    "-(Q[0,1]+Q[0,2])/10+Q[0,3]/5"
   ]
  },
  {
   "cell_type": "code",
   "execution_count": null,
   "metadata": {},
   "outputs": [],
   "source": []
  }
 ],
 "metadata": {
  "kernelspec": {
   "display_name": "Python 3",
   "language": "python",
   "name": "python3"
  },
  "language_info": {
   "codemirror_mode": {
    "name": "ipython",
    "version": 3
   },
   "file_extension": ".py",
   "mimetype": "text/x-python",
   "name": "python",
   "nbconvert_exporter": "python",
   "pygments_lexer": "ipython3",
   "version": "3.7.4"
  }
 },
 "nbformat": 4,
 "nbformat_minor": 4
}
