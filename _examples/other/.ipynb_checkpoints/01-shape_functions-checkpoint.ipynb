{
 "cells": [
  {
   "cell_type": "markdown",
   "metadata": {},
   "source": [
    "## Developed by: Krishna Kumar (krishnak@utexas.edu)"
   ]
  },
  {
   "cell_type": "markdown",
   "metadata": {},
   "source": [
    "# Shape functions (basis functions)"
   ]
  },
  {
   "cell_type": "markdown",
   "metadata": {},
   "source": [
    "This notebook explores the computation of finite element shape functions. We start with the one-dimensional case.\n",
    "\n",
    "We will use NumPy to compute the shape functions, and Matplotlib to visualise the shape functions, so we need to import both:"
   ]
  },
  {
   "cell_type": "code",
   "execution_count": 1,
   "metadata": {},
   "outputs": [],
   "source": [
    "import numpy as np\n",
    "%matplotlib inline\n",
    "import matplotlib.pyplot as plt"
   ]
  },
  {
   "cell_type": "markdown",
   "metadata": {},
   "source": [
    "## Lagrange polynomials in 1D"
   ]
  },
  {
   "cell_type": "markdown",
   "metadata": {},
   "source": [
    "We start with the exmaple of a cubic finite element basis, and then develop a function for plotting shape functions of any order. In all cases we consider the interval $(-1, 1)$."
   ]
  },
  {
   "cell_type": "markdown",
   "metadata": {},
   "source": [
    "### Quadratic basis"
   ]
  },
  {
   "cell_type": "markdown",
   "metadata": {},
   "source": [
    "Quadratic shape functions will have the form:\n",
    "\n",
    "$$\n",
    "N_{i}(x) = c_{0} + c_{1} x + c_{2} x^{2}\n",
    "$$\n",
    "\n",
    "Recall the shape function $N_{i}$ should be equal to one at its own node ($N_{i}(x_{i}) = 1$) and zero at all other nodes ($N_{i}(x_{i}) = 0$ when  $i \\ne j$).\n",
    "\n",
    "The quadratic function has three coefficients, so we need three nodes. First step is to create the nodes on the interval $(-1, 1)$. We will consider equally spaced nodes, in which case we can use the `linspace` function:"
   ]
  },
  {
   "cell_type": "code",
   "execution_count": 2,
   "metadata": {},
   "outputs": [
    {
     "name": "stdout",
     "output_type": "stream",
     "text": [
      "[-1.  0.  1.]\n"
     ]
    }
   ],
   "source": [
    "x_n = np.linspace(-1.0, 1.0, 3)\n",
    "print(x_n)"
   ]
  },
  {
   "cell_type": "markdown",
   "metadata": {},
   "source": [
    "Next, we construct the Vandermonde matrix for a third-order polynomial and the points `x_n`: "
   ]
  },
  {
   "cell_type": "code",
   "execution_count": 3,
   "metadata": {},
   "outputs": [],
   "source": [
    "A = np.vander(x_n, 3)"
   ]
  },
  {
   "cell_type": "markdown",
   "metadata": {},
   "source": [
    "We can now compute the three shape functions by solving $\\boldsymbol{A} \\boldsymbol{c}_{i} = \\boldsymbol{f}_{i}$ to get the polynomial coefficients $\\boldsymbol{c}_{i}$ for the shape function $N_{i}$. Three node $i$, $f_{j=1} = 1$ if $i=j$ and $f_{j} = 0$ if $i \\ne j$. We use a loop to compute the three shape functions at once:"
   ]
  },
  {
   "cell_type": "code",
   "execution_count": null,
   "metadata": {},
   "outputs": [
    {
     "name": "stdout",
     "output_type": "stream",
     "text": [
      "-Shape function for node 0: \n",
      "     2\n",
      "0.5 x - 0.5 x\n",
      "-Shape function for node 1: \n",
      "    2\n",
      "-1 x + 1\n",
      "-Shape function for node 2: \n",
      "     2\n",
      "0.5 x + 0.5 x\n"
     ]
    }
   ],
   "source": [
    "shape_functions = []\n",
    "for i in range(3):\n",
    "    f = np.zeros(3)\n",
    "    f[i] = 1.0\n",
    "    c = np.linalg.solve(A, f)\n",
    "    \n",
    "    shape_functions.append(np.poly1d(c))\n",
    "    print(\"-Shape function for node {}: \\n{}\".format(i, shape_functions[-1]))"
   ]
  },
  {
   "cell_type": "markdown",
   "metadata": {},
   "source": [
    "We can now plot each shape function (we compute each shape function at 200 points to plot the function)."
   ]
  },
  {
   "cell_type": "code",
   "execution_count": null,
   "metadata": {},
   "outputs": [
    {
     "data": {
      "image/png": "[encoded data removed]",
      "text/plain": [
       "<Figure size 432x288 with 1 Axes>"
      ]
     },
     "metadata": {
      "needs_background": "light"
     },
     "output_type": "display_data"
    }
   ],
   "source": [
    "# Evaluate the polynomial at the points\n",
    "x = np.linspace(-1.0, 1.0, 200) \n",
    "plt.plot(x_n, np.zeros(3), '-o', color='k');\n",
    "for shape_function in shape_functions:\n",
    "    N = shape_function(x)\n",
    "    plt.plot(x, N);"
   ]
  },
  {
   "cell_type": "markdown",
   "metadata": {},
   "source": [
    "We can use NumPy to compute the derivatives of the shape function, and then plot these."
   ]
  },
  {
   "cell_type": "code",
   "execution_count": null,
   "metadata": {},
   "outputs": [],
   "source": [
    "x = np.linspace(-1.0, 1.0, 200) \n",
    "plt.plot(x_n, np.zeros(len(x_n)), '-o', color='k');\n",
    "for shape_function in shape_functions:\n",
    "    dshape_function = np.polyder(shape_function)\n",
    "    dN = dshape_function(x)\n",
    "    plt.plot(x, dN);"
   ]
  },
  {
   "cell_type": "markdown",
   "metadata": {},
   "source": [
    "### Arbitary degree Lagrange polynomials"
   ]
  },
  {
   "cell_type": "markdown",
   "metadata": {},
   "source": [
    "We now write a function that performs the above tasks so we can compute and plot shape functions on any degree. The argument to the function, `n`, is the polynomial degree of the shape functions that we wish to compute. "
   ]
  },
  {
   "cell_type": "code",
   "execution_count": null,
   "metadata": {},
   "outputs": [],
   "source": [
    "def plot_lagrange(n):\n",
    "    n = n + 1 # number of nodes\n",
    "    x_n = np.linspace(-1.0, 1.0, n)\n",
    "    A = np.vander(x_n, len(x_n))\n",
    "    \n",
    "    f = np.zeros(n)\n",
    "\n",
    "    shape_functions = []\n",
    "    x = np.linspace(-1.0, 1.0, 200) \n",
    "    plt.plot(x_n, np.zeros(len(x_n)), '-o', color='k');\n",
    "    for i in range(n):\n",
    "        f = np.zeros(n)\n",
    "        f[i] = 1.0\n",
    "        c = np.linalg.solve(A, f)\n",
    "    \n",
    "        plt.plot((x_n, x_n), (0.0, 1.0), '--', color='k');\n",
    "\n",
    "        p = np.poly1d(c)\n",
    "        N = p(x)\n",
    "        plt.plot(x, N);"
   ]
  },
  {
   "cell_type": "markdown",
   "metadata": {},
   "source": [
    "For a $3$rd order polynomial:"
   ]
  },
  {
   "cell_type": "code",
   "execution_count": null,
   "metadata": {},
   "outputs": [],
   "source": [
    "plot_lagrange(3) "
   ]
  }
 ],
 "metadata": {
  "kernelspec": {
   "display_name": "Python 3",
   "language": "python",
   "name": "python3"
  },
  "language_info": {
   "codemirror_mode": {
    "name": "ipython",
    "version": 3
   },
   "file_extension": ".py",
   "mimetype": "text/x-python",
   "name": "python",
   "nbconvert_exporter": "python",
   "pygments_lexer": "ipython3",
   "version": "3.7.4"
  }
 },
 "nbformat": 4,
 "nbformat_minor": 4
}
